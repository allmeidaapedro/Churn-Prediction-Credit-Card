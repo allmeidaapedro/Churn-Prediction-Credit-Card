{
 "cells": [
  {
   "cell_type": "markdown",
   "metadata": {},
   "source": [
    "# Machine learning bank's credit card service churn prediction\n",
    "In this project, I will build a <b>machine learning model to predict customer's probability of churning in a bank's credit card service.</b> It involves <b>supervised learning (using a labeled training set) for classification</b>, where the <b>target</b> is <b>1</b> if the <b>customer churned</b>, else <b>0.</b>\n",
    "\n",
    "I will use the following <b>pipeline</b> based on <b>CRISP-DM framework:</b>\n",
    "\n",
    "<b>1. Define the business problem.</b><br>\n",
    "<b>2. Collect the data and get a general overview of it.</b><br>\n",
    "<b>3. Split the data into train and test sets.</b><br>\n",
    "<b>4. Explore the data (exploratory data analysis)</b><br>\n",
    "<b>5. Data cleaning and preprocessing.</b><br>\n",
    "<b>6. Model training, comparison, selection and tuning.</b><br>\n",
    "<b>7. Final production model testing and evaluation.</b><br>\n",
    "<b>8. Conclude and interpret the model results.</b><br>\n",
    "<b>9. Deploy.</b><br>\n",
    "\n",
    "In <b>this notebook</b>, I will perform <b>machine learning modelling, covering steps 5 to 8 of the pipeline above.</b> The main <b>objective</b> here is to <b>build a model that can predict as many churners as possible, thus recall is the metric of interest.</b> Once I build this model, the <b>bank can plan strategies for client retention, maintaining healthy revenue. Acquiring new customers is costlier than keeping existing ones.</b> Furthermore, I will approach these steps in detail below, explaining why I am making each decision."
   ]
  },
  {
   "cell_type": "markdown",
   "metadata": {},
   "source": [
    "### Importing the libraries"
   ]
  },
  {
   "cell_type": "code",
   "execution_count": 1,
   "metadata": {},
   "outputs": [],
   "source": [
    "# Data manipulation and visualization.\n",
    "import pandas as pd\n",
    "import numpy as np\n",
    "import matplotlib.pyplot as plt\n",
    "import seaborn as sns\n",
    "\n",
    "# Modelling\n",
    "from sklearn.model_selection import train_test_split, StratifiedKFold, cross_val_score\n",
    "from sklearn.pipeline import Pipeline\n",
    "from sklearn.compose import ColumnTransformer\n",
    "from sklearn.preprocessing import OrdinalEncoder, StandardScaler\n",
    "from category_encoders import TargetEncoder\n",
    "from sklearn.metrics import classification_report, roc_auc_score, confusion_matrix, roc_curve\n",
    "from sklearn.linear_model import LogisticRegression\n",
    "from sklearn.svm import LinearSVC, SVC\n",
    "from sklearn.neighbors import KNeighborsClassifier\n",
    "from sklearn.tree import DecisionTreeClassifier\n",
    "from sklearn.ensemble import RandomForestClassifier\n",
    "from xgboost import XGBClassifier\n",
    "from skopt import BayesSearchCV\n",
    "from skopt.space import Real, Categorical, Integer\n",
    "from sklearn.base import clone\n",
    "\n",
    "# Fixing bayesian search error.\n",
    "np.int = int\n",
    "\n",
    "# Filter warnings.\n",
    "import warnings\n",
    "warnings.filterwarnings('ignore')\n",
    "\n",
    "# Utils\n",
    "from notebooks.modelling_utils import *"
   ]
  },
  {
   "cell_type": "markdown",
   "metadata": {},
   "source": [
    "### Reading the dataset"
   ]
  },
  {
   "cell_type": "code",
   "execution_count": 2,
   "metadata": {},
   "outputs": [],
   "source": [
    "df = pd.read_csv('data/BankChurners.csv')\n",
    "\n",
    "# Features that must be dropped.\n",
    "df.drop(columns=['Naive_Bayes_Classifier_Attrition_Flag_Card_Category_Contacts_Count_12_mon_Dependent_count_Education_Level_Months_Inactive_12_mon_2', 'Naive_Bayes_Classifier_Attrition_Flag_Card_Category_Contacts_Count_12_mon_Dependent_count_Education_Level_Months_Inactive_12_mon_1'], inplace=True)"
   ]
  },
  {
   "cell_type": "code",
   "execution_count": 3,
   "metadata": {},
   "outputs": [
    {
     "data": {
      "text/html": [
       "<div>\n",
       "<style scoped>\n",
       "    .dataframe tbody tr th:only-of-type {\n",
       "        vertical-align: middle;\n",
       "    }\n",
       "\n",
       "    .dataframe tbody tr th {\n",
       "        vertical-align: top;\n",
       "    }\n",
       "\n",
       "    .dataframe thead th {\n",
       "        text-align: right;\n",
       "    }\n",
       "</style>\n",
       "<table border=\"1\" class=\"dataframe\">\n",
       "  <thead>\n",
       "    <tr style=\"text-align: right;\">\n",
       "      <th></th>\n",
       "      <th>CLIENTNUM</th>\n",
       "      <th>Attrition_Flag</th>\n",
       "      <th>Customer_Age</th>\n",
       "      <th>Gender</th>\n",
       "      <th>Dependent_count</th>\n",
       "      <th>Education_Level</th>\n",
       "      <th>Marital_Status</th>\n",
       "      <th>Income_Category</th>\n",
       "      <th>Card_Category</th>\n",
       "      <th>Months_on_book</th>\n",
       "      <th>...</th>\n",
       "      <th>Months_Inactive_12_mon</th>\n",
       "      <th>Contacts_Count_12_mon</th>\n",
       "      <th>Credit_Limit</th>\n",
       "      <th>Total_Revolving_Bal</th>\n",
       "      <th>Avg_Open_To_Buy</th>\n",
       "      <th>Total_Amt_Chng_Q4_Q1</th>\n",
       "      <th>Total_Trans_Amt</th>\n",
       "      <th>Total_Trans_Ct</th>\n",
       "      <th>Total_Ct_Chng_Q4_Q1</th>\n",
       "      <th>Avg_Utilization_Ratio</th>\n",
       "    </tr>\n",
       "  </thead>\n",
       "  <tbody>\n",
       "    <tr>\n",
       "      <th>0</th>\n",
       "      <td>768805383</td>\n",
       "      <td>Existing Customer</td>\n",
       "      <td>45</td>\n",
       "      <td>M</td>\n",
       "      <td>3</td>\n",
       "      <td>High School</td>\n",
       "      <td>Married</td>\n",
       "      <td>$60K - $80K</td>\n",
       "      <td>Blue</td>\n",
       "      <td>39</td>\n",
       "      <td>...</td>\n",
       "      <td>1</td>\n",
       "      <td>3</td>\n",
       "      <td>12691.0</td>\n",
       "      <td>777</td>\n",
       "      <td>11914.0</td>\n",
       "      <td>1.335</td>\n",
       "      <td>1144</td>\n",
       "      <td>42</td>\n",
       "      <td>1.625</td>\n",
       "      <td>0.061</td>\n",
       "    </tr>\n",
       "    <tr>\n",
       "      <th>1</th>\n",
       "      <td>818770008</td>\n",
       "      <td>Existing Customer</td>\n",
       "      <td>49</td>\n",
       "      <td>F</td>\n",
       "      <td>5</td>\n",
       "      <td>Graduate</td>\n",
       "      <td>Single</td>\n",
       "      <td>Less than $40K</td>\n",
       "      <td>Blue</td>\n",
       "      <td>44</td>\n",
       "      <td>...</td>\n",
       "      <td>1</td>\n",
       "      <td>2</td>\n",
       "      <td>8256.0</td>\n",
       "      <td>864</td>\n",
       "      <td>7392.0</td>\n",
       "      <td>1.541</td>\n",
       "      <td>1291</td>\n",
       "      <td>33</td>\n",
       "      <td>3.714</td>\n",
       "      <td>0.105</td>\n",
       "    </tr>\n",
       "    <tr>\n",
       "      <th>2</th>\n",
       "      <td>713982108</td>\n",
       "      <td>Existing Customer</td>\n",
       "      <td>51</td>\n",
       "      <td>M</td>\n",
       "      <td>3</td>\n",
       "      <td>Graduate</td>\n",
       "      <td>Married</td>\n",
       "      <td>$80K - $120K</td>\n",
       "      <td>Blue</td>\n",
       "      <td>36</td>\n",
       "      <td>...</td>\n",
       "      <td>1</td>\n",
       "      <td>0</td>\n",
       "      <td>3418.0</td>\n",
       "      <td>0</td>\n",
       "      <td>3418.0</td>\n",
       "      <td>2.594</td>\n",
       "      <td>1887</td>\n",
       "      <td>20</td>\n",
       "      <td>2.333</td>\n",
       "      <td>0.000</td>\n",
       "    </tr>\n",
       "    <tr>\n",
       "      <th>3</th>\n",
       "      <td>769911858</td>\n",
       "      <td>Existing Customer</td>\n",
       "      <td>40</td>\n",
       "      <td>F</td>\n",
       "      <td>4</td>\n",
       "      <td>High School</td>\n",
       "      <td>Unknown</td>\n",
       "      <td>Less than $40K</td>\n",
       "      <td>Blue</td>\n",
       "      <td>34</td>\n",
       "      <td>...</td>\n",
       "      <td>4</td>\n",
       "      <td>1</td>\n",
       "      <td>3313.0</td>\n",
       "      <td>2517</td>\n",
       "      <td>796.0</td>\n",
       "      <td>1.405</td>\n",
       "      <td>1171</td>\n",
       "      <td>20</td>\n",
       "      <td>2.333</td>\n",
       "      <td>0.760</td>\n",
       "    </tr>\n",
       "    <tr>\n",
       "      <th>4</th>\n",
       "      <td>709106358</td>\n",
       "      <td>Existing Customer</td>\n",
       "      <td>40</td>\n",
       "      <td>M</td>\n",
       "      <td>3</td>\n",
       "      <td>Uneducated</td>\n",
       "      <td>Married</td>\n",
       "      <td>$60K - $80K</td>\n",
       "      <td>Blue</td>\n",
       "      <td>21</td>\n",
       "      <td>...</td>\n",
       "      <td>1</td>\n",
       "      <td>0</td>\n",
       "      <td>4716.0</td>\n",
       "      <td>0</td>\n",
       "      <td>4716.0</td>\n",
       "      <td>2.175</td>\n",
       "      <td>816</td>\n",
       "      <td>28</td>\n",
       "      <td>2.500</td>\n",
       "      <td>0.000</td>\n",
       "    </tr>\n",
       "  </tbody>\n",
       "</table>\n",
       "<p>5 rows × 21 columns</p>\n",
       "</div>"
      ],
      "text/plain": [
       "   CLIENTNUM     Attrition_Flag  Customer_Age Gender  Dependent_count   \n",
       "0  768805383  Existing Customer            45      M                3  \\\n",
       "1  818770008  Existing Customer            49      F                5   \n",
       "2  713982108  Existing Customer            51      M                3   \n",
       "3  769911858  Existing Customer            40      F                4   \n",
       "4  709106358  Existing Customer            40      M                3   \n",
       "\n",
       "  Education_Level Marital_Status Income_Category Card_Category   \n",
       "0     High School        Married     $60K - $80K          Blue  \\\n",
       "1        Graduate         Single  Less than $40K          Blue   \n",
       "2        Graduate        Married    $80K - $120K          Blue   \n",
       "3     High School        Unknown  Less than $40K          Blue   \n",
       "4      Uneducated        Married     $60K - $80K          Blue   \n",
       "\n",
       "   Months_on_book  ...  Months_Inactive_12_mon  Contacts_Count_12_mon   \n",
       "0              39  ...                       1                      3  \\\n",
       "1              44  ...                       1                      2   \n",
       "2              36  ...                       1                      0   \n",
       "3              34  ...                       4                      1   \n",
       "4              21  ...                       1                      0   \n",
       "\n",
       "   Credit_Limit  Total_Revolving_Bal  Avg_Open_To_Buy  Total_Amt_Chng_Q4_Q1   \n",
       "0       12691.0                  777          11914.0                 1.335  \\\n",
       "1        8256.0                  864           7392.0                 1.541   \n",
       "2        3418.0                    0           3418.0                 2.594   \n",
       "3        3313.0                 2517            796.0                 1.405   \n",
       "4        4716.0                    0           4716.0                 2.175   \n",
       "\n",
       "   Total_Trans_Amt  Total_Trans_Ct  Total_Ct_Chng_Q4_Q1  Avg_Utilization_Ratio  \n",
       "0             1144              42                1.625                  0.061  \n",
       "1             1291              33                3.714                  0.105  \n",
       "2             1887              20                2.333                  0.000  \n",
       "3             1171              20                2.333                  0.760  \n",
       "4              816              28                2.500                  0.000  \n",
       "\n",
       "[5 rows x 21 columns]"
      ]
     },
     "execution_count": 3,
     "metadata": {},
     "output_type": "execute_result"
    }
   ],
   "source": [
    "df.head()"
   ]
  },
  {
   "cell_type": "markdown",
   "metadata": {},
   "source": [
    "- I will drop the CLIENTNUM variable because it has an unique value for each record, not being useful for the analysis.\n",
    "- I will rename the columns in a standard format in order to turn the data manipulation easier. Moreover, attrition_flag will be renamed as churn_flag for interpretation purposes.\n",
    "- I will express Gender and Attrition_Flag variables as binary. This will make eda easier, like when looking at percentual values."
   ]
  },
  {
   "cell_type": "code",
   "execution_count": 4,
   "metadata": {},
   "outputs": [],
   "source": [
    "df.drop(columns=['CLIENTNUM'], inplace=True)"
   ]
  },
  {
   "cell_type": "code",
   "execution_count": 5,
   "metadata": {},
   "outputs": [],
   "source": [
    "df.columns = [x.lower() for x in df.columns]"
   ]
  },
  {
   "cell_type": "code",
   "execution_count": 6,
   "metadata": {},
   "outputs": [],
   "source": [
    "df['gender'] = df['gender'].map({'M': 1, 'F': 0})\n",
    "df['attrition_flag'] = df['attrition_flag'].map({'Attrited Customer': 1, 'Existing Customer': 0})"
   ]
  },
  {
   "cell_type": "code",
   "execution_count": 7,
   "metadata": {},
   "outputs": [],
   "source": [
    "df.rename(columns={'attrition_flag': 'churn_flag'}, inplace=True)"
   ]
  },
  {
   "cell_type": "markdown",
   "metadata": {},
   "source": [
    "### Split the data into train and test sets\n",
    "- First of all, I will split the data into train and test sets.\n",
    "- Test set is supposed to be data the model has never seen before.\n",
    "- This split will avoid data leakage, which occurs when information from the test set or future data inadvertently leaks into the training process, leading to over-optimistic performance estimate, compromising the model's ability to generalize to new, unseen data.\n",
    "- A good practice to protect the model against data leakage is perform fit_transform on training data and just transform on test data when applying preprocessing steps after the split.\n",
    "- I will specify stratify=y so that the train_test_split function ensures that the splitting process maintains the same percentage of each target class in both the training and testing sets. This is particularly useful when dealing with imbalanced datasets, which is the case, as there are more existing customers than attrited ones."
   ]
  },
  {
   "cell_type": "code",
   "execution_count": 8,
   "metadata": {},
   "outputs": [],
   "source": [
    "X = df.drop(columns=['churn_flag'])\n",
    "y = df['churn_flag'].copy()\n",
    "\n",
    "X_train, X_test, y_train, y_test = train_test_split(X, y, test_size=0.2, stratify=y, random_state=42)"
   ]
  },
  {
   "cell_type": "code",
   "execution_count": 9,
   "metadata": {},
   "outputs": [
    {
     "name": "stdout",
     "output_type": "stream",
     "text": [
      "Train predictor dataset shape: (8101, 19).\n",
      "Train target dataset shape: (8101,).\n",
      "Test predictor dataset shape: (2026, 19).\n",
      "Test target dataset shape: (2026,).\n"
     ]
    }
   ],
   "source": [
    "print(f'Train predictor dataset shape: {X_train.shape}.')\n",
    "print(f'Train target dataset shape: {y_train.shape}.')\n",
    "print(f'Test predictor dataset shape: {X_test.shape}.')\n",
    "print(f'Test target dataset shape: {y_test.shape}.')"
   ]
  },
  {
   "cell_type": "code",
   "execution_count": 10,
   "metadata": {},
   "outputs": [
    {
     "name": "stdout",
     "output_type": "stream",
     "text": [
      "Train target proportion: \n",
      "churn_flag\n",
      "0    0.839279\n",
      "1    0.160721\n",
      "Name: proportion, dtype: float64\n",
      "\n",
      "Test target proportion: \n",
      "churn_flag\n",
      "0    0.839585\n",
      "1    0.160415\n",
      "Name: proportion, dtype: float64\n"
     ]
    }
   ],
   "source": [
    "print(f'Train target proportion: ')\n",
    "print(f'{y_train.value_counts(normalize=True)}')\n",
    "print(f'\\nTest target proportion: ')\n",
    "print(f'{y_test.value_counts(normalize=True)}')"
   ]
  },
  {
   "cell_type": "markdown",
   "metadata": {},
   "source": [
    "The target classes proportions were preserved."
   ]
  },
  {
   "cell_type": "markdown",
   "metadata": {},
   "source": [
    "# 5. Data cleaning and preprocessing\n",
    "In order to fit machine learning algorithms, it is necessary to apply some transformations to the data.\n",
    "- <b>Impute missing values:</b> The dataset doesn't have missing values. So it will not be necessary to impute any.\n",
    "- <b>Outliers:</b> In the eda step, I investigated the outliers and saw they don't represent inconsistent information like measurement errors. Thus, considering this and the fact that they carry valuable information for the model, I will not drop or treat any.\n",
    "- In order to train tree-based algorithms, it is not necessary to scale the data. However, as I intend to test different algorithms, I will apply standard scaler on numerical and categorical features (after encoding). By doing this, it will be possible to compare all models at once.\n",
    "- <b>Numerical features:</b> Some algorithms are sensitive to feature scaling because they use distance calculations or optimizations like gradient descent for being trained, which are affected by scale. Thus, I will apply StandardScaler on numeric attributes (it is more robust to outliers than MinMaxScaler, which uses range).\n",
    "- <b>Categorical features:</b> Machine learning algorithms make mathematical calculations, so it's necessary to convert the categoric attributes to numeric by applying encoding techniques. Education level, income category, and card category present ordinal relationships. Thus, I will choose OrdinalEncoder for encoding them, in order to preserve this behavior. Moreover, once OneHotEncoder might be harmful for tree-based models (because of increased dimensionality and sparse representation) and favor overfitting, I will apply TargetEncoder on marital status. After all these variables are encoded/converted to numeric, I will apply StandardScaler because, as I've mentioned above, I intend to test a bunch of models at once, and some of them are sensitive to scale.\n",
    "- Once the proportions of the 'Unknown' category within education level, income category, and marital status are low, and these variables seem to have a minimal effect on the dependent variable (I verified this on the EDA step), I will leave it untreated."
   ]
  },
  {
   "cell_type": "code",
   "execution_count": 11,
   "metadata": {},
   "outputs": [
    {
     "data": {
      "text/html": [
       "<div>\n",
       "<style scoped>\n",
       "    .dataframe tbody tr th:only-of-type {\n",
       "        vertical-align: middle;\n",
       "    }\n",
       "\n",
       "    .dataframe tbody tr th {\n",
       "        vertical-align: top;\n",
       "    }\n",
       "\n",
       "    .dataframe thead th {\n",
       "        text-align: right;\n",
       "    }\n",
       "</style>\n",
       "<table border=\"1\" class=\"dataframe\">\n",
       "  <thead>\n",
       "    <tr style=\"text-align: right;\">\n",
       "      <th></th>\n",
       "      <th>customer_age</th>\n",
       "      <th>gender</th>\n",
       "      <th>dependent_count</th>\n",
       "      <th>education_level</th>\n",
       "      <th>marital_status</th>\n",
       "      <th>income_category</th>\n",
       "      <th>card_category</th>\n",
       "      <th>months_on_book</th>\n",
       "      <th>total_relationship_count</th>\n",
       "      <th>months_inactive_12_mon</th>\n",
       "      <th>contacts_count_12_mon</th>\n",
       "      <th>credit_limit</th>\n",
       "      <th>total_revolving_bal</th>\n",
       "      <th>avg_open_to_buy</th>\n",
       "      <th>total_amt_chng_q4_q1</th>\n",
       "      <th>total_trans_amt</th>\n",
       "      <th>total_trans_ct</th>\n",
       "      <th>total_ct_chng_q4_q1</th>\n",
       "      <th>avg_utilization_ratio</th>\n",
       "    </tr>\n",
       "  </thead>\n",
       "  <tbody>\n",
       "    <tr>\n",
       "      <th>2856</th>\n",
       "      <td>36</td>\n",
       "      <td>0</td>\n",
       "      <td>0</td>\n",
       "      <td>Unknown</td>\n",
       "      <td>Married</td>\n",
       "      <td>Less than $40K</td>\n",
       "      <td>Blue</td>\n",
       "      <td>24</td>\n",
       "      <td>4</td>\n",
       "      <td>3</td>\n",
       "      <td>2</td>\n",
       "      <td>2570.0</td>\n",
       "      <td>2230</td>\n",
       "      <td>340.0</td>\n",
       "      <td>0.686</td>\n",
       "      <td>1755</td>\n",
       "      <td>42</td>\n",
       "      <td>0.448</td>\n",
       "      <td>0.868</td>\n",
       "    </tr>\n",
       "    <tr>\n",
       "      <th>6515</th>\n",
       "      <td>44</td>\n",
       "      <td>1</td>\n",
       "      <td>3</td>\n",
       "      <td>High School</td>\n",
       "      <td>Single</td>\n",
       "      <td>$60K - $80K</td>\n",
       "      <td>Silver</td>\n",
       "      <td>36</td>\n",
       "      <td>5</td>\n",
       "      <td>2</td>\n",
       "      <td>3</td>\n",
       "      <td>25276.0</td>\n",
       "      <td>0</td>\n",
       "      <td>25276.0</td>\n",
       "      <td>0.849</td>\n",
       "      <td>2282</td>\n",
       "      <td>38</td>\n",
       "      <td>0.583</td>\n",
       "      <td>0.000</td>\n",
       "    </tr>\n",
       "    <tr>\n",
       "      <th>7141</th>\n",
       "      <td>46</td>\n",
       "      <td>1</td>\n",
       "      <td>2</td>\n",
       "      <td>High School</td>\n",
       "      <td>Married</td>\n",
       "      <td>$80K - $120K</td>\n",
       "      <td>Blue</td>\n",
       "      <td>30</td>\n",
       "      <td>6</td>\n",
       "      <td>3</td>\n",
       "      <td>1</td>\n",
       "      <td>11670.0</td>\n",
       "      <td>915</td>\n",
       "      <td>10755.0</td>\n",
       "      <td>0.892</td>\n",
       "      <td>4277</td>\n",
       "      <td>89</td>\n",
       "      <td>0.854</td>\n",
       "      <td>0.078</td>\n",
       "    </tr>\n",
       "    <tr>\n",
       "      <th>632</th>\n",
       "      <td>36</td>\n",
       "      <td>0</td>\n",
       "      <td>2</td>\n",
       "      <td>Graduate</td>\n",
       "      <td>Married</td>\n",
       "      <td>Less than $40K</td>\n",
       "      <td>Blue</td>\n",
       "      <td>24</td>\n",
       "      <td>3</td>\n",
       "      <td>1</td>\n",
       "      <td>3</td>\n",
       "      <td>3124.0</td>\n",
       "      <td>1593</td>\n",
       "      <td>1531.0</td>\n",
       "      <td>0.869</td>\n",
       "      <td>1652</td>\n",
       "      <td>41</td>\n",
       "      <td>0.367</td>\n",
       "      <td>0.510</td>\n",
       "    </tr>\n",
       "    <tr>\n",
       "      <th>3496</th>\n",
       "      <td>50</td>\n",
       "      <td>1</td>\n",
       "      <td>1</td>\n",
       "      <td>Graduate</td>\n",
       "      <td>Single</td>\n",
       "      <td>$120K +</td>\n",
       "      <td>Blue</td>\n",
       "      <td>40</td>\n",
       "      <td>4</td>\n",
       "      <td>2</td>\n",
       "      <td>3</td>\n",
       "      <td>34516.0</td>\n",
       "      <td>1185</td>\n",
       "      <td>33331.0</td>\n",
       "      <td>0.725</td>\n",
       "      <td>3874</td>\n",
       "      <td>72</td>\n",
       "      <td>0.714</td>\n",
       "      <td>0.034</td>\n",
       "    </tr>\n",
       "  </tbody>\n",
       "</table>\n",
       "</div>"
      ],
      "text/plain": [
       "      customer_age  gender  dependent_count education_level marital_status   \n",
       "2856            36       0                0         Unknown        Married  \\\n",
       "6515            44       1                3     High School         Single   \n",
       "7141            46       1                2     High School        Married   \n",
       "632             36       0                2        Graduate        Married   \n",
       "3496            50       1                1        Graduate         Single   \n",
       "\n",
       "     income_category card_category  months_on_book  total_relationship_count   \n",
       "2856  Less than $40K          Blue              24                         4  \\\n",
       "6515     $60K - $80K        Silver              36                         5   \n",
       "7141    $80K - $120K          Blue              30                         6   \n",
       "632   Less than $40K          Blue              24                         3   \n",
       "3496         $120K +          Blue              40                         4   \n",
       "\n",
       "      months_inactive_12_mon  contacts_count_12_mon  credit_limit   \n",
       "2856                       3                      2        2570.0  \\\n",
       "6515                       2                      3       25276.0   \n",
       "7141                       3                      1       11670.0   \n",
       "632                        1                      3        3124.0   \n",
       "3496                       2                      3       34516.0   \n",
       "\n",
       "      total_revolving_bal  avg_open_to_buy  total_amt_chng_q4_q1   \n",
       "2856                 2230            340.0                 0.686  \\\n",
       "6515                    0          25276.0                 0.849   \n",
       "7141                  915          10755.0                 0.892   \n",
       "632                  1593           1531.0                 0.869   \n",
       "3496                 1185          33331.0                 0.725   \n",
       "\n",
       "      total_trans_amt  total_trans_ct  total_ct_chng_q4_q1   \n",
       "2856             1755              42                0.448  \\\n",
       "6515             2282              38                0.583   \n",
       "7141             4277              89                0.854   \n",
       "632              1652              41                0.367   \n",
       "3496             3874              72                0.714   \n",
       "\n",
       "      avg_utilization_ratio  \n",
       "2856                  0.868  \n",
       "6515                  0.000  \n",
       "7141                  0.078  \n",
       "632                   0.510  \n",
       "3496                  0.034  "
      ]
     },
     "execution_count": 11,
     "metadata": {},
     "output_type": "execute_result"
    }
   ],
   "source": [
    "X_train.head()"
   ]
  },
  {
   "cell_type": "markdown",
   "metadata": {},
   "source": [
    "Checking missing values."
   ]
  },
  {
   "cell_type": "code",
   "execution_count": 12,
   "metadata": {},
   "outputs": [
    {
     "data": {
      "text/plain": [
       "customer_age                0\n",
       "gender                      0\n",
       "dependent_count             0\n",
       "education_level             0\n",
       "marital_status              0\n",
       "income_category             0\n",
       "card_category               0\n",
       "months_on_book              0\n",
       "total_relationship_count    0\n",
       "months_inactive_12_mon      0\n",
       "contacts_count_12_mon       0\n",
       "credit_limit                0\n",
       "total_revolving_bal         0\n",
       "avg_open_to_buy             0\n",
       "total_amt_chng_q4_q1        0\n",
       "total_trans_amt             0\n",
       "total_trans_ct              0\n",
       "total_ct_chng_q4_q1         0\n",
       "avg_utilization_ratio       0\n",
       "dtype: int64"
      ]
     },
     "execution_count": 12,
     "metadata": {},
     "output_type": "execute_result"
    }
   ],
   "source": [
    "X_train.isna().sum()"
   ]
  },
  {
   "cell_type": "markdown",
   "metadata": {},
   "source": [
    "Checking numerical features."
   ]
  },
  {
   "cell_type": "code",
   "execution_count": 13,
   "metadata": {},
   "outputs": [
    {
     "name": "stdout",
     "output_type": "stream",
     "text": [
      "There are 15 numerical features.\n",
      "They are:\n",
      "['customer_age', 'gender', 'dependent_count', 'months_on_book', 'total_relationship_count', 'months_inactive_12_mon', 'contacts_count_12_mon', 'credit_limit', 'total_revolving_bal', 'avg_open_to_buy', 'total_amt_chng_q4_q1', 'total_trans_amt', 'total_trans_ct', 'total_ct_chng_q4_q1', 'avg_utilization_ratio']\n"
     ]
    }
   ],
   "source": [
    "numerical_features = X_train.select_dtypes('number').columns.to_list()\n",
    "print(f'There are {len(numerical_features)} numerical features.')\n",
    "print('They are:')\n",
    "print(numerical_features)"
   ]
  },
  {
   "cell_type": "markdown",
   "metadata": {},
   "source": [
    "Checking categorical features cardinality and unique values."
   ]
  },
  {
   "cell_type": "code",
   "execution_count": 14,
   "metadata": {},
   "outputs": [
    {
     "name": "stdout",
     "output_type": "stream",
     "text": [
      "There are 4 categorical features.\n",
      "They are: \n",
      "['education_level', 'marital_status', 'income_category', 'card_category']\n"
     ]
    }
   ],
   "source": [
    "categorical_features = X_train.select_dtypes('object').columns.to_list()\n",
    "print(f'There are {len(categorical_features)} categorical features.')\n",
    "print('They are: ')\n",
    "print(categorical_features)"
   ]
  },
  {
   "cell_type": "code",
   "execution_count": 15,
   "metadata": {},
   "outputs": [
    {
     "name": "stdout",
     "output_type": "stream",
     "text": [
      "education_level\n",
      "----------------------------------------\n",
      "There are 7 unique values. They are: \n",
      "education_level\n",
      "Graduate         0.306382\n",
      "High School      0.203679\n",
      "Unknown          0.148994\n",
      "Uneducated       0.146031\n",
      "College          0.098259\n",
      "Post-Graduate    0.052710\n",
      "Doctorate        0.043945\n",
      "Name: proportion, dtype: float64\n",
      "\n",
      "marital_status\n",
      "----------------------------------------\n",
      "There are 4 unique values. They are: \n",
      "marital_status\n",
      "Married     0.463523\n",
      "Single      0.387853\n",
      "Unknown     0.074682\n",
      "Divorced    0.073941\n",
      "Name: proportion, dtype: float64\n",
      "\n",
      "income_category\n",
      "----------------------------------------\n",
      "There are 6 unique values. They are: \n",
      "income_category\n",
      "Less than $40K    0.349586\n",
      "$40K - $60K       0.178990\n",
      "$80K - $120K      0.149241\n",
      "$60K - $80K       0.140230\n",
      "Unknown           0.109369\n",
      "$120K +           0.072584\n",
      "Name: proportion, dtype: float64\n",
      "\n",
      "card_category\n",
      "----------------------------------------\n",
      "There are 4 unique values. They are: \n",
      "card_category\n",
      "Blue        0.933095\n",
      "Silver      0.053203\n",
      "Gold        0.011604\n",
      "Platinum    0.002099\n",
      "Name: proportion, dtype: float64\n",
      "\n"
     ]
    }
   ],
   "source": [
    "for feature in categorical_features:\n",
    "    print(feature)\n",
    "    print('-'*40)\n",
    "    print(f'There are {X_train[feature].nunique()} unique values. They are: ')\n",
    "    print(X_train[feature].value_counts(normalize=True))\n",
    "    print()"
   ]
  },
  {
   "cell_type": "markdown",
   "metadata": {},
   "source": [
    "I will build the preprocessor below, following the techniques I have mentioned above."
   ]
  },
  {
   "cell_type": "code",
   "execution_count": 16,
   "metadata": {},
   "outputs": [],
   "source": [
    "target_encoder_feature = ['marital_status']\n",
    "ordinal_encoder_features = list(filter(lambda x: x != 'marital_status', categorical_features))"
   ]
  },
  {
   "cell_type": "code",
   "execution_count": 17,
   "metadata": {},
   "outputs": [],
   "source": [
    "ordinal_pipeline = Pipeline(\n",
    "    steps=[\n",
    "        ('ordinal_encoder', OrdinalEncoder()),\n",
    "        ('std_scaler', StandardScaler())\n",
    "    ]\n",
    ")\n",
    "\n",
    "target_pipeline = Pipeline(\n",
    "    steps=[\n",
    "        ('target_encoder', TargetEncoder(cols=target_encoder_feature)),\n",
    "        ('std_scaler', StandardScaler())\n",
    "    ]\n",
    ")\n",
    "\n",
    "preprocessor = ColumnTransformer(\n",
    "    transformers=[\n",
    "        ('ordinal', ordinal_pipeline, ordinal_encoder_features),\n",
    "        ('target', target_pipeline, target_encoder_feature),\n",
    "        ('std_scaler', StandardScaler(), numerical_features)\n",
    "    ], remainder='passthrough'\n",
    ")"
   ]
  },
  {
   "cell_type": "code",
   "execution_count": 18,
   "metadata": {},
   "outputs": [
    {
     "data": {
      "text/plain": [
       "(8101, 19)"
      ]
     },
     "execution_count": 18,
     "metadata": {},
     "output_type": "execute_result"
    }
   ],
   "source": [
    "X_train_prepared = preprocessor.fit_transform(X_train, y_train)\n",
    "X_train_prepared.shape"
   ]
  },
  {
   "cell_type": "markdown",
   "metadata": {},
   "source": [
    "# 6. Model training, comparison, selection and tuning\n",
    "- In this step, I intend to compare different models performances. In order to achieve this, I will use stratified k-fold cross validation to train each one of them and evaluate their ROC-AUC score. Accuracy is not a good metric because the target is imbalanced. Moreover, stratified k-fold cross validation will maintain the target proportion on each fold, dealing with the imbalanced target as well.\n",
    "- <b>K-fold cross-validation</b> is a technique used in machine learning to assess the performance of a model. It involves dividing the dataset into K subsets, using K-1 for training and one for testing iteratively. This helps in estimating a model's generalization ability by reducing the risk of overfitting and providing more reliable performance metrics.\n",
    "- My objective here is to select a best model to go for hyperparameter tuning. In order to get this best model, I will evaluate the highest roc-auc average validation scores and look at the bias-variance trade-off.\n",
    "- After selecting a model, I will tune its hyperparameters.\n",
    "- <b>Hyperparameter tuning</b> refers to the process of selecting the optimal hyperparameters for a machine learning model. Hyperparameters are parameters that are set before the model is trained and directly influence its performance but are not learned from the data."
   ]
  },
  {
   "cell_type": "markdown",
   "metadata": {},
   "source": [
    "Training the models and comparing their performances (roc-auc score) with stratified k-fold cross validation in order to choose one of them for hyperparameter tuning."
   ]
  },
  {
   "cell_type": "code",
   "execution_count": 19,
   "metadata": {},
   "outputs": [],
   "source": [
    "models = {\n",
    "    'Logistic Regression': LogisticRegression(),\n",
    "    'Linear SVM': LinearSVC(),\n",
    "    'SVM': SVC(),\n",
    "    'K-Nearest Neighbors': KNeighborsClassifier(),\n",
    "    'Decision Tree': DecisionTreeClassifier(),\n",
    "    'Random Forest': RandomForestClassifier(),\n",
    "    'XGBoost': XGBClassifier()\n",
    "}"
   ]
  },
  {
   "cell_type": "code",
   "execution_count": 20,
   "metadata": {},
   "outputs": [
    {
     "name": "stdout",
     "output_type": "stream",
     "text": [
      "Logistic Regression results: \n",
      "--------------------------------------------------\n",
      "Training score: 0.7774691950045061\n",
      "Average validation score: 0.9246184502141572\n",
      "Standard deviation: 0.0067341895575112175\n",
      "Training time: 0.20628 seconds\n",
      "\n",
      "Linear SVM results: \n",
      "--------------------------------------------------\n",
      "Training score: 0.7738005995731277\n",
      "Average validation score: 0.9239775038402008\n",
      "Standard deviation: 0.0067472528114618045\n",
      "Training time: 0.37503 seconds\n",
      "\n",
      "SVM results: \n",
      "--------------------------------------------------\n",
      "Training score: 0.8693740879486885\n",
      "Average validation score: 0.9646058713376107\n",
      "Standard deviation: 0.003675693481127849\n",
      "Training time: 0.71733 seconds\n",
      "\n",
      "K-Nearest Neighbors results: \n",
      "--------------------------------------------------\n",
      "Training score: 0.8217959336660379\n",
      "Average validation score: 0.893980077704563\n",
      "Standard deviation: 0.009623366108436573\n",
      "Training time: 0.0 seconds\n",
      "\n",
      "Decision Tree results: \n",
      "--------------------------------------------------\n",
      "Training score: 1.0\n",
      "Average validation score: 0.8823838807836799\n",
      "Standard deviation: 0.009878691991445424\n",
      "Training time: 0.29583 seconds\n",
      "\n",
      "Random Forest results: \n",
      "--------------------------------------------------\n",
      "Training score: 1.0\n",
      "Average validation score: 0.9883414922945819\n",
      "Standard deviation: 0.002641309669184329\n",
      "Training time: 2.20743 seconds\n",
      "\n",
      "XGBoost results: \n",
      "--------------------------------------------------\n",
      "Training score: 1.0\n",
      "Average validation score: 0.9927042340861723\n",
      "Standard deviation: 0.0015715046453740264\n",
      "Training time: 1.68759 seconds\n",
      "\n",
      "Plotting the results: \n"
     ]
    },
    {
     "data": {
      "image/png": "[encoded data removed]",
      "text/plain": [
       "<Figure size 1500x600 with 1 Axes>"
      ]
     },
     "metadata": {},
     "output_type": "display_data"
    }
   ],
   "source": [
    "eval_df = evaluate_models_cv(models, X_train_prepared, y_train)"
   ]
  },
  {
   "cell_type": "code",
   "execution_count": 21,
   "metadata": {},
   "outputs": [
    {
     "data": {
      "text/html": [
       "<div>\n",
       "<style scoped>\n",
       "    .dataframe tbody tr th:only-of-type {\n",
       "        vertical-align: middle;\n",
       "    }\n",
       "\n",
       "    .dataframe tbody tr th {\n",
       "        vertical-align: top;\n",
       "    }\n",
       "\n",
       "    .dataframe thead th {\n",
       "        text-align: right;\n",
       "    }\n",
       "</style>\n",
       "<table border=\"1\" class=\"dataframe\">\n",
       "  <thead>\n",
       "    <tr style=\"text-align: right;\">\n",
       "      <th></th>\n",
       "      <th>Model</th>\n",
       "      <th>Average Val Score</th>\n",
       "      <th>Train Score</th>\n",
       "    </tr>\n",
       "  </thead>\n",
       "  <tbody>\n",
       "    <tr>\n",
       "      <th>0</th>\n",
       "      <td>XGBoost</td>\n",
       "      <td>0.992704</td>\n",
       "      <td>1.000000</td>\n",
       "    </tr>\n",
       "    <tr>\n",
       "      <th>1</th>\n",
       "      <td>Random Forest</td>\n",
       "      <td>0.988341</td>\n",
       "      <td>1.000000</td>\n",
       "    </tr>\n",
       "    <tr>\n",
       "      <th>2</th>\n",
       "      <td>SVM</td>\n",
       "      <td>0.964606</td>\n",
       "      <td>0.869374</td>\n",
       "    </tr>\n",
       "    <tr>\n",
       "      <th>3</th>\n",
       "      <td>Logistic Regression</td>\n",
       "      <td>0.924618</td>\n",
       "      <td>0.777469</td>\n",
       "    </tr>\n",
       "    <tr>\n",
       "      <th>4</th>\n",
       "      <td>Linear SVM</td>\n",
       "      <td>0.923978</td>\n",
       "      <td>0.773801</td>\n",
       "    </tr>\n",
       "    <tr>\n",
       "      <th>5</th>\n",
       "      <td>K-Nearest Neighbors</td>\n",
       "      <td>0.893980</td>\n",
       "      <td>0.821796</td>\n",
       "    </tr>\n",
       "    <tr>\n",
       "      <th>6</th>\n",
       "      <td>Decision Tree</td>\n",
       "      <td>0.882384</td>\n",
       "      <td>1.000000</td>\n",
       "    </tr>\n",
       "  </tbody>\n",
       "</table>\n",
       "</div>"
      ],
      "text/plain": [
       "                 Model  Average Val Score  Train Score\n",
       "0              XGBoost           0.992704     1.000000\n",
       "1        Random Forest           0.988341     1.000000\n",
       "2                  SVM           0.964606     0.869374\n",
       "3  Logistic Regression           0.924618     0.777469\n",
       "4           Linear SVM           0.923978     0.773801\n",
       "5  K-Nearest Neighbors           0.893980     0.821796\n",
       "6        Decision Tree           0.882384     1.000000"
      ]
     },
     "execution_count": 21,
     "metadata": {},
     "output_type": "execute_result"
    }
   ],
   "source": [
    "eval_df.sort_values(['Average Val Score'], ascending=False).reset_index(drop=True)"
   ]
  },
  {
   "cell_type": "markdown",
   "metadata": {},
   "source": [
    "The results are great. I will go with XGBoost for hyperparameter tuning and final model evaluation because it presents the highest average validation ROC-AUC score."
   ]
  },
  {
   "cell_type": "markdown",
   "metadata": {},
   "source": [
    "### Hyperparameter tuning\n",
    "As I intend to tune XGBoost model, I won't use GridSearchCV.\n",
    "\n",
    "<b>Why not use grid search?</b> \n",
    "- Using grid search CV to tune XGBoost can be problematic due to its computational expense, limitations in granularity and adaptability, lack of consideration for interaction effects, inefficient exploration of the hyperparameter space, and inefficient allocation of computational resources. \n",
    "- Grid search exhaustively searches through all combinations of specified hyperparameters, it does not adapt its search based on the observed performance of previous hyperparameter configurations. Also, hyperparameters in XGBoost can have complex interactions, where the impact of one hyperparameter depends on the values of others (like learning rate and number of estimators). Grid search does not explicitly consider these interactions and evaluates hyperparameters independently. \n",
    "- As a result, more advanced optimization methods such as randomized search and Bayesian Optimization are often preferred for more efficient and effective hyperparameter tuning with XGBoost.<br>\n",
    "\n",
    "Considering this, I will tune XGBoost using Bayesian Optimization.\n",
    "\n",
    "<b>What is Bayesian Optimization?</b>\n",
    "-  Bayesian optimization is an efficient and adaptive technique for finding the optimal combination of hyperparameters for a machine learning model. It uses probabilistic models to intelligently explore the hyperparameter space, balancing exploration and exploitation."
   ]
  },
  {
   "cell_type": "markdown",
   "metadata": {},
   "source": [
    "An important point here is to define class_weight hyperparameter. Then, the algorithm will assign different weights for the target's minority (attrited) and majority (existing) class instances. Thus, the model will be penalized when mistakenly predicting a churner and also be able to better learn the patterns in minority class data samples."
   ]
  },
  {
   "cell_type": "code",
   "execution_count": 27,
   "metadata": {},
   "outputs": [],
   "source": [
    "n_folds = 5\n",
    "stratified_kfold = StratifiedKFold(n_splits=n_folds, shuffle=True, random_state=42)\n",
    "\n",
    "search_space = {\n",
    "    'n_estimators': Integer(100, 500),\n",
    "    'max_depth': Integer(2,16),\n",
    "    'learning_rate': Real(0.001, 1.0, prior='log-uniform'),\n",
    "    'min_child_weight': Integer(1,10),\n",
    "    'subsample': Real(0.5, 1.0),\n",
    "    'colsample_bytree': Real(0.5, 1.0),\n",
    "    'lambda': Real(0.0, 10.0),\n",
    "    'gamma': Real(0.0, 10.0),\n",
    "    'scale_pos_weight': Integer(1, 10)\n",
    "}\n",
    "\n",
    "bayesian_search = BayesSearchCV(XGBClassifier(), search_space, cv=stratified_kfold, n_iter=50, \n",
    "                                scoring='roc_auc', return_train_score=True, random_state=1) "
   ]
  },
  {
   "cell_type": "code",
   "execution_count": 28,
   "metadata": {},
   "outputs": [
    {
     "data": {
      "text/html": [
       "<style>#sk-container-id-1 {color: black;}#sk-container-id-1 pre{padding: 0;}#sk-container-id-1 div.sk-toggleable {background-color: white;}#sk-container-id-1 label.sk-toggleable__label {cursor: pointer;display: block;width: 100%;margin-bottom: 0;padding: 0.3em;box-sizing: border-box;text-align: center;}#sk-container-id-1 label.sk-toggleable__label-arrow:before {content: \"▸\";float: left;margin-right: 0.25em;color: #696969;}#sk-container-id-1 label.sk-toggleable__label-arrow:hover:before {color: black;}#sk-container-id-1 div.sk-estimator:hover label.sk-toggleable__label-arrow:before {color: black;}#sk-container-id-1 div.sk-toggleable__content {max-height: 0;max-width: 0;overflow: hidden;text-align: left;background-color: #f0f8ff;}#sk-container-id-1 div.sk-toggleable__content pre {margin: 0.2em;color: black;border-radius: 0.25em;background-color: #f0f8ff;}#sk-container-id-1 input.sk-toggleable__control:checked~div.sk-toggleable__content {max-height: 200px;max-width: 100%;overflow: auto;}#sk-container-id-1 input.sk-toggleable__control:checked~label.sk-toggleable__label-arrow:before {content: \"▾\";}#sk-container-id-1 div.sk-estimator input.sk-toggleable__control:checked~label.sk-toggleable__label {background-color: #d4ebff;}#sk-container-id-1 div.sk-label input.sk-toggleable__control:checked~label.sk-toggleable__label {background-color: #d4ebff;}#sk-container-id-1 input.sk-hidden--visually {border: 0;clip: rect(1px 1px 1px 1px);clip: rect(1px, 1px, 1px, 1px);height: 1px;margin: -1px;overflow: hidden;padding: 0;position: absolute;width: 1px;}#sk-container-id-1 div.sk-estimator {font-family: monospace;background-color: #f0f8ff;border: 1px dotted black;border-radius: 0.25em;box-sizing: border-box;margin-bottom: 0.5em;}#sk-container-id-1 div.sk-estimator:hover {background-color: #d4ebff;}#sk-container-id-1 div.sk-parallel-item::after {content: \"\";width: 100%;border-bottom: 1px solid gray;flex-grow: 1;}#sk-container-id-1 div.sk-label:hover label.sk-toggleable__label {background-color: #d4ebff;}#sk-container-id-1 div.sk-serial::before {content: \"\";position: absolute;border-left: 1px solid gray;box-sizing: border-box;top: 0;bottom: 0;left: 50%;z-index: 0;}#sk-container-id-1 div.sk-serial {display: flex;flex-direction: column;align-items: center;background-color: white;padding-right: 0.2em;padding-left: 0.2em;position: relative;}#sk-container-id-1 div.sk-item {position: relative;z-index: 1;}#sk-container-id-1 div.sk-parallel {display: flex;align-items: stretch;justify-content: center;background-color: white;position: relative;}#sk-container-id-1 div.sk-item::before, #sk-container-id-1 div.sk-parallel-item::before {content: \"\";position: absolute;border-left: 1px solid gray;box-sizing: border-box;top: 0;bottom: 0;left: 50%;z-index: -1;}#sk-container-id-1 div.sk-parallel-item {display: flex;flex-direction: column;z-index: 1;position: relative;background-color: white;}#sk-container-id-1 div.sk-parallel-item:first-child::after {align-self: flex-end;width: 50%;}#sk-container-id-1 div.sk-parallel-item:last-child::after {align-self: flex-start;width: 50%;}#sk-container-id-1 div.sk-parallel-item:only-child::after {width: 0;}#sk-container-id-1 div.sk-dashed-wrapped {border: 1px dashed gray;margin: 0 0.4em 0.5em 0.4em;box-sizing: border-box;padding-bottom: 0.4em;background-color: white;}#sk-container-id-1 div.sk-label label {font-family: monospace;font-weight: bold;display: inline-block;line-height: 1.2em;}#sk-container-id-1 div.sk-label-container {text-align: center;}#sk-container-id-1 div.sk-container {/* jupyter's `normalize.less` sets `[hidden] { display: none; }` but bootstrap.min.css set `[hidden] { display: none !important; }` so we also need the `!important` here to be able to override the default hidden behavior on the sphinx rendered scikit-learn.org. See: https://github.com/scikit-learn/scikit-learn/issues/21755 */display: inline-block !important;position: relative;}#sk-container-id-1 div.sk-text-repr-fallback {display: none;}</style><div id=\"sk-container-id-1\" class=\"sk-top-container\"><div class=\"sk-text-repr-fallback\"><pre>BayesSearchCV(cv=StratifiedKFold(n_splits=5, random_state=42, shuffle=True),\n",
       "              estimator=XGBClassifier(base_score=None, booster=None,\n",
       "                                      callbacks=None, colsample_bylevel=None,\n",
       "                                      colsample_bynode=None,\n",
       "                                      colsample_bytree=None,\n",
       "                                      early_stopping_rounds=None,\n",
       "                                      enable_categorical=False,\n",
       "                                      eval_metric=None, feature_types=None,\n",
       "                                      gamma=None, gpu_id=None, grow_policy=None,\n",
       "                                      importance_ty...\n",
       "                             &#x27;max_depth&#x27;: Integer(low=2, high=16, prior=&#x27;uniform&#x27;, transform=&#x27;normalize&#x27;),\n",
       "                             &#x27;min_child_weight&#x27;: Integer(low=1, high=10, prior=&#x27;uniform&#x27;, transform=&#x27;normalize&#x27;),\n",
       "                             &#x27;n_estimators&#x27;: Integer(low=100, high=500, prior=&#x27;uniform&#x27;, transform=&#x27;normalize&#x27;),\n",
       "                             &#x27;scale_pos_weight&#x27;: Integer(low=1, high=10, prior=&#x27;uniform&#x27;, transform=&#x27;normalize&#x27;),\n",
       "                             &#x27;subsample&#x27;: Real(low=0.5, high=1.0, prior=&#x27;uniform&#x27;, transform=&#x27;normalize&#x27;)})</pre><b>In a Jupyter environment, please rerun this cell to show the HTML representation or trust the notebook. <br />On GitHub, the HTML representation is unable to render, please try loading this page with nbviewer.org.</b></div><div class=\"sk-container\" hidden><div class=\"sk-item sk-dashed-wrapped\"><div class=\"sk-label-container\"><div class=\"sk-label sk-toggleable\"><input class=\"sk-toggleable__control sk-hidden--visually\" id=\"sk-estimator-id-1\" type=\"checkbox\" ><label for=\"sk-estimator-id-1\" class=\"sk-toggleable__label sk-toggleable__label-arrow\">BayesSearchCV</label><div class=\"sk-toggleable__content\"><pre>BayesSearchCV(cv=StratifiedKFold(n_splits=5, random_state=42, shuffle=True),\n",
       "              estimator=XGBClassifier(base_score=None, booster=None,\n",
       "                                      callbacks=None, colsample_bylevel=None,\n",
       "                                      colsample_bynode=None,\n",
       "                                      colsample_bytree=None,\n",
       "                                      early_stopping_rounds=None,\n",
       "                                      enable_categorical=False,\n",
       "                                      eval_metric=None, feature_types=None,\n",
       "                                      gamma=None, gpu_id=None, grow_policy=None,\n",
       "                                      importance_ty...\n",
       "                             &#x27;max_depth&#x27;: Integer(low=2, high=16, prior=&#x27;uniform&#x27;, transform=&#x27;normalize&#x27;),\n",
       "                             &#x27;min_child_weight&#x27;: Integer(low=1, high=10, prior=&#x27;uniform&#x27;, transform=&#x27;normalize&#x27;),\n",
       "                             &#x27;n_estimators&#x27;: Integer(low=100, high=500, prior=&#x27;uniform&#x27;, transform=&#x27;normalize&#x27;),\n",
       "                             &#x27;scale_pos_weight&#x27;: Integer(low=1, high=10, prior=&#x27;uniform&#x27;, transform=&#x27;normalize&#x27;),\n",
       "                             &#x27;subsample&#x27;: Real(low=0.5, high=1.0, prior=&#x27;uniform&#x27;, transform=&#x27;normalize&#x27;)})</pre></div></div></div><div class=\"sk-parallel\"><div class=\"sk-parallel-item\"><div class=\"sk-item\"><div class=\"sk-label-container\"><div class=\"sk-label sk-toggleable\"><input class=\"sk-toggleable__control sk-hidden--visually\" id=\"sk-estimator-id-2\" type=\"checkbox\" ><label for=\"sk-estimator-id-2\" class=\"sk-toggleable__label sk-toggleable__label-arrow\">estimator: XGBClassifier</label><div class=\"sk-toggleable__content\"><pre>XGBClassifier(base_score=None, booster=None, callbacks=None,\n",
       "              colsample_bylevel=None, colsample_bynode=None,\n",
       "              colsample_bytree=None, early_stopping_rounds=None,\n",
       "              enable_categorical=False, eval_metric=None, feature_types=None,\n",
       "              gamma=None, gpu_id=None, grow_policy=None, importance_type=None,\n",
       "              interaction_constraints=None, learning_rate=None, max_bin=None,\n",
       "              max_cat_threshold=None, max_cat_to_onehot=None,\n",
       "              max_delta_step=None, max_depth=None, max_leaves=None,\n",
       "              min_child_weight=None, missing=nan, monotone_constraints=None,\n",
       "              n_estimators=100, n_jobs=None, num_parallel_tree=None,\n",
       "              predictor=None, random_state=None, ...)</pre></div></div></div><div class=\"sk-serial\"><div class=\"sk-item\"><div class=\"sk-estimator sk-toggleable\"><input class=\"sk-toggleable__control sk-hidden--visually\" id=\"sk-estimator-id-3\" type=\"checkbox\" ><label for=\"sk-estimator-id-3\" class=\"sk-toggleable__label sk-toggleable__label-arrow\">XGBClassifier</label><div class=\"sk-toggleable__content\"><pre>XGBClassifier(base_score=None, booster=None, callbacks=None,\n",
       "              colsample_bylevel=None, colsample_bynode=None,\n",
       "              colsample_bytree=None, early_stopping_rounds=None,\n",
       "              enable_categorical=False, eval_metric=None, feature_types=None,\n",
       "              gamma=None, gpu_id=None, grow_policy=None, importance_type=None,\n",
       "              interaction_constraints=None, learning_rate=None, max_bin=None,\n",
       "              max_cat_threshold=None, max_cat_to_onehot=None,\n",
       "              max_delta_step=None, max_depth=None, max_leaves=None,\n",
       "              min_child_weight=None, missing=nan, monotone_constraints=None,\n",
       "              n_estimators=100, n_jobs=None, num_parallel_tree=None,\n",
       "              predictor=None, random_state=None, ...)</pre></div></div></div></div></div></div></div></div></div></div>"
      ],
      "text/plain": [
       "BayesSearchCV(cv=StratifiedKFold(n_splits=5, random_state=42, shuffle=True),\n",
       "              estimator=XGBClassifier(base_score=None, booster=None,\n",
       "                                      callbacks=None, colsample_bylevel=None,\n",
       "                                      colsample_bynode=None,\n",
       "                                      colsample_bytree=None,\n",
       "                                      early_stopping_rounds=None,\n",
       "                                      enable_categorical=False,\n",
       "                                      eval_metric=None, feature_types=None,\n",
       "                                      gamma=None, gpu_id=None, grow_policy=None,\n",
       "                                      importance_ty...\n",
       "                             'max_depth': Integer(low=2, high=16, prior='uniform', transform='normalize'),\n",
       "                             'min_child_weight': Integer(low=1, high=10, prior='uniform', transform='normalize'),\n",
       "                             'n_estimators': Integer(low=100, high=500, prior='uniform', transform='normalize'),\n",
       "                             'scale_pos_weight': Integer(low=1, high=10, prior='uniform', transform='normalize'),\n",
       "                             'subsample': Real(low=0.5, high=1.0, prior='uniform', transform='normalize')})"
      ]
     },
     "execution_count": 28,
     "metadata": {},
     "output_type": "execute_result"
    }
   ],
   "source": [
    "bayesian_search.fit(X_train_prepared, y_train)"
   ]
  },
  {
   "cell_type": "code",
   "execution_count": 29,
   "metadata": {},
   "outputs": [
    {
     "name": "stdout",
     "output_type": "stream",
     "text": [
      "The best params fund for XGBoost are: \n"
     ]
    },
    {
     "data": {
      "text/plain": [
       "OrderedDict([('colsample_bytree', 0.6990559033956983),\n",
       "             ('gamma', 9.029710156344564),\n",
       "             ('lambda', 2.3076689805633372),\n",
       "             ('learning_rate', 0.12498672387208519),\n",
       "             ('max_depth', 4),\n",
       "             ('min_child_weight', 3),\n",
       "             ('n_estimators', 500),\n",
       "             ('scale_pos_weight', 10),\n",
       "             ('subsample', 0.7541369107532966)])"
      ]
     },
     "execution_count": 29,
     "metadata": {},
     "output_type": "execute_result"
    }
   ],
   "source": [
    "print(f'The best params fund for XGBoost are: ')\n",
    "bayesian_search.best_params_"
   ]
  },
  {
   "cell_type": "markdown",
   "metadata": {},
   "source": [
    "Let's take a look into some results obtained by the bayesian search cv, specially for important parameters, like lambda, learning_rate, max_depth, min_child_weight, n_estimators and scale pos weight."
   ]
  },
  {
   "cell_type": "code",
   "execution_count": 30,
   "metadata": {},
   "outputs": [
    {
     "data": {
      "text/html": [
       "<div>\n",
       "<style scoped>\n",
       "    .dataframe tbody tr th:only-of-type {\n",
       "        vertical-align: middle;\n",
       "    }\n",
       "\n",
       "    .dataframe tbody tr th {\n",
       "        vertical-align: top;\n",
       "    }\n",
       "\n",
       "    .dataframe thead th {\n",
       "        text-align: right;\n",
       "    }\n",
       "</style>\n",
       "<table border=\"1\" class=\"dataframe\">\n",
       "  <thead>\n",
       "    <tr style=\"text-align: right;\">\n",
       "      <th></th>\n",
       "      <th>rank_test_score</th>\n",
       "      <th>mean_test_score</th>\n",
       "      <th>mean_train_score</th>\n",
       "      <th>param_lambda</th>\n",
       "      <th>param_learning_rate</th>\n",
       "      <th>param_max_depth</th>\n",
       "      <th>param_min_child_weight</th>\n",
       "      <th>param_n_estimators</th>\n",
       "      <th>param_scale_pos_weight</th>\n",
       "    </tr>\n",
       "  </thead>\n",
       "  <tbody>\n",
       "    <tr>\n",
       "      <th>45</th>\n",
       "      <td>1</td>\n",
       "      <td>0.993266</td>\n",
       "      <td>0.999009</td>\n",
       "      <td>2.307669</td>\n",
       "      <td>0.124987</td>\n",
       "      <td>4</td>\n",
       "      <td>3</td>\n",
       "      <td>500</td>\n",
       "      <td>10</td>\n",
       "    </tr>\n",
       "    <tr>\n",
       "      <th>9</th>\n",
       "      <td>2</td>\n",
       "      <td>0.993157</td>\n",
       "      <td>0.999432</td>\n",
       "      <td>6.257396</td>\n",
       "      <td>0.167567</td>\n",
       "      <td>14</td>\n",
       "      <td>4</td>\n",
       "      <td>393</td>\n",
       "      <td>9</td>\n",
       "    </tr>\n",
       "    <tr>\n",
       "      <th>8</th>\n",
       "      <td>3</td>\n",
       "      <td>0.993023</td>\n",
       "      <td>0.999251</td>\n",
       "      <td>8.662479</td>\n",
       "      <td>0.109678</td>\n",
       "      <td>8</td>\n",
       "      <td>5</td>\n",
       "      <td>234</td>\n",
       "      <td>9</td>\n",
       "    </tr>\n",
       "    <tr>\n",
       "      <th>33</th>\n",
       "      <td>4</td>\n",
       "      <td>0.993016</td>\n",
       "      <td>0.999702</td>\n",
       "      <td>0.0</td>\n",
       "      <td>0.038719</td>\n",
       "      <td>16</td>\n",
       "      <td>10</td>\n",
       "      <td>500</td>\n",
       "      <td>5</td>\n",
       "    </tr>\n",
       "    <tr>\n",
       "      <th>4</th>\n",
       "      <td>5</td>\n",
       "      <td>0.992998</td>\n",
       "      <td>0.999932</td>\n",
       "      <td>0.258013</td>\n",
       "      <td>0.051581</td>\n",
       "      <td>9</td>\n",
       "      <td>5</td>\n",
       "      <td>395</td>\n",
       "      <td>6</td>\n",
       "    </tr>\n",
       "    <tr>\n",
       "      <th>12</th>\n",
       "      <td>6</td>\n",
       "      <td>0.992753</td>\n",
       "      <td>1.000000</td>\n",
       "      <td>0.0</td>\n",
       "      <td>0.054345</td>\n",
       "      <td>16</td>\n",
       "      <td>1</td>\n",
       "      <td>500</td>\n",
       "      <td>10</td>\n",
       "    </tr>\n",
       "    <tr>\n",
       "      <th>23</th>\n",
       "      <td>7</td>\n",
       "      <td>0.992655</td>\n",
       "      <td>0.999916</td>\n",
       "      <td>0.507272</td>\n",
       "      <td>0.158236</td>\n",
       "      <td>13</td>\n",
       "      <td>4</td>\n",
       "      <td>106</td>\n",
       "      <td>1</td>\n",
       "    </tr>\n",
       "    <tr>\n",
       "      <th>37</th>\n",
       "      <td>8</td>\n",
       "      <td>0.992582</td>\n",
       "      <td>0.999776</td>\n",
       "      <td>0.0</td>\n",
       "      <td>0.040809</td>\n",
       "      <td>5</td>\n",
       "      <td>10</td>\n",
       "      <td>500</td>\n",
       "      <td>10</td>\n",
       "    </tr>\n",
       "    <tr>\n",
       "      <th>47</th>\n",
       "      <td>9</td>\n",
       "      <td>0.992554</td>\n",
       "      <td>0.998515</td>\n",
       "      <td>2.409914</td>\n",
       "      <td>0.017128</td>\n",
       "      <td>13</td>\n",
       "      <td>4</td>\n",
       "      <td>487</td>\n",
       "      <td>5</td>\n",
       "    </tr>\n",
       "    <tr>\n",
       "      <th>44</th>\n",
       "      <td>10</td>\n",
       "      <td>0.992518</td>\n",
       "      <td>0.999367</td>\n",
       "      <td>0.847501</td>\n",
       "      <td>0.02069</td>\n",
       "      <td>6</td>\n",
       "      <td>2</td>\n",
       "      <td>500</td>\n",
       "      <td>4</td>\n",
       "    </tr>\n",
       "  </tbody>\n",
       "</table>\n",
       "</div>"
      ],
      "text/plain": [
       "    rank_test_score  mean_test_score  mean_train_score param_lambda   \n",
       "45                1         0.993266          0.999009     2.307669  \\\n",
       "9                 2         0.993157          0.999432     6.257396   \n",
       "8                 3         0.993023          0.999251     8.662479   \n",
       "33                4         0.993016          0.999702          0.0   \n",
       "4                 5         0.992998          0.999932     0.258013   \n",
       "12                6         0.992753          1.000000          0.0   \n",
       "23                7         0.992655          0.999916     0.507272   \n",
       "37                8         0.992582          0.999776          0.0   \n",
       "47                9         0.992554          0.998515     2.409914   \n",
       "44               10         0.992518          0.999367     0.847501   \n",
       "\n",
       "   param_learning_rate param_max_depth param_min_child_weight   \n",
       "45            0.124987               4                      3  \\\n",
       "9             0.167567              14                      4   \n",
       "8             0.109678               8                      5   \n",
       "33            0.038719              16                     10   \n",
       "4             0.051581               9                      5   \n",
       "12            0.054345              16                      1   \n",
       "23            0.158236              13                      4   \n",
       "37            0.040809               5                     10   \n",
       "47            0.017128              13                      4   \n",
       "44             0.02069               6                      2   \n",
       "\n",
       "   param_n_estimators param_scale_pos_weight  \n",
       "45                500                     10  \n",
       "9                 393                      9  \n",
       "8                 234                      9  \n",
       "33                500                      5  \n",
       "4                 395                      6  \n",
       "12                500                     10  \n",
       "23                106                      1  \n",
       "37                500                     10  \n",
       "47                487                      5  \n",
       "44                500                      4  "
      ]
     },
     "execution_count": 30,
     "metadata": {},
     "output_type": "execute_result"
    }
   ],
   "source": [
    "bayesian_search_results = pd.DataFrame(bayesian_search.cv_results_)\n",
    "bayesian_search_results = bayesian_search_results[['rank_test_score','mean_test_score',\n",
    "                                                   'mean_train_score', 'param_lambda',\n",
    "                                                   'param_learning_rate', 'param_max_depth', \n",
    "                                                   'param_min_child_weight', 'param_n_estimators',\n",
    "                                                   'param_scale_pos_weight']]\n",
    "bayesian_search_results.sort_values(['rank_test_score']).head(10)"
   ]
  },
  {
   "cell_type": "markdown",
   "metadata": {},
   "source": [
    "### 7. Final production model testing and evaluation\n",
    "- In this step, I intend to evaluate our final tuned model on test data (simulating production unseen data).\n",
    "- Once I am facing a binary classification problem with an imbalanced target, recall is the most important metric. I want my model to identify as many churners as possible.\n",
    "- Furthermore, I will examine the precision-recall trade-off to determine whether there is room for improvement in the recall metric without significantly compromising the precision score. This is a sound strategy when dealing with imbalanced data. Additionally, I will assess whether the potential improvement in predicting customer churn by comparing probabilities with a threshold is worthwhile. The primary objective is to generate probability scores for each customer, which is generally more valuable for businesses compared to making binary predictions (1/0). This approach enhances decision-making and allows for more effective customer retention strategies."
   ]
  },
  {
   "cell_type": "markdown",
   "metadata": {},
   "source": [
    "Getting the final tuned XGBoost model."
   ]
  },
  {
   "cell_type": "code",
   "execution_count": 31,
   "metadata": {},
   "outputs": [],
   "source": [
    "final_xgb_clf = bayesian_search.best_estimator_"
   ]
  },
  {
   "cell_type": "markdown",
   "metadata": {},
   "source": [
    "Using the preprocessor to transform the test predictor set. By applying just transform we avoid data leakage."
   ]
  },
  {
   "cell_type": "code",
   "execution_count": 32,
   "metadata": {},
   "outputs": [
    {
     "data": {
      "text/plain": [
       "(2026, 19)"
      ]
     },
     "execution_count": 32,
     "metadata": {},
     "output_type": "execute_result"
    }
   ],
   "source": [
    "X_test_prepared = preprocessor.transform(X_test)\n",
    "X_test_prepared.shape"
   ]
  },
  {
   "cell_type": "markdown",
   "metadata": {},
   "source": [
    "Making predictions."
   ]
  },
  {
   "cell_type": "code",
   "execution_count": 33,
   "metadata": {},
   "outputs": [],
   "source": [
    "final_predictions = final_xgb_clf.predict(X_test_prepared)"
   ]
  },
  {
   "cell_type": "markdown",
   "metadata": {},
   "source": [
    "Getting the model's estimated probabilities of churn for roc-auc curve."
   ]
  },
  {
   "cell_type": "code",
   "execution_count": 34,
   "metadata": {},
   "outputs": [],
   "source": [
    "probas = final_xgb_clf.predict_proba(X_test_prepared)[:, 1]"
   ]
  },
  {
   "cell_type": "markdown",
   "metadata": {},
   "source": [
    "### Evaluating the final tuned XGBoost model."
   ]
  },
  {
   "cell_type": "code",
   "execution_count": 35,
   "metadata": {},
   "outputs": [
    {
     "name": "stdout",
     "output_type": "stream",
     "text": [
      "              precision    recall  f1-score   support\n",
      "\n",
      "           0       0.99      0.97      0.98      1701\n",
      "           1       0.85      0.94      0.89       325\n",
      "\n",
      "    accuracy                           0.96      2026\n",
      "   macro avg       0.92      0.95      0.93      2026\n",
      "weighted avg       0.97      0.96      0.96      2026\n",
      "\n"
     ]
    },
    {
     "data": {
      "image/png": "[encoded data removed]",
      "text/plain": [
       "<Figure size 640x480 with 2 Axes>"
      ]
     },
     "metadata": {},
     "output_type": "display_data"
    },
    {
     "data": {
      "image/png": "[encoded data removed]",
      "text/plain": [
       "<Figure size 500x300 with 1 Axes>"
      ]
     },
     "metadata": {},
     "output_type": "display_data"
    }
   ],
   "source": [
    "evaluate_classifier(y_test, final_predictions, probas)"
   ]
  },
  {
   "cell_type": "markdown",
   "metadata": {},
   "source": [
    "The model results are excellent!\n",
    "\n",
    "<b>Recall (0.94):</b> The model correctly identifies 94% of the churners. In practical terms, looking at the confusion matrix, it has accurately predicted 305 out of 325 attrited customers.<br>\n",
    "<b>Precision (0.85):</b> Out of all customers predicted as churn, 85% of them are actually churners. In practical terms, considering the confusion matrix, out of 360 customers predicted as churn, 305 of them are indeed churners.<br>\n",
    "<b>ROC-AUC (0.99):</b> With a ROC-AUC score of 0.99, the model demonstrates outstanding ability to differentiate between attrited and existing customers."
   ]
  },
  {
   "cell_type": "markdown",
   "metadata": {},
   "source": [
    "### Interpreting the model results with feature importances\n",
    "- I will look at <b>feature importances</b> below in order to interpret XGBoost outcomes. An important task when performing supervised learning on a dataset is determining which features provide the most predictive power. By focusing on the relationship between only a few crucial features and the target label we simplify our understanding of the phenomenon, which is most always a useful thing to do.\n",
    "- XGBoost calculates feature importances by measuring the total reduction in the loss function achieved by each feature when it is used in splitting the decision trees during the boosting process."
   ]
  },
  {
   "cell_type": "code",
   "execution_count": 36,
   "metadata": {},
   "outputs": [
    {
     "data": {
      "image/png": "[encoded data removed]",
      "text/plain": [
       "<Figure size 1200x300 with 1 Axes>"
      ]
     },
     "metadata": {},
     "output_type": "display_data"
    }
   ],
   "source": [
    "plot_feature_importances(final_xgb_clf, X_train)"
   ]
  },
  {
   "cell_type": "markdown",
   "metadata": {},
   "source": [
    "The model results are coherent! It's evident that the same features we identified as the most useful ones during the EDA step have the highest predictive power. Some of these features include total transaction count, total revolving balance, total relationship count, total transaction amount, average utilization ratio, and total count change. Therefore, everything makes sense!"
   ]
  },
  {
   "cell_type": "markdown",
   "metadata": {},
   "source": [
    "### Precision-recall trade-off\n",
    "- I will examine the precision-recall trade-off in order to see if there is room for recall metric enhancement without compromising too much the precision score. The objective here is to predict as many churners as possible, making this an important task to perform.\n",
    "- The precision-recall trade-off involves finding a balance between precision (accuracy of positive predictions) and recall (coverage of actual positives) in a classification model, where improving one often comes at the expense of the other."
   ]
  },
  {
   "cell_type": "markdown",
   "metadata": {},
   "source": [
    "Getting the entire model's estimated probabilities."
   ]
  },
  {
   "cell_type": "code",
   "execution_count": 37,
   "metadata": {},
   "outputs": [],
   "source": [
    "predicted_probas = final_xgb_clf.predict_proba(X_test_prepared)"
   ]
  },
  {
   "cell_type": "markdown",
   "metadata": {},
   "source": [
    "Plotting precision-recall curve for different threshold values."
   ]
  },
  {
   "cell_type": "code",
   "execution_count": 38,
   "metadata": {},
   "outputs": [
    {
     "data": {
      "image/png": "[encoded data removed]",
      "text/plain": [
       "<Figure size 640x480 with 1 Axes>"
      ]
     },
     "metadata": {},
     "output_type": "display_data"
    }
   ],
   "source": [
    "precision, recall, threshold = precision_vs_recall_curve(y_test, predicted_probas)"
   ]
  },
  {
   "cell_type": "markdown",
   "metadata": {},
   "source": [
    "Getting the threshold for a 0.96 recall score."
   ]
  },
  {
   "cell_type": "code",
   "execution_count": 39,
   "metadata": {},
   "outputs": [
    {
     "name": "stdout",
     "output_type": "stream",
     "text": [
      "For a threshold of 0.2867737114429474:\n",
      "Recall: 0.96\n",
      "Precision: 0.7628361858190709\n"
     ]
    }
   ],
   "source": [
    "threshold_precision, threshold_recall, selected_threshold = get_threshold_metrics(precision=precision, \n",
    "recall=recall, threshold=threshold, \n",
    "target_metric='recall', target_metric_value=0.96)"
   ]
  },
  {
   "cell_type": "markdown",
   "metadata": {},
   "source": [
    "Making predictions comparing the model's estimated churn probabilities with the threshold. If the probability is greater than the threshold, the instance is classified as positive, else negative."
   ]
  },
  {
   "cell_type": "code",
   "execution_count": 40,
   "metadata": {},
   "outputs": [],
   "source": [
    "threshold_predictions = (predicted_probas[:, 1] >= selected_threshold).astype(int)"
   ]
  },
  {
   "cell_type": "markdown",
   "metadata": {},
   "source": [
    "Evaluating final model after balancing the precision-recall trade-off."
   ]
  },
  {
   "cell_type": "code",
   "execution_count": 41,
   "metadata": {},
   "outputs": [
    {
     "name": "stdout",
     "output_type": "stream",
     "text": [
      "              precision    recall  f1-score   support\n",
      "\n",
      "           0       0.99      0.94      0.97      1701\n",
      "           1       0.76      0.96      0.85       325\n",
      "\n",
      "    accuracy                           0.95      2026\n",
      "   macro avg       0.88      0.95      0.91      2026\n",
      "weighted avg       0.96      0.95      0.95      2026\n",
      "\n"
     ]
    },
    {
     "data": {
      "image/png": "[encoded data removed]",
      "text/plain": [
       "<Figure size 640x480 with 2 Axes>"
      ]
     },
     "metadata": {},
     "output_type": "display_data"
    },
    {
     "data": {
      "image/png": "[encoded data removed]",
      "text/plain": [
       "<Figure size 500x300 with 1 Axes>"
      ]
     },
     "metadata": {},
     "output_type": "display_data"
    }
   ],
   "source": [
    "evaluate_classifier(y_test, threshold_predictions, predicted_probas[:, 1])"
   ]
  },
  {
   "cell_type": "markdown",
   "metadata": {},
   "source": [
    "- By dealing with precision-recall trade-off, I was able to select a threshold value that improved the recall metric from 0.94 to 0.96. However, the precision score fell down from 0.85 to 0.76.\n",
    "- Given that generating probability scores for each customer is typically more valuable for businesses than making binary predictions (1/0), as it enables better decision-making and more effective customer retention strategies, and considering that the recall increased by only 0.2 while precision decreased by 0.9, I have decided not to use the threshold for predictions and not to balance the precision-recall trade-off."
   ]
  },
  {
   "cell_type": "markdown",
   "metadata": {},
   "source": [
    "### Visualizing some probabilities\n",
    "- I will take a look at some model's estimated churn probabilities below to asses the behaviors of attrited and existing customers, confirming EDA and feature importances results."
   ]
  },
  {
   "cell_type": "code",
   "execution_count": 42,
   "metadata": {},
   "outputs": [
    {
     "data": {
      "text/html": [
       "<div>\n",
       "<style scoped>\n",
       "    .dataframe tbody tr th:only-of-type {\n",
       "        vertical-align: middle;\n",
       "    }\n",
       "\n",
       "    .dataframe tbody tr th {\n",
       "        vertical-align: top;\n",
       "    }\n",
       "\n",
       "    .dataframe thead th {\n",
       "        text-align: right;\n",
       "    }\n",
       "</style>\n",
       "<table border=\"1\" class=\"dataframe\">\n",
       "  <thead>\n",
       "    <tr style=\"text-align: right;\">\n",
       "      <th></th>\n",
       "      <th>customer_age</th>\n",
       "      <th>gender</th>\n",
       "      <th>dependent_count</th>\n",
       "      <th>education_level</th>\n",
       "      <th>marital_status</th>\n",
       "      <th>income_category</th>\n",
       "      <th>card_category</th>\n",
       "      <th>months_on_book</th>\n",
       "      <th>total_relationship_count</th>\n",
       "      <th>months_inactive_12_mon</th>\n",
       "      <th>...</th>\n",
       "      <th>credit_limit</th>\n",
       "      <th>total_revolving_bal</th>\n",
       "      <th>avg_open_to_buy</th>\n",
       "      <th>total_amt_chng_q4_q1</th>\n",
       "      <th>total_trans_amt</th>\n",
       "      <th>total_trans_ct</th>\n",
       "      <th>total_ct_chng_q4_q1</th>\n",
       "      <th>avg_utilization_ratio</th>\n",
       "      <th>churn_flag</th>\n",
       "      <th>churn_probas</th>\n",
       "    </tr>\n",
       "  </thead>\n",
       "  <tbody>\n",
       "    <tr>\n",
       "      <th>5000</th>\n",
       "      <td>40</td>\n",
       "      <td>0</td>\n",
       "      <td>2</td>\n",
       "      <td>Graduate</td>\n",
       "      <td>Unknown</td>\n",
       "      <td>Less than $40K</td>\n",
       "      <td>Blue</td>\n",
       "      <td>29</td>\n",
       "      <td>5</td>\n",
       "      <td>1</td>\n",
       "      <td>...</td>\n",
       "      <td>2636.0</td>\n",
       "      <td>1953</td>\n",
       "      <td>683.0</td>\n",
       "      <td>0.916</td>\n",
       "      <td>4584</td>\n",
       "      <td>70</td>\n",
       "      <td>0.591</td>\n",
       "      <td>0.741</td>\n",
       "      <td>0</td>\n",
       "      <td>0.000486</td>\n",
       "    </tr>\n",
       "    <tr>\n",
       "      <th>1128</th>\n",
       "      <td>50</td>\n",
       "      <td>1</td>\n",
       "      <td>2</td>\n",
       "      <td>Graduate</td>\n",
       "      <td>Married</td>\n",
       "      <td>$80K - $120K</td>\n",
       "      <td>Blue</td>\n",
       "      <td>37</td>\n",
       "      <td>3</td>\n",
       "      <td>1</td>\n",
       "      <td>...</td>\n",
       "      <td>3126.0</td>\n",
       "      <td>0</td>\n",
       "      <td>3126.0</td>\n",
       "      <td>0.824</td>\n",
       "      <td>1388</td>\n",
       "      <td>41</td>\n",
       "      <td>0.464</td>\n",
       "      <td>0.000</td>\n",
       "      <td>0</td>\n",
       "      <td>0.366415</td>\n",
       "    </tr>\n",
       "    <tr>\n",
       "      <th>4540</th>\n",
       "      <td>39</td>\n",
       "      <td>0</td>\n",
       "      <td>1</td>\n",
       "      <td>Graduate</td>\n",
       "      <td>Single</td>\n",
       "      <td>Less than $40K</td>\n",
       "      <td>Blue</td>\n",
       "      <td>26</td>\n",
       "      <td>3</td>\n",
       "      <td>3</td>\n",
       "      <td>...</td>\n",
       "      <td>1876.0</td>\n",
       "      <td>1536</td>\n",
       "      <td>340.0</td>\n",
       "      <td>0.712</td>\n",
       "      <td>2579</td>\n",
       "      <td>47</td>\n",
       "      <td>0.469</td>\n",
       "      <td>0.819</td>\n",
       "      <td>1</td>\n",
       "      <td>0.989432</td>\n",
       "    </tr>\n",
       "    <tr>\n",
       "      <th>6229</th>\n",
       "      <td>45</td>\n",
       "      <td>0</td>\n",
       "      <td>5</td>\n",
       "      <td>Graduate</td>\n",
       "      <td>Married</td>\n",
       "      <td>Less than $40K</td>\n",
       "      <td>Blue</td>\n",
       "      <td>36</td>\n",
       "      <td>4</td>\n",
       "      <td>1</td>\n",
       "      <td>...</td>\n",
       "      <td>2289.0</td>\n",
       "      <td>1037</td>\n",
       "      <td>1252.0</td>\n",
       "      <td>0.504</td>\n",
       "      <td>4483</td>\n",
       "      <td>72</td>\n",
       "      <td>0.500</td>\n",
       "      <td>0.453</td>\n",
       "      <td>0</td>\n",
       "      <td>0.000779</td>\n",
       "    </tr>\n",
       "    <tr>\n",
       "      <th>10103</th>\n",
       "      <td>51</td>\n",
       "      <td>1</td>\n",
       "      <td>1</td>\n",
       "      <td>High School</td>\n",
       "      <td>Married</td>\n",
       "      <td>$80K - $120K</td>\n",
       "      <td>Blue</td>\n",
       "      <td>36</td>\n",
       "      <td>4</td>\n",
       "      <td>3</td>\n",
       "      <td>...</td>\n",
       "      <td>22754.0</td>\n",
       "      <td>0</td>\n",
       "      <td>22754.0</td>\n",
       "      <td>0.799</td>\n",
       "      <td>8531</td>\n",
       "      <td>77</td>\n",
       "      <td>0.791</td>\n",
       "      <td>0.000</td>\n",
       "      <td>1</td>\n",
       "      <td>0.991824</td>\n",
       "    </tr>\n",
       "    <tr>\n",
       "      <th>6993</th>\n",
       "      <td>33</td>\n",
       "      <td>1</td>\n",
       "      <td>1</td>\n",
       "      <td>High School</td>\n",
       "      <td>Divorced</td>\n",
       "      <td>$40K - $60K</td>\n",
       "      <td>Blue</td>\n",
       "      <td>28</td>\n",
       "      <td>6</td>\n",
       "      <td>1</td>\n",
       "      <td>...</td>\n",
       "      <td>2507.0</td>\n",
       "      <td>1592</td>\n",
       "      <td>915.0</td>\n",
       "      <td>0.691</td>\n",
       "      <td>4355</td>\n",
       "      <td>79</td>\n",
       "      <td>0.837</td>\n",
       "      <td>0.635</td>\n",
       "      <td>0</td>\n",
       "      <td>0.000011</td>\n",
       "    </tr>\n",
       "    <tr>\n",
       "      <th>2315</th>\n",
       "      <td>40</td>\n",
       "      <td>0</td>\n",
       "      <td>3</td>\n",
       "      <td>High School</td>\n",
       "      <td>Unknown</td>\n",
       "      <td>Less than $40K</td>\n",
       "      <td>Blue</td>\n",
       "      <td>31</td>\n",
       "      <td>5</td>\n",
       "      <td>2</td>\n",
       "      <td>...</td>\n",
       "      <td>2222.0</td>\n",
       "      <td>1551</td>\n",
       "      <td>671.0</td>\n",
       "      <td>0.932</td>\n",
       "      <td>3302</td>\n",
       "      <td>65</td>\n",
       "      <td>0.585</td>\n",
       "      <td>0.698</td>\n",
       "      <td>0</td>\n",
       "      <td>0.003083</td>\n",
       "    </tr>\n",
       "    <tr>\n",
       "      <th>9911</th>\n",
       "      <td>35</td>\n",
       "      <td>1</td>\n",
       "      <td>3</td>\n",
       "      <td>Graduate</td>\n",
       "      <td>Married</td>\n",
       "      <td>$60K - $80K</td>\n",
       "      <td>Blue</td>\n",
       "      <td>36</td>\n",
       "      <td>4</td>\n",
       "      <td>1</td>\n",
       "      <td>...</td>\n",
       "      <td>19671.0</td>\n",
       "      <td>924</td>\n",
       "      <td>18747.0</td>\n",
       "      <td>0.820</td>\n",
       "      <td>13908</td>\n",
       "      <td>124</td>\n",
       "      <td>0.676</td>\n",
       "      <td>0.047</td>\n",
       "      <td>0</td>\n",
       "      <td>0.000581</td>\n",
       "    </tr>\n",
       "    <tr>\n",
       "      <th>7809</th>\n",
       "      <td>37</td>\n",
       "      <td>0</td>\n",
       "      <td>2</td>\n",
       "      <td>High School</td>\n",
       "      <td>Single</td>\n",
       "      <td>Unknown</td>\n",
       "      <td>Blue</td>\n",
       "      <td>36</td>\n",
       "      <td>3</td>\n",
       "      <td>2</td>\n",
       "      <td>...</td>\n",
       "      <td>2346.0</td>\n",
       "      <td>1621</td>\n",
       "      <td>725.0</td>\n",
       "      <td>0.613</td>\n",
       "      <td>4287</td>\n",
       "      <td>79</td>\n",
       "      <td>0.717</td>\n",
       "      <td>0.691</td>\n",
       "      <td>0</td>\n",
       "      <td>0.000036</td>\n",
       "    </tr>\n",
       "    <tr>\n",
       "      <th>9293</th>\n",
       "      <td>38</td>\n",
       "      <td>0</td>\n",
       "      <td>2</td>\n",
       "      <td>Uneducated</td>\n",
       "      <td>Married</td>\n",
       "      <td>Less than $40K</td>\n",
       "      <td>Blue</td>\n",
       "      <td>36</td>\n",
       "      <td>2</td>\n",
       "      <td>3</td>\n",
       "      <td>...</td>\n",
       "      <td>7825.0</td>\n",
       "      <td>0</td>\n",
       "      <td>7825.0</td>\n",
       "      <td>0.724</td>\n",
       "      <td>14326</td>\n",
       "      <td>100</td>\n",
       "      <td>0.786</td>\n",
       "      <td>0.000</td>\n",
       "      <td>0</td>\n",
       "      <td>0.007019</td>\n",
       "    </tr>\n",
       "  </tbody>\n",
       "</table>\n",
       "<p>10 rows × 21 columns</p>\n",
       "</div>"
      ],
      "text/plain": [
       "       customer_age  gender  dependent_count education_level marital_status   \n",
       "5000             40       0                2        Graduate        Unknown  \\\n",
       "1128             50       1                2        Graduate        Married   \n",
       "4540             39       0                1        Graduate         Single   \n",
       "6229             45       0                5        Graduate        Married   \n",
       "10103            51       1                1     High School        Married   \n",
       "6993             33       1                1     High School       Divorced   \n",
       "2315             40       0                3     High School        Unknown   \n",
       "9911             35       1                3        Graduate        Married   \n",
       "7809             37       0                2     High School         Single   \n",
       "9293             38       0                2      Uneducated        Married   \n",
       "\n",
       "      income_category card_category  months_on_book  total_relationship_count   \n",
       "5000   Less than $40K          Blue              29                         5  \\\n",
       "1128     $80K - $120K          Blue              37                         3   \n",
       "4540   Less than $40K          Blue              26                         3   \n",
       "6229   Less than $40K          Blue              36                         4   \n",
       "10103    $80K - $120K          Blue              36                         4   \n",
       "6993      $40K - $60K          Blue              28                         6   \n",
       "2315   Less than $40K          Blue              31                         5   \n",
       "9911      $60K - $80K          Blue              36                         4   \n",
       "7809          Unknown          Blue              36                         3   \n",
       "9293   Less than $40K          Blue              36                         2   \n",
       "\n",
       "       months_inactive_12_mon  ...  credit_limit  total_revolving_bal   \n",
       "5000                        1  ...        2636.0                 1953  \\\n",
       "1128                        1  ...        3126.0                    0   \n",
       "4540                        3  ...        1876.0                 1536   \n",
       "6229                        1  ...        2289.0                 1037   \n",
       "10103                       3  ...       22754.0                    0   \n",
       "6993                        1  ...        2507.0                 1592   \n",
       "2315                        2  ...        2222.0                 1551   \n",
       "9911                        1  ...       19671.0                  924   \n",
       "7809                        2  ...        2346.0                 1621   \n",
       "9293                        3  ...        7825.0                    0   \n",
       "\n",
       "       avg_open_to_buy  total_amt_chng_q4_q1  total_trans_amt  total_trans_ct   \n",
       "5000             683.0                 0.916             4584              70  \\\n",
       "1128            3126.0                 0.824             1388              41   \n",
       "4540             340.0                 0.712             2579              47   \n",
       "6229            1252.0                 0.504             4483              72   \n",
       "10103          22754.0                 0.799             8531              77   \n",
       "6993             915.0                 0.691             4355              79   \n",
       "2315             671.0                 0.932             3302              65   \n",
       "9911           18747.0                 0.820            13908             124   \n",
       "7809             725.0                 0.613             4287              79   \n",
       "9293            7825.0                 0.724            14326             100   \n",
       "\n",
       "       total_ct_chng_q4_q1  avg_utilization_ratio  churn_flag  churn_probas  \n",
       "5000                 0.591                  0.741           0      0.000486  \n",
       "1128                 0.464                  0.000           0      0.366415  \n",
       "4540                 0.469                  0.819           1      0.989432  \n",
       "6229                 0.500                  0.453           0      0.000779  \n",
       "10103                0.791                  0.000           1      0.991824  \n",
       "6993                 0.837                  0.635           0      0.000011  \n",
       "2315                 0.585                  0.698           0      0.003083  \n",
       "9911                 0.676                  0.047           0      0.000581  \n",
       "7809                 0.717                  0.691           0      0.000036  \n",
       "9293                 0.786                  0.000           0      0.007019  \n",
       "\n",
       "[10 rows x 21 columns]"
      ]
     },
     "execution_count": 42,
     "metadata": {},
     "output_type": "execute_result"
    }
   ],
   "source": [
    "probas_df = pd.concat([X_test, y_test], axis=1)\n",
    "probas_df['churn_probas'] = predicted_probas[:, 1]\n",
    "probas_df.sample(10, random_state=42)"
   ]
  },
  {
   "cell_type": "markdown",
   "metadata": {},
   "source": [
    "### Financial results\n",
    "- I will express the model's performance in terms of financial results for the bank in order to show that the project is worth it. I will do this looking at the confusion matrix and our current data.\n",
    "- I don't have access to specific data to obtain the exact financial gain. However, a common revenue source for credit card companies is charging fees on the outstanding balance, known as the total revolving balance, which cardholders carry from month to month. Thus, I will assume the bank's fee is 18% (a common value) and calculate the financial gain with it.\n",
    "- Considering this, in order to estimate the financial gain provided by the model, I will take into account the following costs and benefits:\n",
    "    1. Retention cost per client (false positive):\n",
    "        - This cost applies to customers who wouldn't churn but were misclassified as churners by the model, leading the bank to incur expenses in retaining them. Specifically, to retain the customer, I will offer a discount on the fee, reducing it from 18% to 10%, resulting in a loss of revenue due to this 8% discount. \n",
    "    2. Revenue loss per churner (false negative):\n",
    "        - This cost arises when customers who are actually going to churn are not correctly identified by the model, leading to the bank losing both these clients and the associated revenue. This cost will encompass the entire fee (18%) applied to the outstanding balances.\n",
    "    3. Financial gain with the retention of a customer correctly predicted as a churner (true positive):\n",
    "        - This gain occurs when the model accurately predicts a churner, enabling us to retain them along with the revenue they generate, applying the 10% fee on total revolving balances as our retention strategy."
   ]
  },
  {
   "cell_type": "markdown",
   "metadata": {},
   "source": [
    "Getting a dataset for financial results."
   ]
  },
  {
   "cell_type": "code",
   "execution_count": 61,
   "metadata": {},
   "outputs": [],
   "source": [
    "financial_results = pd.concat([X_test, y_test], axis=1)[['total_revolving_bal', 'churn_flag']]\n",
    "financial_results['predicted'] = final_predictions"
   ]
  },
  {
   "cell_type": "markdown",
   "metadata": {},
   "source": [
    "Getting separate datasets for false positives, false negatives and true positives costs and gain estimation."
   ]
  },
  {
   "cell_type": "code",
   "execution_count": 62,
   "metadata": {},
   "outputs": [],
   "source": [
    "fp_data = financial_results.loc[(financial_results['churn_flag'] == 0) & (financial_results['predicted'] == 1)]\n",
    "fn_data = financial_results.loc[(financial_results['churn_flag'] == 1) & (financial_results['predicted'] == 0)]\n",
    "tp_data = financial_results.loc[(financial_results['churn_flag'] == 1) & (financial_results['predicted'] == 1)]"
   ]
  },
  {
   "cell_type": "markdown",
   "metadata": {},
   "source": [
    "Estimating the costs and gain."
   ]
  },
  {
   "cell_type": "code",
   "execution_count": 80,
   "metadata": {},
   "outputs": [],
   "source": [
    "fp_data['fp_cost'] = fp_data['total_revolving_bal']*1.18 - fp_data['total_revolving_bal']*1.10\n",
    "fn_data['fn_cost'] = fn_data['total_revolving_bal']*1.18\n",
    "tp_data['tp_gain'] = tp_data['total_revolving_bal']*1.10"
   ]
  },
  {
   "cell_type": "markdown",
   "metadata": {},
   "source": [
    "Finally, the financial result given by the model will be the difference between the gain and the costs."
   ]
  },
  {
   "cell_type": "code",
   "execution_count": 86,
   "metadata": {},
   "outputs": [
    {
     "name": "stdout",
     "output_type": "stream",
     "text": [
      "The model provides a financial gain of: $198098.82\n"
     ]
    }
   ],
   "source": [
    "financial_gain = tp_data['tp_gain'].sum() - fp_data['fp_cost'].sum() - fn_data['total_revolving_bal'].sum()\n",
    "print(f'The model provides a financial gain of: ${financial_gain}')"
   ]
  },
  {
   "cell_type": "markdown",
   "metadata": {},
   "source": [
    "Wow! Our model yields an estimated financial result of approximately $198,100. The actual amount will depend on the bank's management when implementing retention strategies for customers based on the predicted churn probabilities. For example, if the bank wishes to be more conservative, reducing expenses associated with false positives, it can target customers with higher churn probabilities, thereby altering the potential gain. Nevertheless, for estimation and foundational purposes, we have confirmed that the project is worthwhile."
   ]
  },
  {
   "cell_type": "markdown",
   "metadata": {},
   "source": [
    "# 8. Conclusions\n",
    "- In this project, I have built an XGBoost classifier for predicting churners in a bank's credit card service. The objective of the project was to build a model that was able to correctly identify as many churners as possible (focusing on recall metric), uncover the churn factors within the available features and offer action plans to minimize the problem. By doing this, the company can plan strategies for retention, maintaining healthy revenue. Acquiring new customers is costlier than keeping existing ones.\n",
    "- The business problem is solved now. My model is able to correctly predict 94% of the churners! Furthermore, it was possible to uncover the main churn factors during the EDA step and provide some suggestions for the bank regard to attrition patterns.\n",
    "- In order to deal with the imbalanced target, the strategies used were: Stratified hold-out and k-fold cross validation, class_weight hyperparameter and precision-recall trade-off balancing. I did not inted to use SMOTE because in real life it doesn't work. My goal here is to simulate a real data science case and solution. \n",
    "- Given that generating probability scores for each customer is typically more valuable for businesses than making binary predictions (1/0), as it enables better decision-making and more effective customer retention strategies, and considering that the recall increased by only 0.2 while precision decreased by 0.9, I have decided not to use the threshold for predictions and not to balance the precision-recall trade-off in the deploy.\n",
    "- The model results were interpreted and they are coherent! By looking at feature importances, it was possible to assess the features with the highest predictive power for the analysis. In the EDA step, I had already thought these features would be the most useful, reinforcing that the estimator outcomes make sense. Finally, the model's estimated probabilities also make sense and thus everything is working fine.\n",
    "- The project is worthwile. It provides a base estimated financial result of approximately $198,100. The concrete result will depend on the fees charged by the bank and its management when implementing retention strategies for customers based on the predicted churn probabilities. However, for estimation and foundational purposes, we have confirmed that it is worth it.\n",
    "- The next step is to deploy the model using CI/CD pipeline principles, with modular coding."
   ]
  }
 ],
 "metadata": {
  "kernelspec": {
   "display_name": "Python 3",
   "language": "python",
   "name": "python3"
  },
  "language_info": {
   "codemirror_mode": {
    "name": "ipython",
    "version": 3
   },
   "file_extension": ".py",
   "mimetype": "text/x-python",
   "name": "python",
   "nbconvert_exporter": "python",
   "pygments_lexer": "ipython3",
   "version": "3.11.4"
  },
  "orig_nbformat": 4
 },
 "nbformat": 4,
 "nbformat_minor": 2
}
