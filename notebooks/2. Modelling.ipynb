{
 "cells": [
  {
   "cell_type": "markdown",
   "metadata": {},
   "source": [
    "# Machine learning bank's credit card service churn prediction\n",
    "In this project, I will build a <b>machine learning model to predict customer churn in a bank's credit card service.</b> It involves <b>supervised learning (using a labeled training set) for classification</b>, where the <b>target</b> is <b>1</b> if the <b>customer churned</b>, else <b>0.</b>\n",
    "\n",
    "I will use the following <b>pipeline</b> based on <b>CRISP-DM framework:</b>\n",
    "\n",
    "<b>1. Define the business problem.</b><br>\n",
    "<b>2. Collect the data and get a general overview of it.</b><br>\n",
    "<b>3. Split the data into train and test sets.</b><br>\n",
    "<b>4. Explore the data (exploratory data analysis)</b><br>\n",
    "<b>5. Data cleaning and preprocessing.</b><br>\n",
    "<b>6. Model training, comparison, selection and tuning.</b><br>\n",
    "<b>7. Final production model testing and evaluation.</b><br>\n",
    "<b>8. Conclude and interpret the model results.</b><br>\n",
    "<b>9. Deploy.</b><br>\n",
    "\n",
    "In <b>this notebook</b>, I will perform <b>machine learning modelling, covering steps 5 to 8 of the pipeline above.</b> The main <b>objective</b> here is to <b>build a model that can predict as many churners as possible, thus recall is the metric of interest.</b> Once I build this model, the <b>bank can plan strategies for client retention, maintaining healthy revenue. Acquiring new customers is costlier than keeping existing ones.</b> Furthermore, I will approach these steps in detail below, explaining why I am making each decision."
   ]
  },
  {
   "cell_type": "markdown",
   "metadata": {},
   "source": [
    "### Importing the libraries"
   ]
  },
  {
   "cell_type": "code",
   "execution_count": 1,
   "metadata": {},
   "outputs": [],
   "source": [
    "# Data manipulation and visualization.\n",
    "import pandas as pd\n",
    "import numpy as np\n",
    "import matplotlib.pyplot as plt\n",
    "import seaborn as sns\n",
    "\n",
    "# Modelling\n",
    "from sklearn.model_selection import train_test_split, StratifiedKFold, cross_val_score\n",
    "from sklearn.pipeline import Pipeline\n",
    "from sklearn.compose import ColumnTransformer\n",
    "from sklearn.preprocessing import OrdinalEncoder, StandardScaler\n",
    "from category_encoders import TargetEncoder\n",
    "from sklearn.metrics import classification_report, roc_auc_score, confusion_matrix, roc_curve\n",
    "from sklearn.linear_model import LogisticRegression\n",
    "from sklearn.svm import LinearSVC, SVC\n",
    "from sklearn.neighbors import KNeighborsClassifier\n",
    "from sklearn.ensemble import RandomForestClassifier\n",
    "from xgboost import XGBClassifier\n",
    "from skopt import BayesSearchCV\n",
    "from skopt.space import Real, Categorical, Integer\n",
    "from sklearn.base import clone\n",
    "\n",
    "# Fixing bayesian search error.\n",
    "np.int = int\n",
    "\n",
    "# Filter warnings.\n",
    "import warnings\n",
    "warnings.filterwarnings('ignore')\n",
    "\n",
    "# Utils\n",
    "from notebooks.modelling_utils import *"
   ]
  },
  {
   "cell_type": "markdown",
   "metadata": {},
   "source": [
    "### Reading the dataset"
   ]
  },
  {
   "cell_type": "code",
   "execution_count": 2,
   "metadata": {},
   "outputs": [],
   "source": [
    "df = pd.read_csv('data/BankChurners.csv')\n",
    "\n",
    "# Features that must be dropped.\n",
    "df.drop(columns=['Naive_Bayes_Classifier_Attrition_Flag_Card_Category_Contacts_Count_12_mon_Dependent_count_Education_Level_Months_Inactive_12_mon_2', 'Naive_Bayes_Classifier_Attrition_Flag_Card_Category_Contacts_Count_12_mon_Dependent_count_Education_Level_Months_Inactive_12_mon_1'], inplace=True)"
   ]
  },
  {
   "cell_type": "code",
   "execution_count": 3,
   "metadata": {},
   "outputs": [
    {
     "data": {
      "text/html": [
       "<div>\n",
       "<style scoped>\n",
       "    .dataframe tbody tr th:only-of-type {\n",
       "        vertical-align: middle;\n",
       "    }\n",
       "\n",
       "    .dataframe tbody tr th {\n",
       "        vertical-align: top;\n",
       "    }\n",
       "\n",
       "    .dataframe thead th {\n",
       "        text-align: right;\n",
       "    }\n",
       "</style>\n",
       "<table border=\"1\" class=\"dataframe\">\n",
       "  <thead>\n",
       "    <tr style=\"text-align: right;\">\n",
       "      <th></th>\n",
       "      <th>CLIENTNUM</th>\n",
       "      <th>Attrition_Flag</th>\n",
       "      <th>Customer_Age</th>\n",
       "      <th>Gender</th>\n",
       "      <th>Dependent_count</th>\n",
       "      <th>Education_Level</th>\n",
       "      <th>Marital_Status</th>\n",
       "      <th>Income_Category</th>\n",
       "      <th>Card_Category</th>\n",
       "      <th>Months_on_book</th>\n",
       "      <th>...</th>\n",
       "      <th>Months_Inactive_12_mon</th>\n",
       "      <th>Contacts_Count_12_mon</th>\n",
       "      <th>Credit_Limit</th>\n",
       "      <th>Total_Revolving_Bal</th>\n",
       "      <th>Avg_Open_To_Buy</th>\n",
       "      <th>Total_Amt_Chng_Q4_Q1</th>\n",
       "      <th>Total_Trans_Amt</th>\n",
       "      <th>Total_Trans_Ct</th>\n",
       "      <th>Total_Ct_Chng_Q4_Q1</th>\n",
       "      <th>Avg_Utilization_Ratio</th>\n",
       "    </tr>\n",
       "  </thead>\n",
       "  <tbody>\n",
       "    <tr>\n",
       "      <th>0</th>\n",
       "      <td>768805383</td>\n",
       "      <td>Existing Customer</td>\n",
       "      <td>45</td>\n",
       "      <td>M</td>\n",
       "      <td>3</td>\n",
       "      <td>High School</td>\n",
       "      <td>Married</td>\n",
       "      <td>$60K - $80K</td>\n",
       "      <td>Blue</td>\n",
       "      <td>39</td>\n",
       "      <td>...</td>\n",
       "      <td>1</td>\n",
       "      <td>3</td>\n",
       "      <td>12691.0</td>\n",
       "      <td>777</td>\n",
       "      <td>11914.0</td>\n",
       "      <td>1.335</td>\n",
       "      <td>1144</td>\n",
       "      <td>42</td>\n",
       "      <td>1.625</td>\n",
       "      <td>0.061</td>\n",
       "    </tr>\n",
       "    <tr>\n",
       "      <th>1</th>\n",
       "      <td>818770008</td>\n",
       "      <td>Existing Customer</td>\n",
       "      <td>49</td>\n",
       "      <td>F</td>\n",
       "      <td>5</td>\n",
       "      <td>Graduate</td>\n",
       "      <td>Single</td>\n",
       "      <td>Less than $40K</td>\n",
       "      <td>Blue</td>\n",
       "      <td>44</td>\n",
       "      <td>...</td>\n",
       "      <td>1</td>\n",
       "      <td>2</td>\n",
       "      <td>8256.0</td>\n",
       "      <td>864</td>\n",
       "      <td>7392.0</td>\n",
       "      <td>1.541</td>\n",
       "      <td>1291</td>\n",
       "      <td>33</td>\n",
       "      <td>3.714</td>\n",
       "      <td>0.105</td>\n",
       "    </tr>\n",
       "    <tr>\n",
       "      <th>2</th>\n",
       "      <td>713982108</td>\n",
       "      <td>Existing Customer</td>\n",
       "      <td>51</td>\n",
       "      <td>M</td>\n",
       "      <td>3</td>\n",
       "      <td>Graduate</td>\n",
       "      <td>Married</td>\n",
       "      <td>$80K - $120K</td>\n",
       "      <td>Blue</td>\n",
       "      <td>36</td>\n",
       "      <td>...</td>\n",
       "      <td>1</td>\n",
       "      <td>0</td>\n",
       "      <td>3418.0</td>\n",
       "      <td>0</td>\n",
       "      <td>3418.0</td>\n",
       "      <td>2.594</td>\n",
       "      <td>1887</td>\n",
       "      <td>20</td>\n",
       "      <td>2.333</td>\n",
       "      <td>0.000</td>\n",
       "    </tr>\n",
       "    <tr>\n",
       "      <th>3</th>\n",
       "      <td>769911858</td>\n",
       "      <td>Existing Customer</td>\n",
       "      <td>40</td>\n",
       "      <td>F</td>\n",
       "      <td>4</td>\n",
       "      <td>High School</td>\n",
       "      <td>Unknown</td>\n",
       "      <td>Less than $40K</td>\n",
       "      <td>Blue</td>\n",
       "      <td>34</td>\n",
       "      <td>...</td>\n",
       "      <td>4</td>\n",
       "      <td>1</td>\n",
       "      <td>3313.0</td>\n",
       "      <td>2517</td>\n",
       "      <td>796.0</td>\n",
       "      <td>1.405</td>\n",
       "      <td>1171</td>\n",
       "      <td>20</td>\n",
       "      <td>2.333</td>\n",
       "      <td>0.760</td>\n",
       "    </tr>\n",
       "    <tr>\n",
       "      <th>4</th>\n",
       "      <td>709106358</td>\n",
       "      <td>Existing Customer</td>\n",
       "      <td>40</td>\n",
       "      <td>M</td>\n",
       "      <td>3</td>\n",
       "      <td>Uneducated</td>\n",
       "      <td>Married</td>\n",
       "      <td>$60K - $80K</td>\n",
       "      <td>Blue</td>\n",
       "      <td>21</td>\n",
       "      <td>...</td>\n",
       "      <td>1</td>\n",
       "      <td>0</td>\n",
       "      <td>4716.0</td>\n",
       "      <td>0</td>\n",
       "      <td>4716.0</td>\n",
       "      <td>2.175</td>\n",
       "      <td>816</td>\n",
       "      <td>28</td>\n",
       "      <td>2.500</td>\n",
       "      <td>0.000</td>\n",
       "    </tr>\n",
       "  </tbody>\n",
       "</table>\n",
       "<p>5 rows × 21 columns</p>\n",
       "</div>"
      ],
      "text/plain": [
       "   CLIENTNUM     Attrition_Flag  Customer_Age Gender  Dependent_count   \n",
       "0  768805383  Existing Customer            45      M                3  \\\n",
       "1  818770008  Existing Customer            49      F                5   \n",
       "2  713982108  Existing Customer            51      M                3   \n",
       "3  769911858  Existing Customer            40      F                4   \n",
       "4  709106358  Existing Customer            40      M                3   \n",
       "\n",
       "  Education_Level Marital_Status Income_Category Card_Category   \n",
       "0     High School        Married     $60K - $80K          Blue  \\\n",
       "1        Graduate         Single  Less than $40K          Blue   \n",
       "2        Graduate        Married    $80K - $120K          Blue   \n",
       "3     High School        Unknown  Less than $40K          Blue   \n",
       "4      Uneducated        Married     $60K - $80K          Blue   \n",
       "\n",
       "   Months_on_book  ...  Months_Inactive_12_mon  Contacts_Count_12_mon   \n",
       "0              39  ...                       1                      3  \\\n",
       "1              44  ...                       1                      2   \n",
       "2              36  ...                       1                      0   \n",
       "3              34  ...                       4                      1   \n",
       "4              21  ...                       1                      0   \n",
       "\n",
       "   Credit_Limit  Total_Revolving_Bal  Avg_Open_To_Buy  Total_Amt_Chng_Q4_Q1   \n",
       "0       12691.0                  777          11914.0                 1.335  \\\n",
       "1        8256.0                  864           7392.0                 1.541   \n",
       "2        3418.0                    0           3418.0                 2.594   \n",
       "3        3313.0                 2517            796.0                 1.405   \n",
       "4        4716.0                    0           4716.0                 2.175   \n",
       "\n",
       "   Total_Trans_Amt  Total_Trans_Ct  Total_Ct_Chng_Q4_Q1  Avg_Utilization_Ratio  \n",
       "0             1144              42                1.625                  0.061  \n",
       "1             1291              33                3.714                  0.105  \n",
       "2             1887              20                2.333                  0.000  \n",
       "3             1171              20                2.333                  0.760  \n",
       "4              816              28                2.500                  0.000  \n",
       "\n",
       "[5 rows x 21 columns]"
      ]
     },
     "execution_count": 3,
     "metadata": {},
     "output_type": "execute_result"
    }
   ],
   "source": [
    "df.head()"
   ]
  },
  {
   "cell_type": "markdown",
   "metadata": {},
   "source": [
    "- I will drop the CLIENTNUM variable because it has an unique value for each record, not being useful for the analysis.\n",
    "- I will rename the columns in a standard format in order to turn the data manipulation easier. Moreover, attrition_flag will be renamed as churn_flag for interpretation purposes.\n",
    "- I will express Gender and Attrition_Flag variables as binary. This will make eda easier, like when looking at percentual values."
   ]
  },
  {
   "cell_type": "code",
   "execution_count": 4,
   "metadata": {},
   "outputs": [],
   "source": [
    "df.drop(columns=['CLIENTNUM'], inplace=True)"
   ]
  },
  {
   "cell_type": "code",
   "execution_count": 5,
   "metadata": {},
   "outputs": [],
   "source": [
    "df.columns = [x.lower() for x in df.columns]"
   ]
  },
  {
   "cell_type": "code",
   "execution_count": 6,
   "metadata": {},
   "outputs": [],
   "source": [
    "df['gender'] = df['gender'].map({'M': 1, 'F': 0})\n",
    "df['attrition_flag'] = df['attrition_flag'].map({'Attrited Customer': 1, 'Existing Customer': 0})"
   ]
  },
  {
   "cell_type": "code",
   "execution_count": 7,
   "metadata": {},
   "outputs": [],
   "source": [
    "df.rename(columns={'attrition_flag': 'churn_flag'}, inplace=True)"
   ]
  },
  {
   "cell_type": "markdown",
   "metadata": {},
   "source": [
    "### Split the data into train and test sets\n",
    "- First of all, I will split the data into train and test sets.\n",
    "- Test set is supposed to be data the model has never seen before.\n",
    "- This split will avoid data leakage, which occurs when information from the test set or future data inadvertently leaks into the training process, leading to over-optimistic performance estimate, compromising the model's ability to generalize to new, unseen data.\n",
    "- A good practice to protect the model against data leakage is perform fit_transform on training data and just transform on test data when applying preprocessing steps after the split.\n",
    "- I will specify stratify=y so that the train_test_split function ensures that the splitting process maintains the same percentage of each target class in both the training and testing sets. This is particularly useful when dealing with imbalanced datasets, which is the case, as there are more existing customers than attrited ones."
   ]
  },
  {
   "cell_type": "code",
   "execution_count": 8,
   "metadata": {},
   "outputs": [],
   "source": [
    "X = df.drop(columns=['churn_flag'])\n",
    "y = df['churn_flag'].copy()\n",
    "\n",
    "X_train, X_test, y_train, y_test = train_test_split(X, y, test_size=0.2, stratify=y, random_state=42)"
   ]
  },
  {
   "cell_type": "code",
   "execution_count": 9,
   "metadata": {},
   "outputs": [
    {
     "name": "stdout",
     "output_type": "stream",
     "text": [
      "Train predictor dataset shape: (8101, 19).\n",
      "Train target dataset shape: (8101,).\n",
      "Test predictor dataset shape: (2026, 19).\n",
      "Test target dataset shape: (2026,).\n"
     ]
    }
   ],
   "source": [
    "print(f'Train predictor dataset shape: {X_train.shape}.')\n",
    "print(f'Train target dataset shape: {y_train.shape}.')\n",
    "print(f'Test predictor dataset shape: {X_test.shape}.')\n",
    "print(f'Test target dataset shape: {y_test.shape}.')"
   ]
  },
  {
   "cell_type": "code",
   "execution_count": 10,
   "metadata": {},
   "outputs": [
    {
     "name": "stdout",
     "output_type": "stream",
     "text": [
      "Train target proportion: \n",
      "churn_flag\n",
      "0    0.839279\n",
      "1    0.160721\n",
      "Name: proportion, dtype: float64\n",
      "\n",
      "Test target proportion: \n",
      "churn_flag\n",
      "0    0.839585\n",
      "1    0.160415\n",
      "Name: proportion, dtype: float64\n"
     ]
    }
   ],
   "source": [
    "print(f'Train target proportion: ')\n",
    "print(f'{y_train.value_counts(normalize=True)}')\n",
    "print(f'\\nTest target proportion: ')\n",
    "print(f'{y_test.value_counts(normalize=True)}')"
   ]
  },
  {
   "cell_type": "markdown",
   "metadata": {},
   "source": [
    "The target classes proportions were preserved."
   ]
  },
  {
   "cell_type": "markdown",
   "metadata": {},
   "source": [
    "# 5. Data cleaning and preprocessing\n",
    "In order to fit machine learning algorithms, it is necessary to apply some transformations to the data.\n",
    "- <b>Impute missing values:</b> The dataset doesn't have missing values. So it will not be necessary to impute any.\n",
    "- <b>Outliers:</b> In the eda step, I investigated the outliers and saw they don't represent inconsistent information like measurement errors. Thus, considering this and the fact that they carry valuable information for the model, I will not drop or treat any.\n",
    "- In order to train tree-based algorithms, it is not necessary to scale the data. However, as I intend to test different algorithms, I will apply standard scaler on numerical and categorical features (after encoding). By doing this, it will be possible to compare all models at once.\n",
    "- <b>Numerical features:</b> Some algorithms are sensitive to feature scaling because they use distance calculations or optimizations like gradient descent for being trained, which are affected by scale. Thus, I will apply StandardScaler on numeric attributes (it is more robust to outliers than MinMaxScaler, which uses range).\n",
    "- <b>Categorical features:</b> Machine learning algorithms make mathematical calculations, so it's necessary to convert the categoric attributes to numeric by applying encoding techniques. Education level, income category, and card category present ordinal relationships. Thus, I will choose OrdinalEncoder for encoding them, in order to preserve this behavior. Moreover, once OneHotEncoder might be harmful for tree-based models (because of increased dimensionality and sparse representation) and favor overfitting, I will apply TargetEncoder on marital status. After all these variables are encoded/converted to numeric, I will apply StandardScaler because, as I've mentioned above, I intend to test a bunch of models at once, and some of them are sensitive to scale.\n",
    "- Once the proportions of the 'Unknown' category within education level, income category, and marital status are low, and these variables seem to have a minimal effect on the dependent variable (I verified this on the EDA step), I will leave it untreated."
   ]
  },
  {
   "cell_type": "code",
   "execution_count": 11,
   "metadata": {},
   "outputs": [
    {
     "data": {
      "text/html": [
       "<div>\n",
       "<style scoped>\n",
       "    .dataframe tbody tr th:only-of-type {\n",
       "        vertical-align: middle;\n",
       "    }\n",
       "\n",
       "    .dataframe tbody tr th {\n",
       "        vertical-align: top;\n",
       "    }\n",
       "\n",
       "    .dataframe thead th {\n",
       "        text-align: right;\n",
       "    }\n",
       "</style>\n",
       "<table border=\"1\" class=\"dataframe\">\n",
       "  <thead>\n",
       "    <tr style=\"text-align: right;\">\n",
       "      <th></th>\n",
       "      <th>customer_age</th>\n",
       "      <th>gender</th>\n",
       "      <th>dependent_count</th>\n",
       "      <th>education_level</th>\n",
       "      <th>marital_status</th>\n",
       "      <th>income_category</th>\n",
       "      <th>card_category</th>\n",
       "      <th>months_on_book</th>\n",
       "      <th>total_relationship_count</th>\n",
       "      <th>months_inactive_12_mon</th>\n",
       "      <th>contacts_count_12_mon</th>\n",
       "      <th>credit_limit</th>\n",
       "      <th>total_revolving_bal</th>\n",
       "      <th>avg_open_to_buy</th>\n",
       "      <th>total_amt_chng_q4_q1</th>\n",
       "      <th>total_trans_amt</th>\n",
       "      <th>total_trans_ct</th>\n",
       "      <th>total_ct_chng_q4_q1</th>\n",
       "      <th>avg_utilization_ratio</th>\n",
       "    </tr>\n",
       "  </thead>\n",
       "  <tbody>\n",
       "    <tr>\n",
       "      <th>2856</th>\n",
       "      <td>36</td>\n",
       "      <td>0</td>\n",
       "      <td>0</td>\n",
       "      <td>Unknown</td>\n",
       "      <td>Married</td>\n",
       "      <td>Less than $40K</td>\n",
       "      <td>Blue</td>\n",
       "      <td>24</td>\n",
       "      <td>4</td>\n",
       "      <td>3</td>\n",
       "      <td>2</td>\n",
       "      <td>2570.0</td>\n",
       "      <td>2230</td>\n",
       "      <td>340.0</td>\n",
       "      <td>0.686</td>\n",
       "      <td>1755</td>\n",
       "      <td>42</td>\n",
       "      <td>0.448</td>\n",
       "      <td>0.868</td>\n",
       "    </tr>\n",
       "    <tr>\n",
       "      <th>6515</th>\n",
       "      <td>44</td>\n",
       "      <td>1</td>\n",
       "      <td>3</td>\n",
       "      <td>High School</td>\n",
       "      <td>Single</td>\n",
       "      <td>$60K - $80K</td>\n",
       "      <td>Silver</td>\n",
       "      <td>36</td>\n",
       "      <td>5</td>\n",
       "      <td>2</td>\n",
       "      <td>3</td>\n",
       "      <td>25276.0</td>\n",
       "      <td>0</td>\n",
       "      <td>25276.0</td>\n",
       "      <td>0.849</td>\n",
       "      <td>2282</td>\n",
       "      <td>38</td>\n",
       "      <td>0.583</td>\n",
       "      <td>0.000</td>\n",
       "    </tr>\n",
       "    <tr>\n",
       "      <th>7141</th>\n",
       "      <td>46</td>\n",
       "      <td>1</td>\n",
       "      <td>2</td>\n",
       "      <td>High School</td>\n",
       "      <td>Married</td>\n",
       "      <td>$80K - $120K</td>\n",
       "      <td>Blue</td>\n",
       "      <td>30</td>\n",
       "      <td>6</td>\n",
       "      <td>3</td>\n",
       "      <td>1</td>\n",
       "      <td>11670.0</td>\n",
       "      <td>915</td>\n",
       "      <td>10755.0</td>\n",
       "      <td>0.892</td>\n",
       "      <td>4277</td>\n",
       "      <td>89</td>\n",
       "      <td>0.854</td>\n",
       "      <td>0.078</td>\n",
       "    </tr>\n",
       "    <tr>\n",
       "      <th>632</th>\n",
       "      <td>36</td>\n",
       "      <td>0</td>\n",
       "      <td>2</td>\n",
       "      <td>Graduate</td>\n",
       "      <td>Married</td>\n",
       "      <td>Less than $40K</td>\n",
       "      <td>Blue</td>\n",
       "      <td>24</td>\n",
       "      <td>3</td>\n",
       "      <td>1</td>\n",
       "      <td>3</td>\n",
       "      <td>3124.0</td>\n",
       "      <td>1593</td>\n",
       "      <td>1531.0</td>\n",
       "      <td>0.869</td>\n",
       "      <td>1652</td>\n",
       "      <td>41</td>\n",
       "      <td>0.367</td>\n",
       "      <td>0.510</td>\n",
       "    </tr>\n",
       "    <tr>\n",
       "      <th>3496</th>\n",
       "      <td>50</td>\n",
       "      <td>1</td>\n",
       "      <td>1</td>\n",
       "      <td>Graduate</td>\n",
       "      <td>Single</td>\n",
       "      <td>$120K +</td>\n",
       "      <td>Blue</td>\n",
       "      <td>40</td>\n",
       "      <td>4</td>\n",
       "      <td>2</td>\n",
       "      <td>3</td>\n",
       "      <td>34516.0</td>\n",
       "      <td>1185</td>\n",
       "      <td>33331.0</td>\n",
       "      <td>0.725</td>\n",
       "      <td>3874</td>\n",
       "      <td>72</td>\n",
       "      <td>0.714</td>\n",
       "      <td>0.034</td>\n",
       "    </tr>\n",
       "  </tbody>\n",
       "</table>\n",
       "</div>"
      ],
      "text/plain": [
       "      customer_age  gender  dependent_count education_level marital_status   \n",
       "2856            36       0                0         Unknown        Married  \\\n",
       "6515            44       1                3     High School         Single   \n",
       "7141            46       1                2     High School        Married   \n",
       "632             36       0                2        Graduate        Married   \n",
       "3496            50       1                1        Graduate         Single   \n",
       "\n",
       "     income_category card_category  months_on_book  total_relationship_count   \n",
       "2856  Less than $40K          Blue              24                         4  \\\n",
       "6515     $60K - $80K        Silver              36                         5   \n",
       "7141    $80K - $120K          Blue              30                         6   \n",
       "632   Less than $40K          Blue              24                         3   \n",
       "3496         $120K +          Blue              40                         4   \n",
       "\n",
       "      months_inactive_12_mon  contacts_count_12_mon  credit_limit   \n",
       "2856                       3                      2        2570.0  \\\n",
       "6515                       2                      3       25276.0   \n",
       "7141                       3                      1       11670.0   \n",
       "632                        1                      3        3124.0   \n",
       "3496                       2                      3       34516.0   \n",
       "\n",
       "      total_revolving_bal  avg_open_to_buy  total_amt_chng_q4_q1   \n",
       "2856                 2230            340.0                 0.686  \\\n",
       "6515                    0          25276.0                 0.849   \n",
       "7141                  915          10755.0                 0.892   \n",
       "632                  1593           1531.0                 0.869   \n",
       "3496                 1185          33331.0                 0.725   \n",
       "\n",
       "      total_trans_amt  total_trans_ct  total_ct_chng_q4_q1   \n",
       "2856             1755              42                0.448  \\\n",
       "6515             2282              38                0.583   \n",
       "7141             4277              89                0.854   \n",
       "632              1652              41                0.367   \n",
       "3496             3874              72                0.714   \n",
       "\n",
       "      avg_utilization_ratio  \n",
       "2856                  0.868  \n",
       "6515                  0.000  \n",
       "7141                  0.078  \n",
       "632                   0.510  \n",
       "3496                  0.034  "
      ]
     },
     "execution_count": 11,
     "metadata": {},
     "output_type": "execute_result"
    }
   ],
   "source": [
    "X_train.head()"
   ]
  },
  {
   "cell_type": "markdown",
   "metadata": {},
   "source": [
    "Checking missing values."
   ]
  },
  {
   "cell_type": "code",
   "execution_count": 12,
   "metadata": {},
   "outputs": [
    {
     "data": {
      "text/plain": [
       "customer_age                0\n",
       "gender                      0\n",
       "dependent_count             0\n",
       "education_level             0\n",
       "marital_status              0\n",
       "income_category             0\n",
       "card_category               0\n",
       "months_on_book              0\n",
       "total_relationship_count    0\n",
       "months_inactive_12_mon      0\n",
       "contacts_count_12_mon       0\n",
       "credit_limit                0\n",
       "total_revolving_bal         0\n",
       "avg_open_to_buy             0\n",
       "total_amt_chng_q4_q1        0\n",
       "total_trans_amt             0\n",
       "total_trans_ct              0\n",
       "total_ct_chng_q4_q1         0\n",
       "avg_utilization_ratio       0\n",
       "dtype: int64"
      ]
     },
     "execution_count": 12,
     "metadata": {},
     "output_type": "execute_result"
    }
   ],
   "source": [
    "X_train.isna().sum()"
   ]
  },
  {
   "cell_type": "markdown",
   "metadata": {},
   "source": [
    "Checking numerical features."
   ]
  },
  {
   "cell_type": "code",
   "execution_count": 13,
   "metadata": {},
   "outputs": [
    {
     "name": "stdout",
     "output_type": "stream",
     "text": [
      "There are 15 numerical features.\n",
      "They are:\n",
      "['customer_age', 'gender', 'dependent_count', 'months_on_book', 'total_relationship_count', 'months_inactive_12_mon', 'contacts_count_12_mon', 'credit_limit', 'total_revolving_bal', 'avg_open_to_buy', 'total_amt_chng_q4_q1', 'total_trans_amt', 'total_trans_ct', 'total_ct_chng_q4_q1', 'avg_utilization_ratio']\n"
     ]
    }
   ],
   "source": [
    "numerical_features = X_train.select_dtypes('number').columns.to_list()\n",
    "print(f'There are {len(numerical_features)} numerical features.')\n",
    "print('They are:')\n",
    "print(numerical_features)"
   ]
  },
  {
   "cell_type": "markdown",
   "metadata": {},
   "source": [
    "Checking categorical features cardinality and unique values."
   ]
  },
  {
   "cell_type": "code",
   "execution_count": 14,
   "metadata": {},
   "outputs": [
    {
     "name": "stdout",
     "output_type": "stream",
     "text": [
      "There are 4 categorical features.\n",
      "They are: \n",
      "['education_level', 'marital_status', 'income_category', 'card_category']\n"
     ]
    }
   ],
   "source": [
    "categorical_features = X_train.select_dtypes('object').columns.to_list()\n",
    "print(f'There are {len(categorical_features)} categorical features.')\n",
    "print('They are: ')\n",
    "print(categorical_features)"
   ]
  },
  {
   "cell_type": "code",
   "execution_count": 15,
   "metadata": {},
   "outputs": [
    {
     "name": "stdout",
     "output_type": "stream",
     "text": [
      "education_level\n",
      "----------------------------------------\n",
      "There are 7 unique values. They are: \n",
      "education_level\n",
      "Graduate         0.306382\n",
      "High School      0.203679\n",
      "Unknown          0.148994\n",
      "Uneducated       0.146031\n",
      "College          0.098259\n",
      "Post-Graduate    0.052710\n",
      "Doctorate        0.043945\n",
      "Name: proportion, dtype: float64\n",
      "\n",
      "marital_status\n",
      "----------------------------------------\n",
      "There are 4 unique values. They are: \n",
      "marital_status\n",
      "Married     0.463523\n",
      "Single      0.387853\n",
      "Unknown     0.074682\n",
      "Divorced    0.073941\n",
      "Name: proportion, dtype: float64\n",
      "\n",
      "income_category\n",
      "----------------------------------------\n",
      "There are 6 unique values. They are: \n",
      "income_category\n",
      "Less than $40K    0.349586\n",
      "$40K - $60K       0.178990\n",
      "$80K - $120K      0.149241\n",
      "$60K - $80K       0.140230\n",
      "Unknown           0.109369\n",
      "$120K +           0.072584\n",
      "Name: proportion, dtype: float64\n",
      "\n",
      "card_category\n",
      "----------------------------------------\n",
      "There are 4 unique values. They are: \n",
      "card_category\n",
      "Blue        0.933095\n",
      "Silver      0.053203\n",
      "Gold        0.011604\n",
      "Platinum    0.002099\n",
      "Name: proportion, dtype: float64\n",
      "\n"
     ]
    }
   ],
   "source": [
    "for feature in categorical_features:\n",
    "    print(feature)\n",
    "    print('-'*40)\n",
    "    print(f'There are {X_train[feature].nunique()} unique values. They are: ')\n",
    "    print(X_train[feature].value_counts(normalize=True))\n",
    "    print()"
   ]
  },
  {
   "cell_type": "markdown",
   "metadata": {},
   "source": [
    "I will build the preprocessor below, following the techniques I have mentioned above."
   ]
  },
  {
   "cell_type": "code",
   "execution_count": 16,
   "metadata": {},
   "outputs": [],
   "source": [
    "target_encoder_feature = ['marital_status']\n",
    "ordinal_encoder_features = list(filter(lambda x: x != 'marital_status', categorical_features))"
   ]
  },
  {
   "cell_type": "code",
   "execution_count": 17,
   "metadata": {},
   "outputs": [],
   "source": [
    "ordinal_pipeline = Pipeline(\n",
    "    steps=[\n",
    "        ('ordinal_encoder', OrdinalEncoder()),\n",
    "        ('std_scaler', StandardScaler())\n",
    "    ]\n",
    ")\n",
    "\n",
    "target_pipeline = Pipeline(\n",
    "    steps=[\n",
    "        ('target_encoder', TargetEncoder(cols=target_encoder_feature)),\n",
    "        ('std_scaler', StandardScaler())\n",
    "    ]\n",
    ")\n",
    "\n",
    "preprocessor = ColumnTransformer(\n",
    "    transformers=[\n",
    "        ('ordinal', ordinal_pipeline, ordinal_encoder_features),\n",
    "        ('target', target_pipeline, target_encoder_feature),\n",
    "        ('std_scaler', StandardScaler(), numerical_features)\n",
    "    ], remainder='passthrough'\n",
    ")"
   ]
  },
  {
   "cell_type": "code",
   "execution_count": 18,
   "metadata": {},
   "outputs": [
    {
     "data": {
      "text/plain": [
       "(8101, 19)"
      ]
     },
     "execution_count": 18,
     "metadata": {},
     "output_type": "execute_result"
    }
   ],
   "source": [
    "X_train_prepared = preprocessor.fit_transform(X_train, y_train)\n",
    "X_train_prepared.shape"
   ]
  },
  {
   "cell_type": "markdown",
   "metadata": {},
   "source": [
    "# 6. Model training, comparison, selection and tuning\n",
    "- In this step, I intend to compare different models performances. In order to achieve this, I will use stratified k-fold cross validation to train each one of them and evaluate their ROC-AUC score. Accuracy is not a good metric because the target is imbalanced. Moreover, stratified k-fold cross validation will maintain the target proportion on each fold, dealing with the imbalanced target as well.\n",
    "- <b>K-fold cross-validation</b> is a technique used in machine learning to assess the performance of a model. It involves dividing the dataset into K subsets, using K-1 for training and one for testing iteratively. This helps in estimating a model's generalization ability by reducing the risk of overfitting and providing more reliable performance metrics.\n",
    "- My objective here is to select a best model to go for hyperparameter tuning. In order to get this best model, I will evaluate the highest roc-auc average validation scores and look at the bias-variance trade-off.\n",
    "- After selecting a model, I will tune its hyperparameters.\n",
    "- <b>Hyperparameter tuning</b> refers to the process of selecting the optimal hyperparameters for a machine learning model. Hyperparameters are parameters that are set before the model is trained and directly influence its performance but are not learned from the data."
   ]
  },
  {
   "cell_type": "markdown",
   "metadata": {},
   "source": [
    "Training the models and comparing their performances (roc-auc score) with stratified k-fold cross validation in order to choose one of them for hyperparameter tuning."
   ]
  },
  {
   "cell_type": "code",
   "execution_count": 19,
   "metadata": {},
   "outputs": [],
   "source": [
    "models = {\n",
    "    'Logistic Regression': LogisticRegression(),\n",
    "    'Linear SVM': LinearSVC(),\n",
    "    'SVM': SVC(),\n",
    "    'K-Nearest Neighbors': KNeighborsClassifier(),\n",
    "    'Random Forest': RandomForestClassifier(),\n",
    "    'XGBoost': XGBClassifier()\n",
    "}"
   ]
  },
  {
   "cell_type": "code",
   "execution_count": 20,
   "metadata": {},
   "outputs": [
    {
     "name": "stdout",
     "output_type": "stream",
     "text": [
      "Logistic Regression results: \n",
      "--------------------------------------------------\n",
      "Training score: 0.7774691950045061\n",
      "Average validation score: 0.9246184502141572\n",
      "Standard deviation: 0.0067341895575112175\n",
      "Training time: 0.21669 seconds\n",
      "\n",
      "Linear SVM results: \n",
      "--------------------------------------------------\n",
      "Training score: 0.7738005995731277\n",
      "Average validation score: 0.9239775073451801\n",
      "Standard deviation: 0.006749177059085406\n",
      "Training time: 0.59142 seconds\n",
      "\n",
      "SVM results: \n",
      "--------------------------------------------------\n",
      "Training score: 0.8693740879486885\n",
      "Average validation score: 0.9646058713376107\n",
      "Standard deviation: 0.003675693481127849\n",
      "Training time: 1.10908 seconds\n",
      "\n",
      "K-Nearest Neighbors results: \n",
      "--------------------------------------------------\n",
      "Training score: 0.8217959336660379\n",
      "Average validation score: 0.893980077704563\n",
      "Standard deviation: 0.009623366108436573\n",
      "Training time: 0.00096 seconds\n",
      "\n",
      "Random Forest results: \n",
      "--------------------------------------------------\n",
      "Training score: 1.0\n",
      "Average validation score: 0.9881043154815838\n",
      "Standard deviation: 0.0021791660373272595\n",
      "Training time: 2.48212 seconds\n",
      "\n",
      "XGBoost results: \n",
      "--------------------------------------------------\n",
      "Training score: 1.0\n",
      "Average validation score: 0.9927042340861723\n",
      "Standard deviation: 0.0015715046453740264\n",
      "Training time: 1.68472 seconds\n",
      "\n",
      "Plotting the results: \n"
     ]
    },
    {
     "data": {
      "image/png": "[encoded data removed]",
      "text/plain": [
       "<Figure size 1500x600 with 1 Axes>"
      ]
     },
     "metadata": {},
     "output_type": "display_data"
    }
   ],
   "source": [
    "eval_df = evaluate_models_cv(models=models, X_train=X_train_prepared, y_train=y_train)"
   ]
  },
  {
   "cell_type": "code",
   "execution_count": 21,
   "metadata": {},
   "outputs": [
    {
     "data": {
      "text/html": [
       "<div>\n",
       "<style scoped>\n",
       "    .dataframe tbody tr th:only-of-type {\n",
       "        vertical-align: middle;\n",
       "    }\n",
       "\n",
       "    .dataframe tbody tr th {\n",
       "        vertical-align: top;\n",
       "    }\n",
       "\n",
       "    .dataframe thead th {\n",
       "        text-align: right;\n",
       "    }\n",
       "</style>\n",
       "<table border=\"1\" class=\"dataframe\">\n",
       "  <thead>\n",
       "    <tr style=\"text-align: right;\">\n",
       "      <th></th>\n",
       "      <th>Model</th>\n",
       "      <th>Average Val Score</th>\n",
       "      <th>Train Score</th>\n",
       "    </tr>\n",
       "  </thead>\n",
       "  <tbody>\n",
       "    <tr>\n",
       "      <th>5</th>\n",
       "      <td>XGBoost</td>\n",
       "      <td>0.992704</td>\n",
       "      <td>1.000000</td>\n",
       "    </tr>\n",
       "    <tr>\n",
       "      <th>4</th>\n",
       "      <td>Random Forest</td>\n",
       "      <td>0.988104</td>\n",
       "      <td>1.000000</td>\n",
       "    </tr>\n",
       "    <tr>\n",
       "      <th>2</th>\n",
       "      <td>SVM</td>\n",
       "      <td>0.964606</td>\n",
       "      <td>0.869374</td>\n",
       "    </tr>\n",
       "    <tr>\n",
       "      <th>0</th>\n",
       "      <td>Logistic Regression</td>\n",
       "      <td>0.924618</td>\n",
       "      <td>0.777469</td>\n",
       "    </tr>\n",
       "    <tr>\n",
       "      <th>1</th>\n",
       "      <td>Linear SVM</td>\n",
       "      <td>0.923978</td>\n",
       "      <td>0.773801</td>\n",
       "    </tr>\n",
       "    <tr>\n",
       "      <th>3</th>\n",
       "      <td>K-Nearest Neighbors</td>\n",
       "      <td>0.893980</td>\n",
       "      <td>0.821796</td>\n",
       "    </tr>\n",
       "  </tbody>\n",
       "</table>\n",
       "</div>"
      ],
      "text/plain": [
       "                 Model  Average Val Score  Train Score\n",
       "5              XGBoost           0.992704     1.000000\n",
       "4        Random Forest           0.988104     1.000000\n",
       "2                  SVM           0.964606     0.869374\n",
       "0  Logistic Regression           0.924618     0.777469\n",
       "1           Linear SVM           0.923978     0.773801\n",
       "3  K-Nearest Neighbors           0.893980     0.821796"
      ]
     },
     "execution_count": 21,
     "metadata": {},
     "output_type": "execute_result"
    }
   ],
   "source": [
    "eval_df.sort_values(['Average Val Score'], ascending=False)"
   ]
  },
  {
   "cell_type": "markdown",
   "metadata": {},
   "source": [
    "The results are great. I will go with XGBoost for hyperparameter tuning and final model evaluation because it presents the highest average validation ROC-AUC score."
   ]
  },
  {
   "cell_type": "markdown",
   "metadata": {},
   "source": [
    "### Hyperparameter tuning\n",
    "As I intend to tune XGBoost model, I won't use GridSearchCV.\n",
    "\n",
    "<b>Why not use grid search?</b> \n",
    "- Using grid search CV to tune XGBoost can be problematic due to its computational expense, limitations in granularity and adaptability, lack of consideration for interaction effects, inefficient exploration of the hyperparameter space, and inefficient allocation of computational resources. \n",
    "- Grid search exhaustively searches through all combinations of specified hyperparameters, it does not adapt its search based on the observed performance of previous hyperparameter configurations. Also, hyperparameters in XGBoost can have complex interactions, where the impact of one hyperparameter depends on the values of others (like learning rate and number of estimators). Grid search does not explicitly consider these interactions and evaluates hyperparameters independently. \n",
    "- As a result, more advanced optimization methods such as randomized search and Bayesian Optimization are often preferred for more efficient and effective hyperparameter tuning with XGBoost.<br>\n",
    "\n",
    "Considering this, I will tune XGBoost using Bayesian Optimization.\n",
    "\n",
    "<b>What is Bayesian Optimization?</b>\n",
    "-  Bayesian optimization is an efficient and adaptive technique for finding the optimal combination of hyperparameters for a machine learning model. It uses probabilistic models to intelligently explore the hyperparameter space, balancing exploration and exploitation."
   ]
  },
  {
   "cell_type": "markdown",
   "metadata": {},
   "source": [
    "An important point here is to define class_weight hyperparameter. Then, the algorithm will assign different weights for the target's minority (attrited) and majority (existing) class instances. Thus, the model will be penalized when mistakenly predicting a churner and also be able to better learn the patterns in minority class data samples. Moreover, first I will search for the parameters that yield the best ROC-AUC score in order to obtain an estimator highly capable of distinguishing between both classes. Then, I will examine the precision-recall trade-off to balance the improvement in the recall metric and the potential damage to the precision score."
   ]
  },
  {
   "cell_type": "code",
   "execution_count": 32,
   "metadata": {},
   "outputs": [],
   "source": [
    "n_folds = 5\n",
    "stratified_kfold = StratifiedKFold(n_splits=n_folds, shuffle=True, random_state=42)\n",
    "\n",
    "search_space = {\n",
    "    'n_estimators': Integer(100, 500),\n",
    "    'max_depth': Integer(2,16),\n",
    "    'learning_rate': Real(0.001, 1.0, prior='log-uniform'),\n",
    "    'min_child_weight': Integer(1,10),\n",
    "    'subsample': Real(0.5, 1.0),\n",
    "    'colsample_bytree': Real(0.5, 1.0),\n",
    "    'lambda': Real(0.0, 10.0),\n",
    "    'gamma': Real(0.0, 10.0),\n",
    "    'scale_pos_weight': Integer(1, 10)\n",
    "}\n",
    "\n",
    "bayesian_search = BayesSearchCV(XGBClassifier(), search_space, cv=stratified_kfold, n_iter=50, \n",
    "                                scoring='roc_auc', return_train_score=True, random_state=1) "
   ]
  },
  {
   "cell_type": "code",
   "execution_count": 33,
   "metadata": {},
   "outputs": [],
   "source": [
    "bayesian_search.fit(X_train_prepared, y_train)"
   ]
  },
  {
   "cell_type": "code",
   "execution_count": 24,
   "metadata": {},
   "outputs": [
    {
     "name": "stdout",
     "output_type": "stream",
     "text": [
      "The best params fund for XGBoost are: \n"
     ]
    },
    {
     "data": {
      "text/plain": [
       "OrderedDict([('colsample_bytree', 0.5),\n",
       "             ('gamma', 10.0),\n",
       "             ('lambda', 0.0),\n",
       "             ('learning_rate', 0.054581040830724896),\n",
       "             ('max_depth', 16),\n",
       "             ('min_child_weight', 10),\n",
       "             ('n_estimators', 378),\n",
       "             ('scale_pos_weight', 10),\n",
       "             ('subsample', 1.0)])"
      ]
     },
     "execution_count": 24,
     "metadata": {},
     "output_type": "execute_result"
    }
   ],
   "source": [
    "print(f'The best params fund for XGBoost are: ')\n",
    "bayesian_search.best_params_"
   ]
  },
  {
   "cell_type": "markdown",
   "metadata": {},
   "source": [
    "Let's take a look into some results obtained by the bayesian search cv, specially for important parameters, like lambda, learning_rate, max_depth, min_child_weight, n_estimators and scale pos weight."
   ]
  },
  {
   "cell_type": "code",
   "execution_count": 25,
   "metadata": {},
   "outputs": [
    {
     "data": {
      "text/html": [
       "<div>\n",
       "<style scoped>\n",
       "    .dataframe tbody tr th:only-of-type {\n",
       "        vertical-align: middle;\n",
       "    }\n",
       "\n",
       "    .dataframe tbody tr th {\n",
       "        vertical-align: top;\n",
       "    }\n",
       "\n",
       "    .dataframe thead th {\n",
       "        text-align: right;\n",
       "    }\n",
       "</style>\n",
       "<table border=\"1\" class=\"dataframe\">\n",
       "  <thead>\n",
       "    <tr style=\"text-align: right;\">\n",
       "      <th></th>\n",
       "      <th>rank_test_score</th>\n",
       "      <th>mean_test_score</th>\n",
       "      <th>mean_train_score</th>\n",
       "      <th>param_lambda</th>\n",
       "      <th>param_learning_rate</th>\n",
       "      <th>param_max_depth</th>\n",
       "      <th>param_min_child_weight</th>\n",
       "      <th>param_n_estimators</th>\n",
       "      <th>param_scale_pos_weight</th>\n",
       "    </tr>\n",
       "  </thead>\n",
       "  <tbody>\n",
       "    <tr>\n",
       "      <th>18</th>\n",
       "      <td>1</td>\n",
       "      <td>0.993327</td>\n",
       "      <td>0.999379</td>\n",
       "      <td>0.0</td>\n",
       "      <td>0.054581</td>\n",
       "      <td>16</td>\n",
       "      <td>10</td>\n",
       "      <td>378</td>\n",
       "      <td>10</td>\n",
       "    </tr>\n",
       "    <tr>\n",
       "      <th>14</th>\n",
       "      <td>2</td>\n",
       "      <td>0.993273</td>\n",
       "      <td>0.999957</td>\n",
       "      <td>1.235843</td>\n",
       "      <td>0.029642</td>\n",
       "      <td>12</td>\n",
       "      <td>3</td>\n",
       "      <td>375</td>\n",
       "      <td>2</td>\n",
       "    </tr>\n",
       "    <tr>\n",
       "      <th>47</th>\n",
       "      <td>3</td>\n",
       "      <td>0.993079</td>\n",
       "      <td>1.000000</td>\n",
       "      <td>3.331229</td>\n",
       "      <td>0.062701</td>\n",
       "      <td>16</td>\n",
       "      <td>1</td>\n",
       "      <td>500</td>\n",
       "      <td>10</td>\n",
       "    </tr>\n",
       "    <tr>\n",
       "      <th>34</th>\n",
       "      <td>4</td>\n",
       "      <td>0.993023</td>\n",
       "      <td>0.999931</td>\n",
       "      <td>9.586148</td>\n",
       "      <td>0.060155</td>\n",
       "      <td>16</td>\n",
       "      <td>4</td>\n",
       "      <td>424</td>\n",
       "      <td>7</td>\n",
       "    </tr>\n",
       "    <tr>\n",
       "      <th>32</th>\n",
       "      <td>5</td>\n",
       "      <td>0.992907</td>\n",
       "      <td>0.999993</td>\n",
       "      <td>0.0</td>\n",
       "      <td>0.108921</td>\n",
       "      <td>10</td>\n",
       "      <td>10</td>\n",
       "      <td>156</td>\n",
       "      <td>10</td>\n",
       "    </tr>\n",
       "    <tr>\n",
       "      <th>3</th>\n",
       "      <td>6</td>\n",
       "      <td>0.992728</td>\n",
       "      <td>0.999995</td>\n",
       "      <td>5.980471</td>\n",
       "      <td>0.256032</td>\n",
       "      <td>9</td>\n",
       "      <td>2</td>\n",
       "      <td>402</td>\n",
       "      <td>9</td>\n",
       "    </tr>\n",
       "    <tr>\n",
       "      <th>38</th>\n",
       "      <td>7</td>\n",
       "      <td>0.992605</td>\n",
       "      <td>0.998655</td>\n",
       "      <td>7.399444</td>\n",
       "      <td>0.060483</td>\n",
       "      <td>4</td>\n",
       "      <td>9</td>\n",
       "      <td>486</td>\n",
       "      <td>2</td>\n",
       "    </tr>\n",
       "    <tr>\n",
       "      <th>41</th>\n",
       "      <td>8</td>\n",
       "      <td>0.992569</td>\n",
       "      <td>0.999529</td>\n",
       "      <td>9.910328</td>\n",
       "      <td>0.117919</td>\n",
       "      <td>6</td>\n",
       "      <td>8</td>\n",
       "      <td>488</td>\n",
       "      <td>4</td>\n",
       "    </tr>\n",
       "    <tr>\n",
       "      <th>31</th>\n",
       "      <td>9</td>\n",
       "      <td>0.992517</td>\n",
       "      <td>0.999799</td>\n",
       "      <td>0.0</td>\n",
       "      <td>0.039615</td>\n",
       "      <td>14</td>\n",
       "      <td>10</td>\n",
       "      <td>499</td>\n",
       "      <td>10</td>\n",
       "    </tr>\n",
       "    <tr>\n",
       "      <th>33</th>\n",
       "      <td>10</td>\n",
       "      <td>0.992457</td>\n",
       "      <td>0.998138</td>\n",
       "      <td>5.163188</td>\n",
       "      <td>0.20958</td>\n",
       "      <td>2</td>\n",
       "      <td>8</td>\n",
       "      <td>490</td>\n",
       "      <td>4</td>\n",
       "    </tr>\n",
       "  </tbody>\n",
       "</table>\n",
       "</div>"
      ],
      "text/plain": [
       "    rank_test_score  mean_test_score  mean_train_score param_lambda   \n",
       "18                1         0.993327          0.999379          0.0  \\\n",
       "14                2         0.993273          0.999957     1.235843   \n",
       "47                3         0.993079          1.000000     3.331229   \n",
       "34                4         0.993023          0.999931     9.586148   \n",
       "32                5         0.992907          0.999993          0.0   \n",
       "3                 6         0.992728          0.999995     5.980471   \n",
       "38                7         0.992605          0.998655     7.399444   \n",
       "41                8         0.992569          0.999529     9.910328   \n",
       "31                9         0.992517          0.999799          0.0   \n",
       "33               10         0.992457          0.998138     5.163188   \n",
       "\n",
       "   param_learning_rate param_max_depth param_min_child_weight   \n",
       "18            0.054581              16                     10  \\\n",
       "14            0.029642              12                      3   \n",
       "47            0.062701              16                      1   \n",
       "34            0.060155              16                      4   \n",
       "32            0.108921              10                     10   \n",
       "3             0.256032               9                      2   \n",
       "38            0.060483               4                      9   \n",
       "41            0.117919               6                      8   \n",
       "31            0.039615              14                     10   \n",
       "33             0.20958               2                      8   \n",
       "\n",
       "   param_n_estimators param_scale_pos_weight  \n",
       "18                378                     10  \n",
       "14                375                      2  \n",
       "47                500                     10  \n",
       "34                424                      7  \n",
       "32                156                     10  \n",
       "3                 402                      9  \n",
       "38                486                      2  \n",
       "41                488                      4  \n",
       "31                499                     10  \n",
       "33                490                      4  "
      ]
     },
     "execution_count": 25,
     "metadata": {},
     "output_type": "execute_result"
    }
   ],
   "source": [
    "bayesian_search_results = pd.DataFrame(bayesian_search.cv_results_)\n",
    "bayesian_search_results = bayesian_search_results[['rank_test_score','mean_test_score',\n",
    "                                                   'mean_train_score', 'param_lambda',\n",
    "                                                   'param_learning_rate', 'param_max_depth', \n",
    "                                                   'param_min_child_weight', 'param_n_estimators',\n",
    "                                                   'param_scale_pos_weight']]\n",
    "bayesian_search_results.sort_values(['rank_test_score']).head(10)"
   ]
  },
  {
   "cell_type": "markdown",
   "metadata": {},
   "source": [
    "### 7. Final production model testing and evaluation\n",
    "- In this step, I intend to evaluate our final tuned model on test data (simulating production unseen data).\n",
    "- Once I am facing a binary classification problem with an imbalanced target, recall is the most important metric. I want my model to identify as many churners as possible. Therefore, we can be more flexible with lower precision values, as false positives will not cause many issues for the bank.\n",
    "- Moreover, I will look at precision-recall trade-off to see wheter there is space for recall metric improvement without significantly compromising the precision score. This is a good strategy when dealing with imbalanced data.\n",
    "- By identifying a large portion of the churn customers, the bank can plan strategies for retention, maintaining healthy revenue. Acquiring new customers is costlier than keeping existing ones. This is the main objective of the project."
   ]
  },
  {
   "cell_type": "markdown",
   "metadata": {},
   "source": [
    "Getting the final tuned XGBoost model."
   ]
  },
  {
   "cell_type": "code",
   "execution_count": 26,
   "metadata": {},
   "outputs": [],
   "source": [
    "final_xgb_clf = bayesian_search.best_estimator_"
   ]
  },
  {
   "cell_type": "markdown",
   "metadata": {},
   "source": [
    "Using the preprocessor to transform the test predictor set. By applying just transform we avoid data leakage."
   ]
  },
  {
   "cell_type": "code",
   "execution_count": 27,
   "metadata": {},
   "outputs": [
    {
     "data": {
      "text/plain": [
       "(2026, 19)"
      ]
     },
     "execution_count": 27,
     "metadata": {},
     "output_type": "execute_result"
    }
   ],
   "source": [
    "X_test_prepared = preprocessor.transform(X_test)\n",
    "X_test_prepared.shape"
   ]
  },
  {
   "cell_type": "markdown",
   "metadata": {},
   "source": [
    "Making predictions."
   ]
  },
  {
   "cell_type": "code",
   "execution_count": 28,
   "metadata": {},
   "outputs": [],
   "source": [
    "final_predictions = final_xgb_clf.predict(X_test_prepared)"
   ]
  },
  {
   "cell_type": "markdown",
   "metadata": {},
   "source": [
    "Getting the model's estimated probabilities of churn for roc-auc curve."
   ]
  },
  {
   "cell_type": "code",
   "execution_count": 29,
   "metadata": {},
   "outputs": [],
   "source": [
    "probas = final_xgb_clf.predict_proba(X_test_prepared)[:, 1]"
   ]
  },
  {
   "cell_type": "markdown",
   "metadata": {},
   "source": [
    "### Evaluating the final tuned XGBoost model."
   ]
  },
  {
   "cell_type": "code",
   "execution_count": 30,
   "metadata": {},
   "outputs": [
    {
     "name": "stdout",
     "output_type": "stream",
     "text": [
      "              precision    recall  f1-score   support\n",
      "\n",
      "           0       0.99      0.96      0.98      1701\n",
      "           1       0.83      0.94      0.88       325\n",
      "\n",
      "    accuracy                           0.96      2026\n",
      "   macro avg       0.91      0.95      0.93      2026\n",
      "weighted avg       0.96      0.96      0.96      2026\n",
      "\n"
     ]
    },
    {
     "data": {
      "image/png": "[encoded data removed]",
      "text/plain": [
       "<Figure size 640x480 with 2 Axes>"
      ]
     },
     "metadata": {},
     "output_type": "display_data"
    },
    {
     "data": {
      "image/png": "[encoded data removed]",
      "text/plain": [
       "<Figure size 500x300 with 1 Axes>"
      ]
     },
     "metadata": {},
     "output_type": "display_data"
    }
   ],
   "source": [
    "evaluate_classifier(y_test, final_predictions, probas)"
   ]
  },
  {
   "cell_type": "markdown",
   "metadata": {},
   "source": []
  },
  {
   "cell_type": "markdown",
   "metadata": {},
   "source": [
    "### Interpreting the model results with feature importances\n",
    "- Finally, I will look at <b>feature importances</b>, in order to interpret XGBoost outcomes. An important task when performing supervised learning on a dataset is determining which features provide the most predictive power. By focusing on the relationship between only a few crucial features and the target label we simplify our understanding of the phenomenon, which is most always a useful thing to do.\n",
    "- XGBoost calculates feature importances by measuring the total reduction in the loss function achieved by each feature when it is used in splitting the decision trees during the boosting process."
   ]
  },
  {
   "cell_type": "code",
   "execution_count": 31,
   "metadata": {},
   "outputs": [
    {
     "data": {
      "image/png": "[encoded data removed]",
      "text/plain": [
       "<Figure size 1200x300 with 1 Axes>"
      ]
     },
     "metadata": {},
     "output_type": "display_data"
    }
   ],
   "source": [
    "plot_feature_importances(final_xgb_clf, X_train)"
   ]
  }
 ],
 "metadata": {
  "kernelspec": {
   "display_name": "Python 3",
   "language": "python",
   "name": "python3"
  },
  "language_info": {
   "codemirror_mode": {
    "name": "ipython",
    "version": 3
   },
   "file_extension": ".py",
   "mimetype": "text/x-python",
   "name": "python",
   "nbconvert_exporter": "python",
   "pygments_lexer": "ipython3",
   "version": "3.11.4"
  },
  "orig_nbformat": 4
 },
 "nbformat": 4,
 "nbformat_minor": 2
}
