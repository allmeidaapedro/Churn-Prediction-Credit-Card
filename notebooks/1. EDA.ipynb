{
 "cells": [
  {
   "cell_type": "markdown",
   "metadata": {},
   "source": [
    "# Machine learning bank's credit card service churn prediction\n",
    "In this project, I will build a <b>machine learning model to predict customer churn in a bank's credit card service.</b> It involves <b>supervised learning (using a labeled training set) for classification</b>, where the <b>target</b> is <b>1</b> if the <b>customer churned</b>, else <b>0.</b>\n",
    "\n",
    "I will use the following <b>pipeline</b> based on <b>CRISP-DM framework:</b>\n",
    "\n",
    "<b>1. Define the business problem.</b><br>\n",
    "<b>2. Collect the data and get a general overview of it.</b><br>\n",
    "<b>3. Split the data into train and test sets.</b><br>\n",
    "<b>4. Explore the data (exploratory data analysis)</b><br>\n",
    "<b>5. Data cleaning and preprocessing.</b><br>\n",
    "<b>6. Model training, comparison, selection and tuning.</b><br>\n",
    "<b>7. Final production model testing and evaluation.</b><br>\n",
    "<b>8. Conclude and interpret the model results.</b><br>\n",
    "<b>9. Deploy.</b><br>\n",
    "\n",
    "In <b>this notebook</b>, I will perform <b>exploratory data analysis (EDA), covering steps 1 to 4 of the pipeline above.</b> The main <b>objective</b> here is to <b>uncover insights</b> that will give us <b>valuable information about churners' patterns</b> within the available features. Thus, even before building a model, it will be possible to help the bank with some churners profiles and tendencies. Furthermore, I will approach these steps in detail below, explaining why I am making each decision."
   ]
  },
  {
   "cell_type": "markdown",
   "metadata": {},
   "source": [
    "# 1. Business problem\n",
    "\n",
    "A <b>manager</b> at the <b>bank</b> is <b>disturbed</b> with more and more <b>customers leaving their credit card services</b>. They would really appreciate if one could <b>predict for them who is gonna get churned</b> so they can proactively go to the customer to <b>provide them better services and turn customers' decisions in the opposite direction.</b>\n",
    "\n",
    "<b>Context:</b>\n",
    "\n",
    "When a <b>bank acquires a customer</b> for its credit card service, three essential <b>Key Performance Indicators (KPIs)</b> to consider include:\n",
    "\n",
    "<b>1. Customer Acquisition Cost (CAC):</b> This measures the expenses associated with acquiring each credit card customer, encompassing marketing, sales, and related costs. Lower CAC reflects efficient customer acquisition.<br>\n",
    "<b>2. Customer Lifetime Value (CLV):</b> CLV estimates the total revenue the bank can expect to generate from a credit card customer over their relationship. A higher CLV indicates that the customer's value surpasses the acquisition cost, ensuring long-term profitability.<br>\n",
    "<b>3. Churn Rate:</b> Churn rate is typically expressed as a percentage and represents the number of credit card customers who have left during a specific period divided by the total number of customers at the beginning of that period.<br>\n",
    "\n",
    "These <b>KPIs</b> help the bank assess the <b>effectiveness</b> of its strategies in acquiring credit card customers and gauge the potential long-term financial benefit of these acquisitions.\n",
    "\n",
    "In order to <b>maximize profitability</b>, the bank aims to <b>minimize CAC and Churn while maximizing CLV.</b> \n",
    "\n",
    "Considering this, the <b>project objectives</b> are:\n",
    "\n",
    "<b>1. Identify the factors associated with customer churn.</b><br>\n",
    "<b>2. Construct a model capable of predicting as many potential churners as possible.</b><br>\n",
    "<b>3. Offer action plans for the bank to reduce credit card customer churn.</b><br>\n",
    "\n",
    "By doing this, we generate numerous <b>benefits</b> for the bank, such as:\n",
    "\n",
    "<b>1. Cost Savings</b><br>\n",
    "<b>2. Improved Customer Retention</b><br>\n",
    "<b>3. Enhanced Customer Experience</b><br>\n",
    "<b>4. Targeted Marketing</b><br>\n",
    "<b>5. Revenue Protection</b><br>\n",
    "\n",
    "And as a result, the mentioned <b>business problem will be resolved.</b>"
   ]
  },
  {
   "cell_type": "markdown",
   "metadata": {},
   "source": [
    "### Importing the libraries"
   ]
  },
  {
   "cell_type": "code",
   "execution_count": 1,
   "metadata": {},
   "outputs": [],
   "source": [
    "# Data manipulation and visualization.\n",
    "import pandas as pd\n",
    "import numpy as np\n",
    "import matplotlib.pyplot as plt\n",
    "import seaborn as sns\n",
    "\n",
    "# Split the data.\n",
    "from sklearn.model_selection import train_test_split\n",
    "\n",
    "# Utils\n",
    "from notebooks.eda_utils import *\n",
    "\n",
    "# Filter warnings.\n",
    "import warnings\n",
    "warnings.filterwarnings('ignore')\n",
    "\n",
    "# Seaborn grid style.\n",
    "sns.set_theme(style='whitegrid')"
   ]
  }
 ],
 "metadata": {
  "kernelspec": {
   "display_name": "Python 3",
   "language": "python",
   "name": "python3"
  },
  "language_info": {
   "codemirror_mode": {
    "name": "ipython",
    "version": 3
   },
   "file_extension": ".py",
   "mimetype": "text/x-python",
   "name": "python",
   "nbconvert_exporter": "python",
   "pygments_lexer": "ipython3",
   "version": "3.11.4"
  },
  "orig_nbformat": 4
 },
 "nbformat": 4,
 "nbformat_minor": 2
}
