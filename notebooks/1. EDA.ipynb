{
 "cells": [
  {
   "cell_type": "markdown",
   "metadata": {},
   "source": [
    "# Machine learning bank's credit card service churn prediction\n",
    "In this project, I will build a <b>machine learning model to predict customer churn in a bank's credit card service.</b> It involves <b>supervised learning (using a labeled training set) for classification</b>, where the <b>target</b> is <b>1</b> if the <b>customer churned</b>, else <b>0.</b>\n",
    "\n",
    "I will use the following <b>pipeline</b> based on <b>CRISP-DM framework:</b>\n",
    "\n",
    "<b>1. Define the business problem.</b><br>\n",
    "<b>2. Collect the data and get a general overview of it.</b><br>\n",
    "<b>3. Split the data into train and test sets.</b><br>\n",
    "<b>4. Explore the data (exploratory data analysis)</b><br>\n",
    "<b>5. Data cleaning and preprocessing.</b><br>\n",
    "<b>6. Model training, comparison, selection and tuning.</b><br>\n",
    "<b>7. Final production model testing and evaluation.</b><br>\n",
    "<b>8. Conclude and interpret the model results.</b><br>\n",
    "<b>9. Deploy.</b><br>\n",
    "\n",
    "In <b>this notebook</b>, I will perform <b>exploratory data analysis (EDA), covering steps 1 to 4 of the pipeline above.</b> The main <b>objective</b> here is to <b>uncover insights</b> that will give us <b>valuable information about churners' patterns</b> within the available features. Thus, even before building a model, it will be possible to help the bank with some churners profiles and tendencies. Furthermore, I will approach these steps in detail below, explaining why I am making each decision."
   ]
  },
  {
   "cell_type": "markdown",
   "metadata": {},
   "source": [
    "# 1. Business problem\n",
    "\n",
    "A <b>manager</b> at the <b>bank</b> is <b>disturbed</b> with more and more <b>customers leaving their credit card services</b>. They would really appreciate if one could <b>predict for them who is gonna get churned</b> so they can proactively go to the customer to <b>provide them better services and turn customers' decisions in the opposite direction.</b>\n",
    "\n",
    "<b>Context:</b>\n",
    "\n",
    "When a <b>bank acquires a customer</b> for its credit card service, three essential <b>Key Performance Indicators (KPIs)</b> to consider include:\n",
    "\n",
    "<b>1. Customer Acquisition Cost (CAC):</b> This measures the expenses associated with acquiring each credit card customer, encompassing marketing, sales, and related costs. Lower CAC reflects efficient customer acquisition.<br>\n",
    "<b>2. Customer Lifetime Value (CLV):</b> CLV estimates the total revenue the bank can expect to generate from a credit card customer over their relationship. A higher CLV indicates that the customer's value surpasses the acquisition cost, ensuring long-term profitability.<br>\n",
    "<b>3. Churn Rate:</b> Churn rate is typically expressed as a percentage and represents the number of credit card customers who have left during a specific period divided by the total number of customers at the beginning of that period.<br>\n",
    "\n",
    "These <b>KPIs</b> help the bank assess the <b>effectiveness</b> of its strategies in acquiring credit card customers and gauge the potential long-term financial benefit of these acquisitions.\n",
    "\n",
    "In order to <b>maximize profitability</b>, the bank aims to <b>minimize CAC and Churn while maximizing CLV.</b> \n",
    "\n",
    "Considering this, the <b>project objectives</b> are:\n",
    "\n",
    "<b>1. Identify the factors associated with customer churn.</b><br>\n",
    "<b>2. Construct a model capable of predicting as many potential churners as possible.</b><br>\n",
    "<b>3. Offer action plans for the bank to reduce credit card customer churn.</b><br>\n",
    "\n",
    "By doing this, we generate numerous <b>benefits</b> for the bank, such as:\n",
    "\n",
    "<b>1. Cost Savings</b><br>\n",
    "<b>2. Improved Customer Retention</b><br>\n",
    "<b>3. Enhanced Customer Experience</b><br>\n",
    "<b>4. Targeted Marketing</b><br>\n",
    "<b>5. Revenue Protection</b><br>\n",
    "\n",
    "And as a result, the mentioned <b>business problem will be resolved.</b>"
   ]
  },
  {
   "cell_type": "markdown",
   "metadata": {},
   "source": [
    "### Importing the libraries"
   ]
  },
  {
   "cell_type": "code",
   "execution_count": 1,
   "metadata": {},
   "outputs": [],
   "source": [
    "# Data manipulation and visualization.\n",
    "import pandas as pd\n",
    "import numpy as np\n",
    "import matplotlib.pyplot as plt\n",
    "import seaborn as sns\n",
    "\n",
    "# Split the data.\n",
    "from sklearn.model_selection import train_test_split\n",
    "\n",
    "# Utils\n",
    "from notebooks.eda_utils import *\n",
    "\n",
    "# Filter warnings.\n",
    "import warnings\n",
    "warnings.filterwarnings('ignore')\n",
    "\n",
    "# Seaborn grid style.\n",
    "sns.set_theme(style='whitegrid')"
   ]
  },
  {
   "cell_type": "markdown",
   "metadata": {},
   "source": [
    "# 2. Understanding the data\n",
    "- The dataset was collected from kaggle: https://www.kaggle.com/datasets/kabure/german-credit-data-with-risk\n",
    "- The dataset makes part of the UCI Machine Learning repository."
   ]
  },
  {
   "cell_type": "code",
   "execution_count": 12,
   "metadata": {},
   "outputs": [],
   "source": [
    "df = pd.read_csv('data/BankChurners.csv')\n",
    "\n",
    "# Features that must be dropped.\n",
    "df.drop(columns=['Naive_Bayes_Classifier_Attrition_Flag_Card_Category_Contacts_Count_12_mon_Dependent_count_Education_Level_Months_Inactive_12_mon_2', 'Naive_Bayes_Classifier_Attrition_Flag_Card_Category_Contacts_Count_12_mon_Dependent_count_Education_Level_Months_Inactive_12_mon_1'], inplace=True)"
   ]
  },
  {
   "cell_type": "code",
   "execution_count": 13,
   "metadata": {},
   "outputs": [
    {
     "data": {
      "text/html": [
       "<div>\n",
       "<style scoped>\n",
       "    .dataframe tbody tr th:only-of-type {\n",
       "        vertical-align: middle;\n",
       "    }\n",
       "\n",
       "    .dataframe tbody tr th {\n",
       "        vertical-align: top;\n",
       "    }\n",
       "\n",
       "    .dataframe thead th {\n",
       "        text-align: right;\n",
       "    }\n",
       "</style>\n",
       "<table border=\"1\" class=\"dataframe\">\n",
       "  <thead>\n",
       "    <tr style=\"text-align: right;\">\n",
       "      <th></th>\n",
       "      <th>CLIENTNUM</th>\n",
       "      <th>Attrition_Flag</th>\n",
       "      <th>Customer_Age</th>\n",
       "      <th>Gender</th>\n",
       "      <th>Dependent_count</th>\n",
       "      <th>Education_Level</th>\n",
       "      <th>Marital_Status</th>\n",
       "      <th>Income_Category</th>\n",
       "      <th>Card_Category</th>\n",
       "      <th>Months_on_book</th>\n",
       "      <th>...</th>\n",
       "      <th>Months_Inactive_12_mon</th>\n",
       "      <th>Contacts_Count_12_mon</th>\n",
       "      <th>Credit_Limit</th>\n",
       "      <th>Total_Revolving_Bal</th>\n",
       "      <th>Avg_Open_To_Buy</th>\n",
       "      <th>Total_Amt_Chng_Q4_Q1</th>\n",
       "      <th>Total_Trans_Amt</th>\n",
       "      <th>Total_Trans_Ct</th>\n",
       "      <th>Total_Ct_Chng_Q4_Q1</th>\n",
       "      <th>Avg_Utilization_Ratio</th>\n",
       "    </tr>\n",
       "  </thead>\n",
       "  <tbody>\n",
       "    <tr>\n",
       "      <th>0</th>\n",
       "      <td>768805383</td>\n",
       "      <td>Existing Customer</td>\n",
       "      <td>45</td>\n",
       "      <td>M</td>\n",
       "      <td>3</td>\n",
       "      <td>High School</td>\n",
       "      <td>Married</td>\n",
       "      <td>$60K - $80K</td>\n",
       "      <td>Blue</td>\n",
       "      <td>39</td>\n",
       "      <td>...</td>\n",
       "      <td>1</td>\n",
       "      <td>3</td>\n",
       "      <td>12691.0</td>\n",
       "      <td>777</td>\n",
       "      <td>11914.0</td>\n",
       "      <td>1.335</td>\n",
       "      <td>1144</td>\n",
       "      <td>42</td>\n",
       "      <td>1.625</td>\n",
       "      <td>0.061</td>\n",
       "    </tr>\n",
       "    <tr>\n",
       "      <th>1</th>\n",
       "      <td>818770008</td>\n",
       "      <td>Existing Customer</td>\n",
       "      <td>49</td>\n",
       "      <td>F</td>\n",
       "      <td>5</td>\n",
       "      <td>Graduate</td>\n",
       "      <td>Single</td>\n",
       "      <td>Less than $40K</td>\n",
       "      <td>Blue</td>\n",
       "      <td>44</td>\n",
       "      <td>...</td>\n",
       "      <td>1</td>\n",
       "      <td>2</td>\n",
       "      <td>8256.0</td>\n",
       "      <td>864</td>\n",
       "      <td>7392.0</td>\n",
       "      <td>1.541</td>\n",
       "      <td>1291</td>\n",
       "      <td>33</td>\n",
       "      <td>3.714</td>\n",
       "      <td>0.105</td>\n",
       "    </tr>\n",
       "    <tr>\n",
       "      <th>2</th>\n",
       "      <td>713982108</td>\n",
       "      <td>Existing Customer</td>\n",
       "      <td>51</td>\n",
       "      <td>M</td>\n",
       "      <td>3</td>\n",
       "      <td>Graduate</td>\n",
       "      <td>Married</td>\n",
       "      <td>$80K - $120K</td>\n",
       "      <td>Blue</td>\n",
       "      <td>36</td>\n",
       "      <td>...</td>\n",
       "      <td>1</td>\n",
       "      <td>0</td>\n",
       "      <td>3418.0</td>\n",
       "      <td>0</td>\n",
       "      <td>3418.0</td>\n",
       "      <td>2.594</td>\n",
       "      <td>1887</td>\n",
       "      <td>20</td>\n",
       "      <td>2.333</td>\n",
       "      <td>0.000</td>\n",
       "    </tr>\n",
       "    <tr>\n",
       "      <th>3</th>\n",
       "      <td>769911858</td>\n",
       "      <td>Existing Customer</td>\n",
       "      <td>40</td>\n",
       "      <td>F</td>\n",
       "      <td>4</td>\n",
       "      <td>High School</td>\n",
       "      <td>Unknown</td>\n",
       "      <td>Less than $40K</td>\n",
       "      <td>Blue</td>\n",
       "      <td>34</td>\n",
       "      <td>...</td>\n",
       "      <td>4</td>\n",
       "      <td>1</td>\n",
       "      <td>3313.0</td>\n",
       "      <td>2517</td>\n",
       "      <td>796.0</td>\n",
       "      <td>1.405</td>\n",
       "      <td>1171</td>\n",
       "      <td>20</td>\n",
       "      <td>2.333</td>\n",
       "      <td>0.760</td>\n",
       "    </tr>\n",
       "    <tr>\n",
       "      <th>4</th>\n",
       "      <td>709106358</td>\n",
       "      <td>Existing Customer</td>\n",
       "      <td>40</td>\n",
       "      <td>M</td>\n",
       "      <td>3</td>\n",
       "      <td>Uneducated</td>\n",
       "      <td>Married</td>\n",
       "      <td>$60K - $80K</td>\n",
       "      <td>Blue</td>\n",
       "      <td>21</td>\n",
       "      <td>...</td>\n",
       "      <td>1</td>\n",
       "      <td>0</td>\n",
       "      <td>4716.0</td>\n",
       "      <td>0</td>\n",
       "      <td>4716.0</td>\n",
       "      <td>2.175</td>\n",
       "      <td>816</td>\n",
       "      <td>28</td>\n",
       "      <td>2.500</td>\n",
       "      <td>0.000</td>\n",
       "    </tr>\n",
       "  </tbody>\n",
       "</table>\n",
       "<p>5 rows × 21 columns</p>\n",
       "</div>"
      ],
      "text/plain": [
       "   CLIENTNUM     Attrition_Flag  Customer_Age Gender  Dependent_count   \n",
       "0  768805383  Existing Customer            45      M                3  \\\n",
       "1  818770008  Existing Customer            49      F                5   \n",
       "2  713982108  Existing Customer            51      M                3   \n",
       "3  769911858  Existing Customer            40      F                4   \n",
       "4  709106358  Existing Customer            40      M                3   \n",
       "\n",
       "  Education_Level Marital_Status Income_Category Card_Category   \n",
       "0     High School        Married     $60K - $80K          Blue  \\\n",
       "1        Graduate         Single  Less than $40K          Blue   \n",
       "2        Graduate        Married    $80K - $120K          Blue   \n",
       "3     High School        Unknown  Less than $40K          Blue   \n",
       "4      Uneducated        Married     $60K - $80K          Blue   \n",
       "\n",
       "   Months_on_book  ...  Months_Inactive_12_mon  Contacts_Count_12_mon   \n",
       "0              39  ...                       1                      3  \\\n",
       "1              44  ...                       1                      2   \n",
       "2              36  ...                       1                      0   \n",
       "3              34  ...                       4                      1   \n",
       "4              21  ...                       1                      0   \n",
       "\n",
       "   Credit_Limit  Total_Revolving_Bal  Avg_Open_To_Buy  Total_Amt_Chng_Q4_Q1   \n",
       "0       12691.0                  777          11914.0                 1.335  \\\n",
       "1        8256.0                  864           7392.0                 1.541   \n",
       "2        3418.0                    0           3418.0                 2.594   \n",
       "3        3313.0                 2517            796.0                 1.405   \n",
       "4        4716.0                    0           4716.0                 2.175   \n",
       "\n",
       "   Total_Trans_Amt  Total_Trans_Ct  Total_Ct_Chng_Q4_Q1  Avg_Utilization_Ratio  \n",
       "0             1144              42                1.625                  0.061  \n",
       "1             1291              33                3.714                  0.105  \n",
       "2             1887              20                2.333                  0.000  \n",
       "3             1171              20                2.333                  0.760  \n",
       "4              816              28                2.500                  0.000  \n",
       "\n",
       "[5 rows x 21 columns]"
      ]
     },
     "execution_count": 13,
     "metadata": {},
     "output_type": "execute_result"
    }
   ],
   "source": [
    "df.head()"
   ]
  },
  {
   "cell_type": "markdown",
   "metadata": {},
   "source": [
    "### Data dictionary\n",
    "<b>1. CLIENTNUM:</b> Client number. Unique identifier for the customer holding the account. Categorical nominal.<br>\n",
    "<b>2. Attrition_Flag:</b>  Internal event (customer activity) variable - if the account is closed then 1 else 0. Categorical binary.<br>\n",
    "<b>3. Customer_Age:</b>  Demographic variable - Customer's Age in Years. Numerical discrete.<br>\n",
    "<b>4. Gender:</b>  Demographic variable - M=Male, F=Female. Categorical nominal.<br>\n",
    "<b>5. Dependent_count:</b>  Demographic variable - Number of dependents. Numerical discrete.<br>\n",
    "<b>6. Education_Level:</b>  Demographic variable - Educational Qualification of the account holder (example: high school, college graduate, etc.). Categorical ordinal.<br>\n",
    "<b>7. Marital_Status:</b>  Demographic variable - Married, Single, Divorced, Unknown. Categorical nominal.<br>\n",
    "<b>8. Income_Category:</b>  Demographic variable - Annual Income Category of the account holder (< $40K, $40K - 60K, $60K - $80K, $80K-$120K, >.). Categorical ordinal.<br>\n",
    "<b>9. Card_Category:</b>  Product Variable - Type of Card (Blue, Silver, Gold, Platinum). Categorical ordinal.<br>\n",
    "<b>10. Months_on_book:</b>  Period of relationship with bank. Numerical discrete.<br>\n",
    "<b>11. Total_Relationship_Count:</b>  Total no. of products held by the customer. Numerical discrete.<br>\n",
    "<b>12. Months_Inactive_12_mon:</b>  No. of months inactive in the last 12 months. Numerical discrete.<br>\n",
    "<b>13. Contacts_Count_12_mon:</b>  No. of Contacts in the last 12 months. Numerical discrete.<br>\n",
    "<b>14. Credit_Limit:</b>  Credit Limit on the Credit Card. Numerical continuous.<br>\n",
    "<b>15. Total_Revolving_Bal:</b>  Total Revolving Balance on the Credit Card. Numerical discrete.<br>\n",
    "<b>16. Avg_Open_To_Buy:</b>  Open to Buy Credit Line (Average of last 12 months). Numerical continuous.<br>\n",
    "<b>17. Total_Amt_Chng_Q4_Q1:</b>  Change in Transaction Amount (Q4 over Q1). Numerical continuous.<br>\n",
    "<b>18. Total_Trans_Amt:</b>  Total Transaction Amount (Last 12 months). Numerical discrete.<br>\n",
    "<b>19. Total_Trans_Ct:</b>  Total Transaction Count (Last 12 months). Numerical discrete.<br>\n",
    "<b>20. Total_Ct_Chng_Q4_Q1:</b>  Change in Transaction Count (Q4 over Q1). Numerical continuous.<br>\n",
    "<b>21. Avg_Utilization_Ratio:</b>  Average Card Utilization Ratio. Numerical continuous.<br>"
   ]
  },
  {
   "cell_type": "markdown",
   "metadata": {},
   "source": [
    "Looking at dataset general information."
   ]
  },
  {
   "cell_type": "code",
   "execution_count": 14,
   "metadata": {},
   "outputs": [
    {
     "name": "stdout",
     "output_type": "stream",
     "text": [
      "<class 'pandas.core.frame.DataFrame'>\n",
      "RangeIndex: 10127 entries, 0 to 10126\n",
      "Data columns (total 21 columns):\n",
      " #   Column                    Non-Null Count  Dtype  \n",
      "---  ------                    --------------  -----  \n",
      " 0   CLIENTNUM                 10127 non-null  int64  \n",
      " 1   Attrition_Flag            10127 non-null  object \n",
      " 2   Customer_Age              10127 non-null  int64  \n",
      " 3   Gender                    10127 non-null  object \n",
      " 4   Dependent_count           10127 non-null  int64  \n",
      " 5   Education_Level           10127 non-null  object \n",
      " 6   Marital_Status            10127 non-null  object \n",
      " 7   Income_Category           10127 non-null  object \n",
      " 8   Card_Category             10127 non-null  object \n",
      " 9   Months_on_book            10127 non-null  int64  \n",
      " 10  Total_Relationship_Count  10127 non-null  int64  \n",
      " 11  Months_Inactive_12_mon    10127 non-null  int64  \n",
      " 12  Contacts_Count_12_mon     10127 non-null  int64  \n",
      " 13  Credit_Limit              10127 non-null  float64\n",
      " 14  Total_Revolving_Bal       10127 non-null  int64  \n",
      " 15  Avg_Open_To_Buy           10127 non-null  float64\n",
      " 16  Total_Amt_Chng_Q4_Q1      10127 non-null  float64\n",
      " 17  Total_Trans_Amt           10127 non-null  int64  \n",
      " 18  Total_Trans_Ct            10127 non-null  int64  \n",
      " 19  Total_Ct_Chng_Q4_Q1       10127 non-null  float64\n",
      " 20  Avg_Utilization_Ratio     10127 non-null  float64\n",
      "dtypes: float64(5), int64(10), object(6)\n",
      "memory usage: 1.6+ MB\n"
     ]
    }
   ],
   "source": [
    "df.info()"
   ]
  },
  {
   "cell_type": "code",
   "execution_count": 5,
   "metadata": {},
   "outputs": [
    {
     "name": "stdout",
     "output_type": "stream",
     "text": [
      "The dataset has 10127 rows and 21 columns.\n"
     ]
    }
   ],
   "source": [
    "print(f'The dataset has {df.shape[0]} rows and {df.shape[1]} columns.')"
   ]
  },
  {
   "cell_type": "markdown",
   "metadata": {},
   "source": [
    "Looking at some descriptive statistics."
   ]
  },
  {
   "cell_type": "code",
   "execution_count": 6,
   "metadata": {},
   "outputs": [
    {
     "data": {
      "text/html": [
       "<div>\n",
       "<style scoped>\n",
       "    .dataframe tbody tr th:only-of-type {\n",
       "        vertical-align: middle;\n",
       "    }\n",
       "\n",
       "    .dataframe tbody tr th {\n",
       "        vertical-align: top;\n",
       "    }\n",
       "\n",
       "    .dataframe thead th {\n",
       "        text-align: right;\n",
       "    }\n",
       "</style>\n",
       "<table border=\"1\" class=\"dataframe\">\n",
       "  <thead>\n",
       "    <tr style=\"text-align: right;\">\n",
       "      <th></th>\n",
       "      <th>count</th>\n",
       "      <th>mean</th>\n",
       "      <th>std</th>\n",
       "      <th>min</th>\n",
       "      <th>25%</th>\n",
       "      <th>50%</th>\n",
       "      <th>75%</th>\n",
       "      <th>max</th>\n",
       "    </tr>\n",
       "  </thead>\n",
       "  <tbody>\n",
       "    <tr>\n",
       "      <th>CLIENTNUM</th>\n",
       "      <td>10127.0</td>\n",
       "      <td>7.391776e+08</td>\n",
       "      <td>3.690378e+07</td>\n",
       "      <td>708082083.0</td>\n",
       "      <td>7.130368e+08</td>\n",
       "      <td>7.179264e+08</td>\n",
       "      <td>7.731435e+08</td>\n",
       "      <td>8.283431e+08</td>\n",
       "    </tr>\n",
       "    <tr>\n",
       "      <th>Customer_Age</th>\n",
       "      <td>10127.0</td>\n",
       "      <td>4.632596e+01</td>\n",
       "      <td>8.016814e+00</td>\n",
       "      <td>26.0</td>\n",
       "      <td>4.100000e+01</td>\n",
       "      <td>4.600000e+01</td>\n",
       "      <td>5.200000e+01</td>\n",
       "      <td>7.300000e+01</td>\n",
       "    </tr>\n",
       "    <tr>\n",
       "      <th>Dependent_count</th>\n",
       "      <td>10127.0</td>\n",
       "      <td>2.346203e+00</td>\n",
       "      <td>1.298908e+00</td>\n",
       "      <td>0.0</td>\n",
       "      <td>1.000000e+00</td>\n",
       "      <td>2.000000e+00</td>\n",
       "      <td>3.000000e+00</td>\n",
       "      <td>5.000000e+00</td>\n",
       "    </tr>\n",
       "    <tr>\n",
       "      <th>Months_on_book</th>\n",
       "      <td>10127.0</td>\n",
       "      <td>3.592841e+01</td>\n",
       "      <td>7.986416e+00</td>\n",
       "      <td>13.0</td>\n",
       "      <td>3.100000e+01</td>\n",
       "      <td>3.600000e+01</td>\n",
       "      <td>4.000000e+01</td>\n",
       "      <td>5.600000e+01</td>\n",
       "    </tr>\n",
       "    <tr>\n",
       "      <th>Total_Relationship_Count</th>\n",
       "      <td>10127.0</td>\n",
       "      <td>3.812580e+00</td>\n",
       "      <td>1.554408e+00</td>\n",
       "      <td>1.0</td>\n",
       "      <td>3.000000e+00</td>\n",
       "      <td>4.000000e+00</td>\n",
       "      <td>5.000000e+00</td>\n",
       "      <td>6.000000e+00</td>\n",
       "    </tr>\n",
       "    <tr>\n",
       "      <th>Months_Inactive_12_mon</th>\n",
       "      <td>10127.0</td>\n",
       "      <td>2.341167e+00</td>\n",
       "      <td>1.010622e+00</td>\n",
       "      <td>0.0</td>\n",
       "      <td>2.000000e+00</td>\n",
       "      <td>2.000000e+00</td>\n",
       "      <td>3.000000e+00</td>\n",
       "      <td>6.000000e+00</td>\n",
       "    </tr>\n",
       "    <tr>\n",
       "      <th>Contacts_Count_12_mon</th>\n",
       "      <td>10127.0</td>\n",
       "      <td>2.455317e+00</td>\n",
       "      <td>1.106225e+00</td>\n",
       "      <td>0.0</td>\n",
       "      <td>2.000000e+00</td>\n",
       "      <td>2.000000e+00</td>\n",
       "      <td>3.000000e+00</td>\n",
       "      <td>6.000000e+00</td>\n",
       "    </tr>\n",
       "    <tr>\n",
       "      <th>Credit_Limit</th>\n",
       "      <td>10127.0</td>\n",
       "      <td>8.631954e+03</td>\n",
       "      <td>9.088777e+03</td>\n",
       "      <td>1438.3</td>\n",
       "      <td>2.555000e+03</td>\n",
       "      <td>4.549000e+03</td>\n",
       "      <td>1.106750e+04</td>\n",
       "      <td>3.451600e+04</td>\n",
       "    </tr>\n",
       "    <tr>\n",
       "      <th>Total_Revolving_Bal</th>\n",
       "      <td>10127.0</td>\n",
       "      <td>1.162814e+03</td>\n",
       "      <td>8.149873e+02</td>\n",
       "      <td>0.0</td>\n",
       "      <td>3.590000e+02</td>\n",
       "      <td>1.276000e+03</td>\n",
       "      <td>1.784000e+03</td>\n",
       "      <td>2.517000e+03</td>\n",
       "    </tr>\n",
       "    <tr>\n",
       "      <th>Avg_Open_To_Buy</th>\n",
       "      <td>10127.0</td>\n",
       "      <td>7.469140e+03</td>\n",
       "      <td>9.090685e+03</td>\n",
       "      <td>3.0</td>\n",
       "      <td>1.324500e+03</td>\n",
       "      <td>3.474000e+03</td>\n",
       "      <td>9.859000e+03</td>\n",
       "      <td>3.451600e+04</td>\n",
       "    </tr>\n",
       "    <tr>\n",
       "      <th>Total_Amt_Chng_Q4_Q1</th>\n",
       "      <td>10127.0</td>\n",
       "      <td>7.599407e-01</td>\n",
       "      <td>2.192068e-01</td>\n",
       "      <td>0.0</td>\n",
       "      <td>6.310000e-01</td>\n",
       "      <td>7.360000e-01</td>\n",
       "      <td>8.590000e-01</td>\n",
       "      <td>3.397000e+00</td>\n",
       "    </tr>\n",
       "    <tr>\n",
       "      <th>Total_Trans_Amt</th>\n",
       "      <td>10127.0</td>\n",
       "      <td>4.404086e+03</td>\n",
       "      <td>3.397129e+03</td>\n",
       "      <td>510.0</td>\n",
       "      <td>2.155500e+03</td>\n",
       "      <td>3.899000e+03</td>\n",
       "      <td>4.741000e+03</td>\n",
       "      <td>1.848400e+04</td>\n",
       "    </tr>\n",
       "    <tr>\n",
       "      <th>Total_Trans_Ct</th>\n",
       "      <td>10127.0</td>\n",
       "      <td>6.485869e+01</td>\n",
       "      <td>2.347257e+01</td>\n",
       "      <td>10.0</td>\n",
       "      <td>4.500000e+01</td>\n",
       "      <td>6.700000e+01</td>\n",
       "      <td>8.100000e+01</td>\n",
       "      <td>1.390000e+02</td>\n",
       "    </tr>\n",
       "    <tr>\n",
       "      <th>Total_Ct_Chng_Q4_Q1</th>\n",
       "      <td>10127.0</td>\n",
       "      <td>7.122224e-01</td>\n",
       "      <td>2.380861e-01</td>\n",
       "      <td>0.0</td>\n",
       "      <td>5.820000e-01</td>\n",
       "      <td>7.020000e-01</td>\n",
       "      <td>8.180000e-01</td>\n",
       "      <td>3.714000e+00</td>\n",
       "    </tr>\n",
       "    <tr>\n",
       "      <th>Avg_Utilization_Ratio</th>\n",
       "      <td>10127.0</td>\n",
       "      <td>2.748936e-01</td>\n",
       "      <td>2.756915e-01</td>\n",
       "      <td>0.0</td>\n",
       "      <td>2.300000e-02</td>\n",
       "      <td>1.760000e-01</td>\n",
       "      <td>5.030000e-01</td>\n",
       "      <td>9.990000e-01</td>\n",
       "    </tr>\n",
       "  </tbody>\n",
       "</table>\n",
       "</div>"
      ],
      "text/plain": [
       "                            count          mean           std          min   \n",
       "CLIENTNUM                 10127.0  7.391776e+08  3.690378e+07  708082083.0  \\\n",
       "Customer_Age              10127.0  4.632596e+01  8.016814e+00         26.0   \n",
       "Dependent_count           10127.0  2.346203e+00  1.298908e+00          0.0   \n",
       "Months_on_book            10127.0  3.592841e+01  7.986416e+00         13.0   \n",
       "Total_Relationship_Count  10127.0  3.812580e+00  1.554408e+00          1.0   \n",
       "Months_Inactive_12_mon    10127.0  2.341167e+00  1.010622e+00          0.0   \n",
       "Contacts_Count_12_mon     10127.0  2.455317e+00  1.106225e+00          0.0   \n",
       "Credit_Limit              10127.0  8.631954e+03  9.088777e+03       1438.3   \n",
       "Total_Revolving_Bal       10127.0  1.162814e+03  8.149873e+02          0.0   \n",
       "Avg_Open_To_Buy           10127.0  7.469140e+03  9.090685e+03          3.0   \n",
       "Total_Amt_Chng_Q4_Q1      10127.0  7.599407e-01  2.192068e-01          0.0   \n",
       "Total_Trans_Amt           10127.0  4.404086e+03  3.397129e+03        510.0   \n",
       "Total_Trans_Ct            10127.0  6.485869e+01  2.347257e+01         10.0   \n",
       "Total_Ct_Chng_Q4_Q1       10127.0  7.122224e-01  2.380861e-01          0.0   \n",
       "Avg_Utilization_Ratio     10127.0  2.748936e-01  2.756915e-01          0.0   \n",
       "\n",
       "                                   25%           50%           75%   \n",
       "CLIENTNUM                 7.130368e+08  7.179264e+08  7.731435e+08  \\\n",
       "Customer_Age              4.100000e+01  4.600000e+01  5.200000e+01   \n",
       "Dependent_count           1.000000e+00  2.000000e+00  3.000000e+00   \n",
       "Months_on_book            3.100000e+01  3.600000e+01  4.000000e+01   \n",
       "Total_Relationship_Count  3.000000e+00  4.000000e+00  5.000000e+00   \n",
       "Months_Inactive_12_mon    2.000000e+00  2.000000e+00  3.000000e+00   \n",
       "Contacts_Count_12_mon     2.000000e+00  2.000000e+00  3.000000e+00   \n",
       "Credit_Limit              2.555000e+03  4.549000e+03  1.106750e+04   \n",
       "Total_Revolving_Bal       3.590000e+02  1.276000e+03  1.784000e+03   \n",
       "Avg_Open_To_Buy           1.324500e+03  3.474000e+03  9.859000e+03   \n",
       "Total_Amt_Chng_Q4_Q1      6.310000e-01  7.360000e-01  8.590000e-01   \n",
       "Total_Trans_Amt           2.155500e+03  3.899000e+03  4.741000e+03   \n",
       "Total_Trans_Ct            4.500000e+01  6.700000e+01  8.100000e+01   \n",
       "Total_Ct_Chng_Q4_Q1       5.820000e-01  7.020000e-01  8.180000e-01   \n",
       "Avg_Utilization_Ratio     2.300000e-02  1.760000e-01  5.030000e-01   \n",
       "\n",
       "                                   max  \n",
       "CLIENTNUM                 8.283431e+08  \n",
       "Customer_Age              7.300000e+01  \n",
       "Dependent_count           5.000000e+00  \n",
       "Months_on_book            5.600000e+01  \n",
       "Total_Relationship_Count  6.000000e+00  \n",
       "Months_Inactive_12_mon    6.000000e+00  \n",
       "Contacts_Count_12_mon     6.000000e+00  \n",
       "Credit_Limit              3.451600e+04  \n",
       "Total_Revolving_Bal       2.517000e+03  \n",
       "Avg_Open_To_Buy           3.451600e+04  \n",
       "Total_Amt_Chng_Q4_Q1      3.397000e+00  \n",
       "Total_Trans_Amt           1.848400e+04  \n",
       "Total_Trans_Ct            1.390000e+02  \n",
       "Total_Ct_Chng_Q4_Q1       3.714000e+00  \n",
       "Avg_Utilization_Ratio     9.990000e-01  "
      ]
     },
     "execution_count": 6,
     "metadata": {},
     "output_type": "execute_result"
    }
   ],
   "source": [
    "df.describe().T"
   ]
  },
  {
   "cell_type": "markdown",
   "metadata": {},
   "source": [
    "Some insights:\n",
    "1. The average age is approximately 46 years.\n",
    "2. On average, customers held approximately 4 products of the bank.\n",
    "2. On average, customers spent approximately 2.34 months inactive in the last 12 months.\n",
    "3. On average, customers contacted the bank approximately 2.45 times in the last 12 months.\n",
    "2. The average credit limit is 8632. Moreover, it seems to be skewed to the right (mean is greater than median).\n",
    "3. The customers spent, on average, 36 months consuming the bank's credit card service.\n",
    "4. The average utilization ratio is about 28%. This is a low value. The bank must pay attention to it and try to increase the utilization of its credit card service.\n",
    "5. On average, customers made approximately 65 transactions in the last 12 months. This indicates that customers made about 5.4 transactions per month in a year, which is very low.\n",
    "\n",
    "Moreover, seems there are no inconsistent values."
   ]
  },
  {
   "cell_type": "markdown",
   "metadata": {},
   "source": [
    "Looking at missing ad duplicated values."
   ]
  },
  {
   "cell_type": "code",
   "execution_count": 7,
   "metadata": {},
   "outputs": [
    {
     "data": {
      "text/plain": [
       "CLIENTNUM                   0\n",
       "Attrition_Flag              0\n",
       "Customer_Age                0\n",
       "Gender                      0\n",
       "Dependent_count             0\n",
       "Education_Level             0\n",
       "Marital_Status              0\n",
       "Income_Category             0\n",
       "Card_Category               0\n",
       "Months_on_book              0\n",
       "Total_Relationship_Count    0\n",
       "Months_Inactive_12_mon      0\n",
       "Contacts_Count_12_mon       0\n",
       "Credit_Limit                0\n",
       "Total_Revolving_Bal         0\n",
       "Avg_Open_To_Buy             0\n",
       "Total_Amt_Chng_Q4_Q1        0\n",
       "Total_Trans_Amt             0\n",
       "Total_Trans_Ct              0\n",
       "Total_Ct_Chng_Q4_Q1         0\n",
       "Avg_Utilization_Ratio       0\n",
       "dtype: int64"
      ]
     },
     "execution_count": 7,
     "metadata": {},
     "output_type": "execute_result"
    }
   ],
   "source": [
    "df.isna().sum()"
   ]
  },
  {
   "cell_type": "code",
   "execution_count": 8,
   "metadata": {},
   "outputs": [
    {
     "data": {
      "text/plain": [
       "0"
      ]
     },
     "execution_count": 8,
     "metadata": {},
     "output_type": "execute_result"
    }
   ],
   "source": [
    "df.duplicated().sum()"
   ]
  },
  {
   "cell_type": "markdown",
   "metadata": {},
   "source": [
    "There are no missing or duplicated values."
   ]
  },
  {
   "cell_type": "markdown",
   "metadata": {},
   "source": [
    "- I will drop the CLIENTNUM variable because it has an unique value for each record, not being useful for the analysis.\n",
    "- I will rename the columns in a standard format in order to turn the data manipulation easier. Moreover, attrition_flag will be renamed as churn_flag for interpretation purposes.\n",
    "- I will express Gender and Attrition_Flag variables as binary. This will make eda easier, like when looking at percentual values."
   ]
  },
  {
   "cell_type": "code",
   "execution_count": 15,
   "metadata": {},
   "outputs": [],
   "source": [
    "df.drop(columns=['CLIENTNUM'], inplace=True)"
   ]
  },
  {
   "cell_type": "code",
   "execution_count": 16,
   "metadata": {},
   "outputs": [],
   "source": [
    "df.columns = [x.lower() for x in df.columns]"
   ]
  },
  {
   "cell_type": "code",
   "execution_count": 18,
   "metadata": {},
   "outputs": [],
   "source": [
    "df['gender'] = df['gender'].map({'M': 1, 'F': 0})\n",
    "df['attrition_flag'] = df['attrition_flag'].map({'Attrited Customer': 1, 'Existing Customer': 0})"
   ]
  },
  {
   "cell_type": "code",
   "execution_count": 21,
   "metadata": {},
   "outputs": [],
   "source": [
    "df.rename(columns={'attrition_flag': 'churn_flag'}, inplace=True)"
   ]
  },
  {
   "cell_type": "markdown",
   "metadata": {},
   "source": [
    "# 3. Split the data into train and test sets\n",
    "- First of all, I will split the data into train and test sets.\n",
    "- Test set is supposed to be data the model has never seen before.\n",
    "- I will perform EDA focusing on the training set in order to avoid data leakage, get a realistic representation and evaluate the model correctly with new unseen data.\n",
    "- I will specify stratify=y so that the train_test_split function ensures that the splitting process maintains the same percentage of each target class in both the training and testing sets. This is particularly useful when dealing with imbalanced datasets, which is the case, as there are more good risk customers than bad risk ones."
   ]
  },
  {
   "cell_type": "code",
   "execution_count": 27,
   "metadata": {},
   "outputs": [],
   "source": [
    "X = df.drop(columns=['churn_flag'])\n",
    "y = df['churn_flag'].copy()\n",
    "\n",
    "X_train, X_test, y_train, y_test = train_test_split(X, y, test_size=0.2, stratify=y, random_state=42)"
   ]
  },
  {
   "cell_type": "code",
   "execution_count": 28,
   "metadata": {},
   "outputs": [
    {
     "name": "stdout",
     "output_type": "stream",
     "text": [
      "Train predictor dataset shape: (8101, 19).\n",
      "Train target dataset shape: (8101,).\n",
      "Test predictor dataset shape: (2026, 19).\n",
      "Test target dataset shape: (2026,).\n"
     ]
    }
   ],
   "source": [
    "print(f'Train predictor dataset shape: {X_train.shape}.')\n",
    "print(f'Train target dataset shape: {y_train.shape}.')\n",
    "print(f'Test predictor dataset shape: {X_test.shape}.')\n",
    "print(f'Test target dataset shape: {y_test.shape}.')"
   ]
  },
  {
   "cell_type": "code",
   "execution_count": 29,
   "metadata": {},
   "outputs": [
    {
     "name": "stdout",
     "output_type": "stream",
     "text": [
      "Train target proportion: \n",
      "churn_flag\n",
      "0    0.839279\n",
      "1    0.160721\n",
      "Name: proportion, dtype: float64\n",
      "\n",
      "Test target proportion: \n",
      "churn_flag\n",
      "0    0.839585\n",
      "1    0.160415\n",
      "Name: proportion, dtype: float64\n"
     ]
    }
   ],
   "source": [
    "print(f'Train target proportion: ')\n",
    "print(f'{y_train.value_counts(normalize=True)}')\n",
    "print(f'\\nTest target proportion: ')\n",
    "print(f'{y_test.value_counts(normalize=True)}')"
   ]
  },
  {
   "cell_type": "markdown",
   "metadata": {},
   "source": [
    "The target classes proportions were preserved."
   ]
  },
  {
   "cell_type": "markdown",
   "metadata": {},
   "source": [
    "# 4. Exploratory data analysis\n",
    "I will explore the training set in order to get a better undestanding of how the features are individually distributed, the relashionships between them, correlations, trends and possible insights from the data, especially regard to the target variable (churn_flag). Thus, I will do univariate, bivariate and multivariate analysis of the data.\n",
    "\n",
    "I will get an entire train set (with predictor and target features) in order to use seaborn 'hue' parameter for visualizations and look at the correlation matrix."
   ]
  },
  {
   "cell_type": "code",
   "execution_count": 30,
   "metadata": {},
   "outputs": [
    {
     "data": {
      "text/html": [
       "<div>\n",
       "<style scoped>\n",
       "    .dataframe tbody tr th:only-of-type {\n",
       "        vertical-align: middle;\n",
       "    }\n",
       "\n",
       "    .dataframe tbody tr th {\n",
       "        vertical-align: top;\n",
       "    }\n",
       "\n",
       "    .dataframe thead th {\n",
       "        text-align: right;\n",
       "    }\n",
       "</style>\n",
       "<table border=\"1\" class=\"dataframe\">\n",
       "  <thead>\n",
       "    <tr style=\"text-align: right;\">\n",
       "      <th></th>\n",
       "      <th>customer_age</th>\n",
       "      <th>gender</th>\n",
       "      <th>dependent_count</th>\n",
       "      <th>education_level</th>\n",
       "      <th>marital_status</th>\n",
       "      <th>income_category</th>\n",
       "      <th>card_category</th>\n",
       "      <th>months_on_book</th>\n",
       "      <th>total_relationship_count</th>\n",
       "      <th>months_inactive_12_mon</th>\n",
       "      <th>contacts_count_12_mon</th>\n",
       "      <th>credit_limit</th>\n",
       "      <th>total_revolving_bal</th>\n",
       "      <th>avg_open_to_buy</th>\n",
       "      <th>total_amt_chng_q4_q1</th>\n",
       "      <th>total_trans_amt</th>\n",
       "      <th>total_trans_ct</th>\n",
       "      <th>total_ct_chng_q4_q1</th>\n",
       "      <th>avg_utilization_ratio</th>\n",
       "      <th>churn_flag</th>\n",
       "    </tr>\n",
       "  </thead>\n",
       "  <tbody>\n",
       "    <tr>\n",
       "      <th>2856</th>\n",
       "      <td>36</td>\n",
       "      <td>0</td>\n",
       "      <td>0</td>\n",
       "      <td>Unknown</td>\n",
       "      <td>Married</td>\n",
       "      <td>Less than $40K</td>\n",
       "      <td>Blue</td>\n",
       "      <td>24</td>\n",
       "      <td>4</td>\n",
       "      <td>3</td>\n",
       "      <td>2</td>\n",
       "      <td>2570.0</td>\n",
       "      <td>2230</td>\n",
       "      <td>340.0</td>\n",
       "      <td>0.686</td>\n",
       "      <td>1755</td>\n",
       "      <td>42</td>\n",
       "      <td>0.448</td>\n",
       "      <td>0.868</td>\n",
       "      <td>0</td>\n",
       "    </tr>\n",
       "    <tr>\n",
       "      <th>6515</th>\n",
       "      <td>44</td>\n",
       "      <td>1</td>\n",
       "      <td>3</td>\n",
       "      <td>High School</td>\n",
       "      <td>Single</td>\n",
       "      <td>$60K - $80K</td>\n",
       "      <td>Silver</td>\n",
       "      <td>36</td>\n",
       "      <td>5</td>\n",
       "      <td>2</td>\n",
       "      <td>3</td>\n",
       "      <td>25276.0</td>\n",
       "      <td>0</td>\n",
       "      <td>25276.0</td>\n",
       "      <td>0.849</td>\n",
       "      <td>2282</td>\n",
       "      <td>38</td>\n",
       "      <td>0.583</td>\n",
       "      <td>0.000</td>\n",
       "      <td>1</td>\n",
       "    </tr>\n",
       "    <tr>\n",
       "      <th>7141</th>\n",
       "      <td>46</td>\n",
       "      <td>1</td>\n",
       "      <td>2</td>\n",
       "      <td>High School</td>\n",
       "      <td>Married</td>\n",
       "      <td>$80K - $120K</td>\n",
       "      <td>Blue</td>\n",
       "      <td>30</td>\n",
       "      <td>6</td>\n",
       "      <td>3</td>\n",
       "      <td>1</td>\n",
       "      <td>11670.0</td>\n",
       "      <td>915</td>\n",
       "      <td>10755.0</td>\n",
       "      <td>0.892</td>\n",
       "      <td>4277</td>\n",
       "      <td>89</td>\n",
       "      <td>0.854</td>\n",
       "      <td>0.078</td>\n",
       "      <td>0</td>\n",
       "    </tr>\n",
       "    <tr>\n",
       "      <th>632</th>\n",
       "      <td>36</td>\n",
       "      <td>0</td>\n",
       "      <td>2</td>\n",
       "      <td>Graduate</td>\n",
       "      <td>Married</td>\n",
       "      <td>Less than $40K</td>\n",
       "      <td>Blue</td>\n",
       "      <td>24</td>\n",
       "      <td>3</td>\n",
       "      <td>1</td>\n",
       "      <td>3</td>\n",
       "      <td>3124.0</td>\n",
       "      <td>1593</td>\n",
       "      <td>1531.0</td>\n",
       "      <td>0.869</td>\n",
       "      <td>1652</td>\n",
       "      <td>41</td>\n",
       "      <td>0.367</td>\n",
       "      <td>0.510</td>\n",
       "      <td>0</td>\n",
       "    </tr>\n",
       "    <tr>\n",
       "      <th>3496</th>\n",
       "      <td>50</td>\n",
       "      <td>1</td>\n",
       "      <td>1</td>\n",
       "      <td>Graduate</td>\n",
       "      <td>Single</td>\n",
       "      <td>$120K +</td>\n",
       "      <td>Blue</td>\n",
       "      <td>40</td>\n",
       "      <td>4</td>\n",
       "      <td>2</td>\n",
       "      <td>3</td>\n",
       "      <td>34516.0</td>\n",
       "      <td>1185</td>\n",
       "      <td>33331.0</td>\n",
       "      <td>0.725</td>\n",
       "      <td>3874</td>\n",
       "      <td>72</td>\n",
       "      <td>0.714</td>\n",
       "      <td>0.034</td>\n",
       "      <td>0</td>\n",
       "    </tr>\n",
       "  </tbody>\n",
       "</table>\n",
       "</div>"
      ],
      "text/plain": [
       "      customer_age  gender  dependent_count education_level marital_status   \n",
       "2856            36       0                0         Unknown        Married  \\\n",
       "6515            44       1                3     High School         Single   \n",
       "7141            46       1                2     High School        Married   \n",
       "632             36       0                2        Graduate        Married   \n",
       "3496            50       1                1        Graduate         Single   \n",
       "\n",
       "     income_category card_category  months_on_book  total_relationship_count   \n",
       "2856  Less than $40K          Blue              24                         4  \\\n",
       "6515     $60K - $80K        Silver              36                         5   \n",
       "7141    $80K - $120K          Blue              30                         6   \n",
       "632   Less than $40K          Blue              24                         3   \n",
       "3496         $120K +          Blue              40                         4   \n",
       "\n",
       "      months_inactive_12_mon  contacts_count_12_mon  credit_limit   \n",
       "2856                       3                      2        2570.0  \\\n",
       "6515                       2                      3       25276.0   \n",
       "7141                       3                      1       11670.0   \n",
       "632                        1                      3        3124.0   \n",
       "3496                       2                      3       34516.0   \n",
       "\n",
       "      total_revolving_bal  avg_open_to_buy  total_amt_chng_q4_q1   \n",
       "2856                 2230            340.0                 0.686  \\\n",
       "6515                    0          25276.0                 0.849   \n",
       "7141                  915          10755.0                 0.892   \n",
       "632                  1593           1531.0                 0.869   \n",
       "3496                 1185          33331.0                 0.725   \n",
       "\n",
       "      total_trans_amt  total_trans_ct  total_ct_chng_q4_q1   \n",
       "2856             1755              42                0.448  \\\n",
       "6515             2282              38                0.583   \n",
       "7141             4277              89                0.854   \n",
       "632              1652              41                0.367   \n",
       "3496             3874              72                0.714   \n",
       "\n",
       "      avg_utilization_ratio  churn_flag  \n",
       "2856                  0.868           0  \n",
       "6515                  0.000           1  \n",
       "7141                  0.078           0  \n",
       "632                   0.510           0  \n",
       "3496                  0.034           0  "
      ]
     },
     "execution_count": 30,
     "metadata": {},
     "output_type": "execute_result"
    }
   ],
   "source": [
    "train = pd.concat([X_train, y_train], axis=1)\n",
    "train.head()"
   ]
  },
  {
   "cell_type": "markdown",
   "metadata": {},
   "source": [
    "I will create separate lists for categorical, numerical, and target features in order to analyze the data separately."
   ]
  },
  {
   "cell_type": "code",
   "execution_count": 32,
   "metadata": {},
   "outputs": [
    {
     "name": "stdout",
     "output_type": "stream",
     "text": [
      "There are 15 numerical features. They are: \n",
      "['customer_age', 'gender', 'dependent_count', 'months_on_book', 'total_relationship_count', 'months_inactive_12_mon', 'contacts_count_12_mon', 'credit_limit', 'total_revolving_bal', 'avg_open_to_buy', 'total_amt_chng_q4_q1', 'total_trans_amt', 'total_trans_ct', 'total_ct_chng_q4_q1', 'avg_utilization_ratio']\n",
      "\n",
      "There are 4 categorical features. They are: \n",
      "['education_level', 'marital_status', 'income_category', 'card_category']\n",
      "\n",
      "The target feature is: churn_flag.\n"
     ]
    }
   ],
   "source": [
    "numerical_features = X_train.select_dtypes('number').columns.tolist()\n",
    "categorical_features = X_train.select_dtypes('object').columns.tolist()\n",
    "target = 'churn_flag'\n",
    "\n",
    "print(f'There are {len(numerical_features)} numerical features. They are: ')\n",
    "print(numerical_features)\n",
    "print(f'\\nThere are {len(categorical_features)} categorical features. They are: ')\n",
    "print(categorical_features)\n",
    "print(f'\\nThe target feature is: {target}.')"
   ]
  },
  {
   "cell_type": "markdown",
   "metadata": {},
   "source": [
    "I will look at categorical features unique values. Cardinality is an important factor when choosing an encoding technique for them."
   ]
  },
  {
   "cell_type": "code",
   "execution_count": 38,
   "metadata": {},
   "outputs": [
    {
     "name": "stdout",
     "output_type": "stream",
     "text": [
      "education_level\n",
      "----------------------------------------\n",
      "There are 7 unique values. They are: \n",
      "education_level\n",
      "Graduate         0.306382\n",
      "High School      0.203679\n",
      "Unknown          0.148994\n",
      "Uneducated       0.146031\n",
      "College          0.098259\n",
      "Post-Graduate    0.052710\n",
      "Doctorate        0.043945\n",
      "Name: proportion, dtype: float64\n",
      "\n",
      "marital_status\n",
      "----------------------------------------\n",
      "There are 4 unique values. They are: \n",
      "marital_status\n",
      "Married     0.463523\n",
      "Single      0.387853\n",
      "Unknown     0.074682\n",
      "Divorced    0.073941\n",
      "Name: proportion, dtype: float64\n",
      "\n",
      "income_category\n",
      "----------------------------------------\n",
      "There are 6 unique values. They are: \n",
      "income_category\n",
      "Less than $40K    0.349586\n",
      "$40K - $60K       0.178990\n",
      "$80K - $120K      0.149241\n",
      "$60K - $80K       0.140230\n",
      "Unknown           0.109369\n",
      "$120K +           0.072584\n",
      "Name: proportion, dtype: float64\n",
      "\n",
      "card_category\n",
      "----------------------------------------\n",
      "There are 4 unique values. They are: \n",
      "card_category\n",
      "Blue        0.933095\n",
      "Silver      0.053203\n",
      "Gold        0.011604\n",
      "Platinum    0.002099\n",
      "Name: proportion, dtype: float64\n",
      "\n"
     ]
    }
   ],
   "source": [
    "for feature in categorical_features:\n",
    "    print(feature)\n",
    "    print('-'*40)\n",
    "    print(f'There are {train[feature].nunique()} unique values. They are: ')\n",
    "    print(train[feature].value_counts(normalize=True))\n",
    "    print()"
   ]
  },
  {
   "cell_type": "markdown",
   "metadata": {},
   "source": [
    "- education_level, income_category and card_category present ordinal relationships. Thus, OrdinalEncoder might be a good choice for encoding them.\n",
    "- Except card_category, all the categoric attributes have an 'unknown' category."
   ]
  },
  {
   "cell_type": "markdown",
   "metadata": {},
   "source": [
    "### Univariate analysis\n",
    "I will do univariate analysis below in order to see which are the typical values of each feature for the bank's customers."
   ]
  },
  {
   "cell_type": "markdown",
   "metadata": {},
   "source": [
    "### Target distribution"
   ]
  },
  {
   "cell_type": "code",
   "execution_count": 86,
   "metadata": {},
   "outputs": [
    {
     "data": {
      "image/png": "[encoded data removed]",
      "text/plain": [
       "<Figure size 900x500 with 1 Axes>"
      ]
     },
     "metadata": {},
     "output_type": "display_data"
    }
   ],
   "source": [
    "plt.figure(figsize=(9, 5))\n",
    "ax = sns.countplot(data=train, x='churn_flag', palette='Set2')\n",
    "\n",
    "total = len(train)\n",
    "counts = [count.get_height() for count in ax.patches]\n",
    "percentages = [(count / total) * 100 for count in counts]\n",
    "\n",
    "for count, percentage in zip(ax.patches, percentages):\n",
    "    x = count.get_x() + count.get_width() / 2 \n",
    "    y = count.get_height()\n",
    "    ax.annotate(f'{percentage:.1f}%', (x, y), ha='center', va='bottom')\n",
    "plt.show()"
   ]
  },
  {
   "cell_type": "markdown",
   "metadata": {},
   "source": [
    "The target is imbalanced. 16.1% of the customers are churners. Thus, I will adopt some strategies in order to deal with this. They are:\n",
    "\n",
    "- Stratified hold-out and k-fold cross validation in order to maintain the target proportion on test and validation sets, even for hyperparameter tuning.\n",
    "- Define different class weights for majority and minority class instances. The idea is to define higher weights to minority class, such that the model will be penalized when mistakenly classifying a churner customer. These weights are defined on the model specific hyperparameter for it.\n",
    "- Take a look at precision-recall trade-off if necessary. The objective is to predict as many churners as possible, so a high recall must be the priority."
   ]
  },
  {
   "cell_type": "markdown",
   "metadata": {},
   "source": [
    "### Numerical features distributions\n",
    "I will look at numerical features distributions below in order to see if there are skewed distributions and which are the most common values for the bank's customers numeric attributes."
   ]
  },
  {
   "cell_type": "code",
   "execution_count": 196,
   "metadata": {},
   "outputs": [
    {
     "data": {
      "text/plain": [
       "Index(['customer_age', 'gender', 'dependent_count', 'education_level',\n",
       "       'marital_status', 'income_category', 'card_category', 'months_on_book',\n",
       "       'total_relationship_count', 'months_inactive_12_mon',\n",
       "       'contacts_count_12_mon', 'credit_limit', 'total_revolving_bal',\n",
       "       'avg_open_to_buy', 'total_amt_chng_q4_q1', 'total_trans_amt',\n",
       "       'total_trans_ct', 'total_ct_chng_q4_q1', 'avg_utilization_ratio',\n",
       "       'churn_flag'],\n",
       "      dtype='object')"
      ]
     },
     "execution_count": 196,
     "metadata": {},
     "output_type": "execute_result"
    }
   ],
   "source": [
    "train.columns"
   ]
  },
  {
   "cell_type": "code",
   "execution_count": 198,
   "metadata": {},
   "outputs": [],
   "source": [
    "categorical_features.extend(['dependent_count', 'total_relationship_count', 'months_inactive_12_mon', 'contacts_count_12_mon'])"
   ]
  },
  {
   "cell_type": "code",
   "execution_count": 214,
   "metadata": {},
   "outputs": [
    {
     "data": {
      "image/png": "[encoded data removed]",
      "text/plain": [
       "<Figure size 3000x2400 with 8 Axes>"
      ]
     },
     "metadata": {},
     "output_type": "display_data"
    }
   ],
   "source": [
    "categorical_plots(data=train, features=categorical_features)"
   ]
  },
  {
   "cell_type": "code",
   "execution_count": 213,
   "metadata": {},
   "outputs": [],
   "source": [
    "def categorical_plots(data, features, hue=None, palette=\"Set2\"):\n",
    "\n",
    "    try:\n",
    "        sns.set(style=\"whitegrid\")\n",
    "        \n",
    "        # Calculate the number of rows and columns for subplot arrangement\n",
    "        num_features = len(features)\n",
    "        num_rows = num_features // 2 + num_features % 2\n",
    "        num_cols = 3 if num_features > 1 else 1\n",
    "        \n",
    "        # Create subplots\n",
    "        fig, axes = plt.subplots(num_rows, num_cols, figsize=(30, 6*num_rows), gridspec_kw={'hspace': 0.25, 'wspace': 0.2})\n",
    "        \n",
    "        # Flatten the axes list for easy iteration\n",
    "        axes = axes.flatten()\n",
    "        \n",
    "        for i, feature in enumerate(features):\n",
    "            # Determine the current subplot\n",
    "            ax = axes[i]\n",
    "            \n",
    "            sns.countplot(x=feature, data=data, hue=hue, palette=palette, ax=ax)\n",
    "                \n",
    "            # Add counts at the top of the bars\n",
    "            for p in ax.patches:\n",
    "                ax.annotate(f'{round(p.get_height())}', (p.get_x() + p.get_width() / 2, p.get_height() + 1),\n",
    "                            ha='center', va='bottom')\n",
    "            \n",
    "            ax.set_title(feature)  \n",
    "            ax.set_xlabel('')\n",
    "\n",
    "        # Remove any empty subplots\n",
    "        for i in range(num_features, len(axes)):\n",
    "            fig.delaxes(axes[i])\n",
    "        \n",
    "        # Adjust layout and show the plots\n",
    "        plt.tight_layout()\n",
    "        plt.show()\n",
    "    \n",
    "    except Exception as e:\n",
    "        raise CustomException(e, sys)\n"
   ]
  }
 ],
 "metadata": {
  "kernelspec": {
   "display_name": "Python 3",
   "language": "python",
   "name": "python3"
  },
  "language_info": {
   "codemirror_mode": {
    "name": "ipython",
    "version": 3
   },
   "file_extension": ".py",
   "mimetype": "text/x-python",
   "name": "python",
   "nbconvert_exporter": "python",
   "pygments_lexer": "ipython3",
   "version": "3.11.4"
  },
  "orig_nbformat": 4
 },
 "nbformat": 4,
 "nbformat_minor": 2
}
